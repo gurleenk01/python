{
  "nbformat": 4,
  "nbformat_minor": 0,
  "metadata": {
    "colab": {
      "provenance": [],
      "authorship_tag": "ABX9TyPnz8OcQ4RBE4yeNO29XJKP",
      "include_colab_link": true
    },
    "kernelspec": {
      "name": "python3",
      "display_name": "Python 3"
    },
    "language_info": {
      "name": "python"
    }
  },
  "cells": [
    {
      "cell_type": "markdown",
      "metadata": {
        "id": "view-in-github",
        "colab_type": "text"
      },
      "source": [
        "<a href=\"https://colab.research.google.com/github/gurleenk01/python/blob/main/ProjectNYC.ipynb\" target=\"_parent\"><img src=\"https://colab.research.google.com/assets/colab-badge.svg\" alt=\"Open In Colab\"/></a>"
      ]
    },
    {
      "cell_type": "markdown",
      "source": [
        "## NYC Fare prediction"
      ],
      "metadata": {
        "id": "ZhmkNx893ipX"
      }
    },
    {
      "cell_type": "markdown",
      "source": [
        "Problem Statement: Predict the fare of the Taxi using the given dataset."
      ],
      "metadata": {
        "id": "hJY-8PyY3ufp"
      }
    },
    {
      "cell_type": "markdown",
      "source": [
        "It is a regression problem because the output variable is of a continuous nature."
      ],
      "metadata": {
        "id": "otr-eryt33p1"
      }
    },
    {
      "cell_type": "code",
      "execution_count": 4,
      "metadata": {
        "id": "H33h-pZCCYgY"
      },
      "outputs": [],
      "source": [
        "import numpy as np\n",
        "import pandas as pd\n",
        "import matplotlib.pyplot as plt\n",
        "import seaborn as sns\n",
        "%matplotlib inline\n",
        "from sklearn.preprocessing import StandardScaler"
      ]
    },
    {
      "cell_type": "code",
      "source": [
        "df = pd.read_csv(\"https://raw.githubusercontent.com/Premalatha-success/Datasets/main/TaxiFare.csv\")"
      ],
      "metadata": {
        "id": "xk0WArx4Pg0K"
      },
      "execution_count": 5,
      "outputs": []
    },
    {
      "cell_type": "code",
      "source": [
        "\n",
        "#@title DATA UNDERSTANDING AND VISUALIZATION"
      ],
      "metadata": {
        "id": "eiiVdE45ch-B"
      },
      "execution_count": 6,
      "outputs": []
    },
    {
      "cell_type": "code",
      "source": [
        "df.describe()"
      ],
      "metadata": {
        "colab": {
          "base_uri": "https://localhost:8080/",
          "height": 300
        },
        "id": "Et9Mo5bnI_Pd",
        "outputId": "22de273c-dba4-4e47-aecf-09171c5e11ff"
      },
      "execution_count": 7,
      "outputs": [
        {
          "output_type": "execute_result",
          "data": {
            "text/plain": [
              "             amount  longitude_of_pickup  latitude_of_pickup  \\\n",
              "count  50000.000000         50000.000000        50000.000000   \n",
              "mean      11.364171           -72.509756           39.933759   \n",
              "std        9.685557            10.393860            6.224857   \n",
              "min       -5.000000           -75.423848          -74.006893   \n",
              "25%        6.000000           -73.992062           40.734880   \n",
              "50%        8.500000           -73.981840           40.752678   \n",
              "75%       12.500000           -73.967148           40.767360   \n",
              "max      200.000000            40.783472          401.083332   \n",
              "\n",
              "       longitude_of_dropoff  latitude_of_dropoff  no_of_passenger  \n",
              "count          50000.000000         50000.000000     50000.000000  \n",
              "mean             -72.504616            39.926251         1.667840  \n",
              "std               10.407570             6.014737         1.289195  \n",
              "min              -84.654241           -74.006377         0.000000  \n",
              "25%              -73.991152            40.734372         1.000000  \n",
              "50%              -73.980082            40.753372         1.000000  \n",
              "75%              -73.963584            40.768167         2.000000  \n",
              "max               40.851027            43.415190         6.000000  "
            ],
            "text/html": [
              "\n",
              "  <div id=\"df-56451cec-97fa-409e-afaa-60d25b2ba5b7\">\n",
              "    <div class=\"colab-df-container\">\n",
              "      <div>\n",
              "<style scoped>\n",
              "    .dataframe tbody tr th:only-of-type {\n",
              "        vertical-align: middle;\n",
              "    }\n",
              "\n",
              "    .dataframe tbody tr th {\n",
              "        vertical-align: top;\n",
              "    }\n",
              "\n",
              "    .dataframe thead th {\n",
              "        text-align: right;\n",
              "    }\n",
              "</style>\n",
              "<table border=\"1\" class=\"dataframe\">\n",
              "  <thead>\n",
              "    <tr style=\"text-align: right;\">\n",
              "      <th></th>\n",
              "      <th>amount</th>\n",
              "      <th>longitude_of_pickup</th>\n",
              "      <th>latitude_of_pickup</th>\n",
              "      <th>longitude_of_dropoff</th>\n",
              "      <th>latitude_of_dropoff</th>\n",
              "      <th>no_of_passenger</th>\n",
              "    </tr>\n",
              "  </thead>\n",
              "  <tbody>\n",
              "    <tr>\n",
              "      <th>count</th>\n",
              "      <td>50000.000000</td>\n",
              "      <td>50000.000000</td>\n",
              "      <td>50000.000000</td>\n",
              "      <td>50000.000000</td>\n",
              "      <td>50000.000000</td>\n",
              "      <td>50000.000000</td>\n",
              "    </tr>\n",
              "    <tr>\n",
              "      <th>mean</th>\n",
              "      <td>11.364171</td>\n",
              "      <td>-72.509756</td>\n",
              "      <td>39.933759</td>\n",
              "      <td>-72.504616</td>\n",
              "      <td>39.926251</td>\n",
              "      <td>1.667840</td>\n",
              "    </tr>\n",
              "    <tr>\n",
              "      <th>std</th>\n",
              "      <td>9.685557</td>\n",
              "      <td>10.393860</td>\n",
              "      <td>6.224857</td>\n",
              "      <td>10.407570</td>\n",
              "      <td>6.014737</td>\n",
              "      <td>1.289195</td>\n",
              "    </tr>\n",
              "    <tr>\n",
              "      <th>min</th>\n",
              "      <td>-5.000000</td>\n",
              "      <td>-75.423848</td>\n",
              "      <td>-74.006893</td>\n",
              "      <td>-84.654241</td>\n",
              "      <td>-74.006377</td>\n",
              "      <td>0.000000</td>\n",
              "    </tr>\n",
              "    <tr>\n",
              "      <th>25%</th>\n",
              "      <td>6.000000</td>\n",
              "      <td>-73.992062</td>\n",
              "      <td>40.734880</td>\n",
              "      <td>-73.991152</td>\n",
              "      <td>40.734372</td>\n",
              "      <td>1.000000</td>\n",
              "    </tr>\n",
              "    <tr>\n",
              "      <th>50%</th>\n",
              "      <td>8.500000</td>\n",
              "      <td>-73.981840</td>\n",
              "      <td>40.752678</td>\n",
              "      <td>-73.980082</td>\n",
              "      <td>40.753372</td>\n",
              "      <td>1.000000</td>\n",
              "    </tr>\n",
              "    <tr>\n",
              "      <th>75%</th>\n",
              "      <td>12.500000</td>\n",
              "      <td>-73.967148</td>\n",
              "      <td>40.767360</td>\n",
              "      <td>-73.963584</td>\n",
              "      <td>40.768167</td>\n",
              "      <td>2.000000</td>\n",
              "    </tr>\n",
              "    <tr>\n",
              "      <th>max</th>\n",
              "      <td>200.000000</td>\n",
              "      <td>40.783472</td>\n",
              "      <td>401.083332</td>\n",
              "      <td>40.851027</td>\n",
              "      <td>43.415190</td>\n",
              "      <td>6.000000</td>\n",
              "    </tr>\n",
              "  </tbody>\n",
              "</table>\n",
              "</div>\n",
              "      <button class=\"colab-df-convert\" onclick=\"convertToInteractive('df-56451cec-97fa-409e-afaa-60d25b2ba5b7')\"\n",
              "              title=\"Convert this dataframe to an interactive table.\"\n",
              "              style=\"display:none;\">\n",
              "        \n",
              "  <svg xmlns=\"http://www.w3.org/2000/svg\" height=\"24px\"viewBox=\"0 0 24 24\"\n",
              "       width=\"24px\">\n",
              "    <path d=\"M0 0h24v24H0V0z\" fill=\"none\"/>\n",
              "    <path d=\"M18.56 5.44l.94 2.06.94-2.06 2.06-.94-2.06-.94-.94-2.06-.94 2.06-2.06.94zm-11 1L8.5 8.5l.94-2.06 2.06-.94-2.06-.94L8.5 2.5l-.94 2.06-2.06.94zm10 10l.94 2.06.94-2.06 2.06-.94-2.06-.94-.94-2.06-.94 2.06-2.06.94z\"/><path d=\"M17.41 7.96l-1.37-1.37c-.4-.4-.92-.59-1.43-.59-.52 0-1.04.2-1.43.59L10.3 9.45l-7.72 7.72c-.78.78-.78 2.05 0 2.83L4 21.41c.39.39.9.59 1.41.59.51 0 1.02-.2 1.41-.59l7.78-7.78 2.81-2.81c.8-.78.8-2.07 0-2.86zM5.41 20L4 18.59l7.72-7.72 1.47 1.35L5.41 20z\"/>\n",
              "  </svg>\n",
              "      </button>\n",
              "      \n",
              "  <style>\n",
              "    .colab-df-container {\n",
              "      display:flex;\n",
              "      flex-wrap:wrap;\n",
              "      gap: 12px;\n",
              "    }\n",
              "\n",
              "    .colab-df-convert {\n",
              "      background-color: #E8F0FE;\n",
              "      border: none;\n",
              "      border-radius: 50%;\n",
              "      cursor: pointer;\n",
              "      display: none;\n",
              "      fill: #1967D2;\n",
              "      height: 32px;\n",
              "      padding: 0 0 0 0;\n",
              "      width: 32px;\n",
              "    }\n",
              "\n",
              "    .colab-df-convert:hover {\n",
              "      background-color: #E2EBFA;\n",
              "      box-shadow: 0px 1px 2px rgba(60, 64, 67, 0.3), 0px 1px 3px 1px rgba(60, 64, 67, 0.15);\n",
              "      fill: #174EA6;\n",
              "    }\n",
              "\n",
              "    [theme=dark] .colab-df-convert {\n",
              "      background-color: #3B4455;\n",
              "      fill: #D2E3FC;\n",
              "    }\n",
              "\n",
              "    [theme=dark] .colab-df-convert:hover {\n",
              "      background-color: #434B5C;\n",
              "      box-shadow: 0px 1px 3px 1px rgba(0, 0, 0, 0.15);\n",
              "      filter: drop-shadow(0px 1px 2px rgba(0, 0, 0, 0.3));\n",
              "      fill: #FFFFFF;\n",
              "    }\n",
              "  </style>\n",
              "\n",
              "      <script>\n",
              "        const buttonEl =\n",
              "          document.querySelector('#df-56451cec-97fa-409e-afaa-60d25b2ba5b7 button.colab-df-convert');\n",
              "        buttonEl.style.display =\n",
              "          google.colab.kernel.accessAllowed ? 'block' : 'none';\n",
              "\n",
              "        async function convertToInteractive(key) {\n",
              "          const element = document.querySelector('#df-56451cec-97fa-409e-afaa-60d25b2ba5b7');\n",
              "          const dataTable =\n",
              "            await google.colab.kernel.invokeFunction('convertToInteractive',\n",
              "                                                     [key], {});\n",
              "          if (!dataTable) return;\n",
              "\n",
              "          const docLinkHtml = 'Like what you see? Visit the ' +\n",
              "            '<a target=\"_blank\" href=https://colab.research.google.com/notebooks/data_table.ipynb>data table notebook</a>'\n",
              "            + ' to learn more about interactive tables.';\n",
              "          element.innerHTML = '';\n",
              "          dataTable['output_type'] = 'display_data';\n",
              "          await google.colab.output.renderOutput(dataTable, element);\n",
              "          const docLink = document.createElement('div');\n",
              "          docLink.innerHTML = docLinkHtml;\n",
              "          element.appendChild(docLink);\n",
              "        }\n",
              "      </script>\n",
              "    </div>\n",
              "  </div>\n",
              "  "
            ]
          },
          "metadata": {},
          "execution_count": 7
        }
      ]
    },
    {
      "cell_type": "code",
      "source": [
        "df.info()"
      ],
      "metadata": {
        "colab": {
          "base_uri": "https://localhost:8080/"
        },
        "id": "Zs6Q-jS1K4iJ",
        "outputId": "94d69fe3-33f3-4419-d1b6-57fdd1dacdd4"
      },
      "execution_count": 8,
      "outputs": [
        {
          "output_type": "stream",
          "name": "stdout",
          "text": [
            "<class 'pandas.core.frame.DataFrame'>\n",
            "RangeIndex: 50000 entries, 0 to 49999\n",
            "Data columns (total 8 columns):\n",
            " #   Column                Non-Null Count  Dtype  \n",
            "---  ------                --------------  -----  \n",
            " 0   unique_id             50000 non-null  object \n",
            " 1   amount                50000 non-null  float64\n",
            " 2   date_time_of_pickup   50000 non-null  object \n",
            " 3   longitude_of_pickup   50000 non-null  float64\n",
            " 4   latitude_of_pickup    50000 non-null  float64\n",
            " 5   longitude_of_dropoff  50000 non-null  float64\n",
            " 6   latitude_of_dropoff   50000 non-null  float64\n",
            " 7   no_of_passenger       50000 non-null  int64  \n",
            "dtypes: float64(5), int64(1), object(2)\n",
            "memory usage: 3.1+ MB\n"
          ]
        }
      ]
    },
    {
      "cell_type": "code",
      "source": [
        "df.isnull().sum()"
      ],
      "metadata": {
        "colab": {
          "base_uri": "https://localhost:8080/"
        },
        "id": "V45o7pgdLFwv",
        "outputId": "36338945-7aff-4f04-cbe5-35373898f9f0"
      },
      "execution_count": 9,
      "outputs": [
        {
          "output_type": "execute_result",
          "data": {
            "text/plain": [
              "unique_id               0\n",
              "amount                  0\n",
              "date_time_of_pickup     0\n",
              "longitude_of_pickup     0\n",
              "latitude_of_pickup      0\n",
              "longitude_of_dropoff    0\n",
              "latitude_of_dropoff     0\n",
              "no_of_passenger         0\n",
              "dtype: int64"
            ]
          },
          "metadata": {},
          "execution_count": 9
        }
      ]
    },
    {
      "cell_type": "code",
      "source": [
        "df.shape"
      ],
      "metadata": {
        "colab": {
          "base_uri": "https://localhost:8080/"
        },
        "id": "X1DwGtoBRexC",
        "outputId": "ae2560ba-9e1e-46ab-9d3a-d62b0adfcb42"
      },
      "execution_count": 10,
      "outputs": [
        {
          "output_type": "execute_result",
          "data": {
            "text/plain": [
              "(50000, 8)"
            ]
          },
          "metadata": {},
          "execution_count": 10
        }
      ]
    },
    {
      "cell_type": "code",
      "source": [
        "df.drop(['unique_id'],axis=1)"
      ],
      "metadata": {
        "colab": {
          "base_uri": "https://localhost:8080/",
          "height": 423
        },
        "id": "_TCCo_DBRjAl",
        "outputId": "d3a3c5d3-c01f-4929-95f0-07fcc8d30e20"
      },
      "execution_count": 11,
      "outputs": [
        {
          "output_type": "execute_result",
          "data": {
            "text/plain": [
              "       amount      date_time_of_pickup  longitude_of_pickup  \\\n",
              "0         4.5  2009-06-15 17:26:21 UTC           -73.844311   \n",
              "1        16.9  2010-01-05 16:52:16 UTC           -74.016048   \n",
              "2         5.7  2011-08-18 00:35:00 UTC           -73.982738   \n",
              "3         7.7  2012-04-21 04:30:42 UTC           -73.987130   \n",
              "4         5.3  2010-03-09 07:51:00 UTC           -73.968095   \n",
              "...       ...                      ...                  ...   \n",
              "49995    15.0  2013-06-12 23:25:15 UTC           -73.999973   \n",
              "49996     7.5  2015-06-22 17:19:18 UTC           -73.984756   \n",
              "49997     6.9  2011-01-30 04:53:00 UTC           -74.002698   \n",
              "49998     4.5  2012-11-06 07:09:00 UTC           -73.946062   \n",
              "49999    10.9  2010-01-13 08:13:14 UTC           -73.932603   \n",
              "\n",
              "       latitude_of_pickup  longitude_of_dropoff  latitude_of_dropoff  \\\n",
              "0               40.721319            -73.841610            40.712278   \n",
              "1               40.711303            -73.979268            40.782004   \n",
              "2               40.761270            -73.991242            40.750562   \n",
              "3               40.733143            -73.991567            40.758092   \n",
              "4               40.768008            -73.956655            40.783762   \n",
              "...                   ...                   ...                  ...   \n",
              "49995           40.748531            -74.016899            40.705993   \n",
              "49996           40.768211            -73.987366            40.760597   \n",
              "49997           40.739428            -73.998108            40.759483   \n",
              "49998           40.777567            -73.953450            40.779687   \n",
              "49999           40.763805            -73.932603            40.763805   \n",
              "\n",
              "       no_of_passenger  \n",
              "0                    1  \n",
              "1                    1  \n",
              "2                    2  \n",
              "3                    1  \n",
              "4                    1  \n",
              "...                ...  \n",
              "49995                1  \n",
              "49996                1  \n",
              "49997                1  \n",
              "49998                2  \n",
              "49999                1  \n",
              "\n",
              "[50000 rows x 7 columns]"
            ],
            "text/html": [
              "\n",
              "  <div id=\"df-1a2d7067-e9c3-468d-bda7-d47a3a90e706\">\n",
              "    <div class=\"colab-df-container\">\n",
              "      <div>\n",
              "<style scoped>\n",
              "    .dataframe tbody tr th:only-of-type {\n",
              "        vertical-align: middle;\n",
              "    }\n",
              "\n",
              "    .dataframe tbody tr th {\n",
              "        vertical-align: top;\n",
              "    }\n",
              "\n",
              "    .dataframe thead th {\n",
              "        text-align: right;\n",
              "    }\n",
              "</style>\n",
              "<table border=\"1\" class=\"dataframe\">\n",
              "  <thead>\n",
              "    <tr style=\"text-align: right;\">\n",
              "      <th></th>\n",
              "      <th>amount</th>\n",
              "      <th>date_time_of_pickup</th>\n",
              "      <th>longitude_of_pickup</th>\n",
              "      <th>latitude_of_pickup</th>\n",
              "      <th>longitude_of_dropoff</th>\n",
              "      <th>latitude_of_dropoff</th>\n",
              "      <th>no_of_passenger</th>\n",
              "    </tr>\n",
              "  </thead>\n",
              "  <tbody>\n",
              "    <tr>\n",
              "      <th>0</th>\n",
              "      <td>4.5</td>\n",
              "      <td>2009-06-15 17:26:21 UTC</td>\n",
              "      <td>-73.844311</td>\n",
              "      <td>40.721319</td>\n",
              "      <td>-73.841610</td>\n",
              "      <td>40.712278</td>\n",
              "      <td>1</td>\n",
              "    </tr>\n",
              "    <tr>\n",
              "      <th>1</th>\n",
              "      <td>16.9</td>\n",
              "      <td>2010-01-05 16:52:16 UTC</td>\n",
              "      <td>-74.016048</td>\n",
              "      <td>40.711303</td>\n",
              "      <td>-73.979268</td>\n",
              "      <td>40.782004</td>\n",
              "      <td>1</td>\n",
              "    </tr>\n",
              "    <tr>\n",
              "      <th>2</th>\n",
              "      <td>5.7</td>\n",
              "      <td>2011-08-18 00:35:00 UTC</td>\n",
              "      <td>-73.982738</td>\n",
              "      <td>40.761270</td>\n",
              "      <td>-73.991242</td>\n",
              "      <td>40.750562</td>\n",
              "      <td>2</td>\n",
              "    </tr>\n",
              "    <tr>\n",
              "      <th>3</th>\n",
              "      <td>7.7</td>\n",
              "      <td>2012-04-21 04:30:42 UTC</td>\n",
              "      <td>-73.987130</td>\n",
              "      <td>40.733143</td>\n",
              "      <td>-73.991567</td>\n",
              "      <td>40.758092</td>\n",
              "      <td>1</td>\n",
              "    </tr>\n",
              "    <tr>\n",
              "      <th>4</th>\n",
              "      <td>5.3</td>\n",
              "      <td>2010-03-09 07:51:00 UTC</td>\n",
              "      <td>-73.968095</td>\n",
              "      <td>40.768008</td>\n",
              "      <td>-73.956655</td>\n",
              "      <td>40.783762</td>\n",
              "      <td>1</td>\n",
              "    </tr>\n",
              "    <tr>\n",
              "      <th>...</th>\n",
              "      <td>...</td>\n",
              "      <td>...</td>\n",
              "      <td>...</td>\n",
              "      <td>...</td>\n",
              "      <td>...</td>\n",
              "      <td>...</td>\n",
              "      <td>...</td>\n",
              "    </tr>\n",
              "    <tr>\n",
              "      <th>49995</th>\n",
              "      <td>15.0</td>\n",
              "      <td>2013-06-12 23:25:15 UTC</td>\n",
              "      <td>-73.999973</td>\n",
              "      <td>40.748531</td>\n",
              "      <td>-74.016899</td>\n",
              "      <td>40.705993</td>\n",
              "      <td>1</td>\n",
              "    </tr>\n",
              "    <tr>\n",
              "      <th>49996</th>\n",
              "      <td>7.5</td>\n",
              "      <td>2015-06-22 17:19:18 UTC</td>\n",
              "      <td>-73.984756</td>\n",
              "      <td>40.768211</td>\n",
              "      <td>-73.987366</td>\n",
              "      <td>40.760597</td>\n",
              "      <td>1</td>\n",
              "    </tr>\n",
              "    <tr>\n",
              "      <th>49997</th>\n",
              "      <td>6.9</td>\n",
              "      <td>2011-01-30 04:53:00 UTC</td>\n",
              "      <td>-74.002698</td>\n",
              "      <td>40.739428</td>\n",
              "      <td>-73.998108</td>\n",
              "      <td>40.759483</td>\n",
              "      <td>1</td>\n",
              "    </tr>\n",
              "    <tr>\n",
              "      <th>49998</th>\n",
              "      <td>4.5</td>\n",
              "      <td>2012-11-06 07:09:00 UTC</td>\n",
              "      <td>-73.946062</td>\n",
              "      <td>40.777567</td>\n",
              "      <td>-73.953450</td>\n",
              "      <td>40.779687</td>\n",
              "      <td>2</td>\n",
              "    </tr>\n",
              "    <tr>\n",
              "      <th>49999</th>\n",
              "      <td>10.9</td>\n",
              "      <td>2010-01-13 08:13:14 UTC</td>\n",
              "      <td>-73.932603</td>\n",
              "      <td>40.763805</td>\n",
              "      <td>-73.932603</td>\n",
              "      <td>40.763805</td>\n",
              "      <td>1</td>\n",
              "    </tr>\n",
              "  </tbody>\n",
              "</table>\n",
              "<p>50000 rows × 7 columns</p>\n",
              "</div>\n",
              "      <button class=\"colab-df-convert\" onclick=\"convertToInteractive('df-1a2d7067-e9c3-468d-bda7-d47a3a90e706')\"\n",
              "              title=\"Convert this dataframe to an interactive table.\"\n",
              "              style=\"display:none;\">\n",
              "        \n",
              "  <svg xmlns=\"http://www.w3.org/2000/svg\" height=\"24px\"viewBox=\"0 0 24 24\"\n",
              "       width=\"24px\">\n",
              "    <path d=\"M0 0h24v24H0V0z\" fill=\"none\"/>\n",
              "    <path d=\"M18.56 5.44l.94 2.06.94-2.06 2.06-.94-2.06-.94-.94-2.06-.94 2.06-2.06.94zm-11 1L8.5 8.5l.94-2.06 2.06-.94-2.06-.94L8.5 2.5l-.94 2.06-2.06.94zm10 10l.94 2.06.94-2.06 2.06-.94-2.06-.94-.94-2.06-.94 2.06-2.06.94z\"/><path d=\"M17.41 7.96l-1.37-1.37c-.4-.4-.92-.59-1.43-.59-.52 0-1.04.2-1.43.59L10.3 9.45l-7.72 7.72c-.78.78-.78 2.05 0 2.83L4 21.41c.39.39.9.59 1.41.59.51 0 1.02-.2 1.41-.59l7.78-7.78 2.81-2.81c.8-.78.8-2.07 0-2.86zM5.41 20L4 18.59l7.72-7.72 1.47 1.35L5.41 20z\"/>\n",
              "  </svg>\n",
              "      </button>\n",
              "      \n",
              "  <style>\n",
              "    .colab-df-container {\n",
              "      display:flex;\n",
              "      flex-wrap:wrap;\n",
              "      gap: 12px;\n",
              "    }\n",
              "\n",
              "    .colab-df-convert {\n",
              "      background-color: #E8F0FE;\n",
              "      border: none;\n",
              "      border-radius: 50%;\n",
              "      cursor: pointer;\n",
              "      display: none;\n",
              "      fill: #1967D2;\n",
              "      height: 32px;\n",
              "      padding: 0 0 0 0;\n",
              "      width: 32px;\n",
              "    }\n",
              "\n",
              "    .colab-df-convert:hover {\n",
              "      background-color: #E2EBFA;\n",
              "      box-shadow: 0px 1px 2px rgba(60, 64, 67, 0.3), 0px 1px 3px 1px rgba(60, 64, 67, 0.15);\n",
              "      fill: #174EA6;\n",
              "    }\n",
              "\n",
              "    [theme=dark] .colab-df-convert {\n",
              "      background-color: #3B4455;\n",
              "      fill: #D2E3FC;\n",
              "    }\n",
              "\n",
              "    [theme=dark] .colab-df-convert:hover {\n",
              "      background-color: #434B5C;\n",
              "      box-shadow: 0px 1px 3px 1px rgba(0, 0, 0, 0.15);\n",
              "      filter: drop-shadow(0px 1px 2px rgba(0, 0, 0, 0.3));\n",
              "      fill: #FFFFFF;\n",
              "    }\n",
              "  </style>\n",
              "\n",
              "      <script>\n",
              "        const buttonEl =\n",
              "          document.querySelector('#df-1a2d7067-e9c3-468d-bda7-d47a3a90e706 button.colab-df-convert');\n",
              "        buttonEl.style.display =\n",
              "          google.colab.kernel.accessAllowed ? 'block' : 'none';\n",
              "\n",
              "        async function convertToInteractive(key) {\n",
              "          const element = document.querySelector('#df-1a2d7067-e9c3-468d-bda7-d47a3a90e706');\n",
              "          const dataTable =\n",
              "            await google.colab.kernel.invokeFunction('convertToInteractive',\n",
              "                                                     [key], {});\n",
              "          if (!dataTable) return;\n",
              "\n",
              "          const docLinkHtml = 'Like what you see? Visit the ' +\n",
              "            '<a target=\"_blank\" href=https://colab.research.google.com/notebooks/data_table.ipynb>data table notebook</a>'\n",
              "            + ' to learn more about interactive tables.';\n",
              "          element.innerHTML = '';\n",
              "          dataTable['output_type'] = 'display_data';\n",
              "          await google.colab.output.renderOutput(dataTable, element);\n",
              "          const docLink = document.createElement('div');\n",
              "          docLink.innerHTML = docLinkHtml;\n",
              "          element.appendChild(docLink);\n",
              "        }\n",
              "      </script>\n",
              "    </div>\n",
              "  </div>\n",
              "  "
            ]
          },
          "metadata": {},
          "execution_count": 11
        }
      ]
    },
    {
      "cell_type": "code",
      "source": [
        "# Things to do\n",
        "## check outliers and remove them from longitude and latitude \n",
        "## make differenct columns from date time pickup i.e. year month date day of week hour and drop datetimeofpickup\n",
        "## outliers in  amount\n",
        "##eda\n"
      ],
      "metadata": {
        "id": "LcAzB78oZp7p"
      },
      "execution_count": 12,
      "outputs": []
    },
    {
      "cell_type": "code",
      "source": [
        "df.describe(include='all')"
      ],
      "metadata": {
        "colab": {
          "base_uri": "https://localhost:8080/",
          "height": 394
        },
        "id": "pdX5FudYcFQM",
        "outputId": "889914b4-827a-44e4-fae4-f78d500d64cf"
      },
      "execution_count": 13,
      "outputs": [
        {
          "output_type": "execute_result",
          "data": {
            "text/plain": [
              "       unique_id        amount      date_time_of_pickup  longitude_of_pickup  \\\n",
              "count      50000  50000.000000                    50000         50000.000000   \n",
              "unique      3597           NaN                    49555                  NaN   \n",
              "top      26:00.0           NaN  2011-09-03 01:30:00 UTC                  NaN   \n",
              "freq         457           NaN                        3                  NaN   \n",
              "mean         NaN     11.364171                      NaN           -72.509756   \n",
              "std          NaN      9.685557                      NaN            10.393860   \n",
              "min          NaN     -5.000000                      NaN           -75.423848   \n",
              "25%          NaN      6.000000                      NaN           -73.992062   \n",
              "50%          NaN      8.500000                      NaN           -73.981840   \n",
              "75%          NaN     12.500000                      NaN           -73.967148   \n",
              "max          NaN    200.000000                      NaN            40.783472   \n",
              "\n",
              "        latitude_of_pickup  longitude_of_dropoff  latitude_of_dropoff  \\\n",
              "count         50000.000000          50000.000000         50000.000000   \n",
              "unique                 NaN                   NaN                  NaN   \n",
              "top                    NaN                   NaN                  NaN   \n",
              "freq                   NaN                   NaN                  NaN   \n",
              "mean             39.933759            -72.504616            39.926251   \n",
              "std               6.224857             10.407570             6.014737   \n",
              "min             -74.006893            -84.654241           -74.006377   \n",
              "25%              40.734880            -73.991152            40.734372   \n",
              "50%              40.752678            -73.980082            40.753372   \n",
              "75%              40.767360            -73.963584            40.768167   \n",
              "max             401.083332             40.851027            43.415190   \n",
              "\n",
              "        no_of_passenger  \n",
              "count      50000.000000  \n",
              "unique              NaN  \n",
              "top                 NaN  \n",
              "freq                NaN  \n",
              "mean           1.667840  \n",
              "std            1.289195  \n",
              "min            0.000000  \n",
              "25%            1.000000  \n",
              "50%            1.000000  \n",
              "75%            2.000000  \n",
              "max            6.000000  "
            ],
            "text/html": [
              "\n",
              "  <div id=\"df-4d7fafcb-771e-4095-ad6e-c3c2a4c350ad\">\n",
              "    <div class=\"colab-df-container\">\n",
              "      <div>\n",
              "<style scoped>\n",
              "    .dataframe tbody tr th:only-of-type {\n",
              "        vertical-align: middle;\n",
              "    }\n",
              "\n",
              "    .dataframe tbody tr th {\n",
              "        vertical-align: top;\n",
              "    }\n",
              "\n",
              "    .dataframe thead th {\n",
              "        text-align: right;\n",
              "    }\n",
              "</style>\n",
              "<table border=\"1\" class=\"dataframe\">\n",
              "  <thead>\n",
              "    <tr style=\"text-align: right;\">\n",
              "      <th></th>\n",
              "      <th>unique_id</th>\n",
              "      <th>amount</th>\n",
              "      <th>date_time_of_pickup</th>\n",
              "      <th>longitude_of_pickup</th>\n",
              "      <th>latitude_of_pickup</th>\n",
              "      <th>longitude_of_dropoff</th>\n",
              "      <th>latitude_of_dropoff</th>\n",
              "      <th>no_of_passenger</th>\n",
              "    </tr>\n",
              "  </thead>\n",
              "  <tbody>\n",
              "    <tr>\n",
              "      <th>count</th>\n",
              "      <td>50000</td>\n",
              "      <td>50000.000000</td>\n",
              "      <td>50000</td>\n",
              "      <td>50000.000000</td>\n",
              "      <td>50000.000000</td>\n",
              "      <td>50000.000000</td>\n",
              "      <td>50000.000000</td>\n",
              "      <td>50000.000000</td>\n",
              "    </tr>\n",
              "    <tr>\n",
              "      <th>unique</th>\n",
              "      <td>3597</td>\n",
              "      <td>NaN</td>\n",
              "      <td>49555</td>\n",
              "      <td>NaN</td>\n",
              "      <td>NaN</td>\n",
              "      <td>NaN</td>\n",
              "      <td>NaN</td>\n",
              "      <td>NaN</td>\n",
              "    </tr>\n",
              "    <tr>\n",
              "      <th>top</th>\n",
              "      <td>26:00.0</td>\n",
              "      <td>NaN</td>\n",
              "      <td>2011-09-03 01:30:00 UTC</td>\n",
              "      <td>NaN</td>\n",
              "      <td>NaN</td>\n",
              "      <td>NaN</td>\n",
              "      <td>NaN</td>\n",
              "      <td>NaN</td>\n",
              "    </tr>\n",
              "    <tr>\n",
              "      <th>freq</th>\n",
              "      <td>457</td>\n",
              "      <td>NaN</td>\n",
              "      <td>3</td>\n",
              "      <td>NaN</td>\n",
              "      <td>NaN</td>\n",
              "      <td>NaN</td>\n",
              "      <td>NaN</td>\n",
              "      <td>NaN</td>\n",
              "    </tr>\n",
              "    <tr>\n",
              "      <th>mean</th>\n",
              "      <td>NaN</td>\n",
              "      <td>11.364171</td>\n",
              "      <td>NaN</td>\n",
              "      <td>-72.509756</td>\n",
              "      <td>39.933759</td>\n",
              "      <td>-72.504616</td>\n",
              "      <td>39.926251</td>\n",
              "      <td>1.667840</td>\n",
              "    </tr>\n",
              "    <tr>\n",
              "      <th>std</th>\n",
              "      <td>NaN</td>\n",
              "      <td>9.685557</td>\n",
              "      <td>NaN</td>\n",
              "      <td>10.393860</td>\n",
              "      <td>6.224857</td>\n",
              "      <td>10.407570</td>\n",
              "      <td>6.014737</td>\n",
              "      <td>1.289195</td>\n",
              "    </tr>\n",
              "    <tr>\n",
              "      <th>min</th>\n",
              "      <td>NaN</td>\n",
              "      <td>-5.000000</td>\n",
              "      <td>NaN</td>\n",
              "      <td>-75.423848</td>\n",
              "      <td>-74.006893</td>\n",
              "      <td>-84.654241</td>\n",
              "      <td>-74.006377</td>\n",
              "      <td>0.000000</td>\n",
              "    </tr>\n",
              "    <tr>\n",
              "      <th>25%</th>\n",
              "      <td>NaN</td>\n",
              "      <td>6.000000</td>\n",
              "      <td>NaN</td>\n",
              "      <td>-73.992062</td>\n",
              "      <td>40.734880</td>\n",
              "      <td>-73.991152</td>\n",
              "      <td>40.734372</td>\n",
              "      <td>1.000000</td>\n",
              "    </tr>\n",
              "    <tr>\n",
              "      <th>50%</th>\n",
              "      <td>NaN</td>\n",
              "      <td>8.500000</td>\n",
              "      <td>NaN</td>\n",
              "      <td>-73.981840</td>\n",
              "      <td>40.752678</td>\n",
              "      <td>-73.980082</td>\n",
              "      <td>40.753372</td>\n",
              "      <td>1.000000</td>\n",
              "    </tr>\n",
              "    <tr>\n",
              "      <th>75%</th>\n",
              "      <td>NaN</td>\n",
              "      <td>12.500000</td>\n",
              "      <td>NaN</td>\n",
              "      <td>-73.967148</td>\n",
              "      <td>40.767360</td>\n",
              "      <td>-73.963584</td>\n",
              "      <td>40.768167</td>\n",
              "      <td>2.000000</td>\n",
              "    </tr>\n",
              "    <tr>\n",
              "      <th>max</th>\n",
              "      <td>NaN</td>\n",
              "      <td>200.000000</td>\n",
              "      <td>NaN</td>\n",
              "      <td>40.783472</td>\n",
              "      <td>401.083332</td>\n",
              "      <td>40.851027</td>\n",
              "      <td>43.415190</td>\n",
              "      <td>6.000000</td>\n",
              "    </tr>\n",
              "  </tbody>\n",
              "</table>\n",
              "</div>\n",
              "      <button class=\"colab-df-convert\" onclick=\"convertToInteractive('df-4d7fafcb-771e-4095-ad6e-c3c2a4c350ad')\"\n",
              "              title=\"Convert this dataframe to an interactive table.\"\n",
              "              style=\"display:none;\">\n",
              "        \n",
              "  <svg xmlns=\"http://www.w3.org/2000/svg\" height=\"24px\"viewBox=\"0 0 24 24\"\n",
              "       width=\"24px\">\n",
              "    <path d=\"M0 0h24v24H0V0z\" fill=\"none\"/>\n",
              "    <path d=\"M18.56 5.44l.94 2.06.94-2.06 2.06-.94-2.06-.94-.94-2.06-.94 2.06-2.06.94zm-11 1L8.5 8.5l.94-2.06 2.06-.94-2.06-.94L8.5 2.5l-.94 2.06-2.06.94zm10 10l.94 2.06.94-2.06 2.06-.94-2.06-.94-.94-2.06-.94 2.06-2.06.94z\"/><path d=\"M17.41 7.96l-1.37-1.37c-.4-.4-.92-.59-1.43-.59-.52 0-1.04.2-1.43.59L10.3 9.45l-7.72 7.72c-.78.78-.78 2.05 0 2.83L4 21.41c.39.39.9.59 1.41.59.51 0 1.02-.2 1.41-.59l7.78-7.78 2.81-2.81c.8-.78.8-2.07 0-2.86zM5.41 20L4 18.59l7.72-7.72 1.47 1.35L5.41 20z\"/>\n",
              "  </svg>\n",
              "      </button>\n",
              "      \n",
              "  <style>\n",
              "    .colab-df-container {\n",
              "      display:flex;\n",
              "      flex-wrap:wrap;\n",
              "      gap: 12px;\n",
              "    }\n",
              "\n",
              "    .colab-df-convert {\n",
              "      background-color: #E8F0FE;\n",
              "      border: none;\n",
              "      border-radius: 50%;\n",
              "      cursor: pointer;\n",
              "      display: none;\n",
              "      fill: #1967D2;\n",
              "      height: 32px;\n",
              "      padding: 0 0 0 0;\n",
              "      width: 32px;\n",
              "    }\n",
              "\n",
              "    .colab-df-convert:hover {\n",
              "      background-color: #E2EBFA;\n",
              "      box-shadow: 0px 1px 2px rgba(60, 64, 67, 0.3), 0px 1px 3px 1px rgba(60, 64, 67, 0.15);\n",
              "      fill: #174EA6;\n",
              "    }\n",
              "\n",
              "    [theme=dark] .colab-df-convert {\n",
              "      background-color: #3B4455;\n",
              "      fill: #D2E3FC;\n",
              "    }\n",
              "\n",
              "    [theme=dark] .colab-df-convert:hover {\n",
              "      background-color: #434B5C;\n",
              "      box-shadow: 0px 1px 3px 1px rgba(0, 0, 0, 0.15);\n",
              "      filter: drop-shadow(0px 1px 2px rgba(0, 0, 0, 0.3));\n",
              "      fill: #FFFFFF;\n",
              "    }\n",
              "  </style>\n",
              "\n",
              "      <script>\n",
              "        const buttonEl =\n",
              "          document.querySelector('#df-4d7fafcb-771e-4095-ad6e-c3c2a4c350ad button.colab-df-convert');\n",
              "        buttonEl.style.display =\n",
              "          google.colab.kernel.accessAllowed ? 'block' : 'none';\n",
              "\n",
              "        async function convertToInteractive(key) {\n",
              "          const element = document.querySelector('#df-4d7fafcb-771e-4095-ad6e-c3c2a4c350ad');\n",
              "          const dataTable =\n",
              "            await google.colab.kernel.invokeFunction('convertToInteractive',\n",
              "                                                     [key], {});\n",
              "          if (!dataTable) return;\n",
              "\n",
              "          const docLinkHtml = 'Like what you see? Visit the ' +\n",
              "            '<a target=\"_blank\" href=https://colab.research.google.com/notebooks/data_table.ipynb>data table notebook</a>'\n",
              "            + ' to learn more about interactive tables.';\n",
              "          element.innerHTML = '';\n",
              "          dataTable['output_type'] = 'display_data';\n",
              "          await google.colab.output.renderOutput(dataTable, element);\n",
              "          const docLink = document.createElement('div');\n",
              "          docLink.innerHTML = docLinkHtml;\n",
              "          element.appendChild(docLink);\n",
              "        }\n",
              "      </script>\n",
              "    </div>\n",
              "  </div>\n",
              "  "
            ]
          },
          "metadata": {},
          "execution_count": 13
        }
      ]
    },
    {
      "cell_type": "code",
      "source": [
        "sns.distplot(df['amount'])"
      ],
      "metadata": {
        "colab": {
          "base_uri": "https://localhost:8080/",
          "height": 354
        },
        "id": "MoxmRXYOcKhn",
        "outputId": "6c354b3b-9160-44da-f5aa-e22b9cc70375"
      },
      "execution_count": 14,
      "outputs": [
        {
          "output_type": "stream",
          "name": "stderr",
          "text": [
            "/usr/local/lib/python3.8/dist-packages/seaborn/distributions.py:2619: FutureWarning: `distplot` is a deprecated function and will be removed in a future version. Please adapt your code to use either `displot` (a figure-level function with similar flexibility) or `histplot` (an axes-level function for histograms).\n",
            "  warnings.warn(msg, FutureWarning)\n"
          ]
        },
        {
          "output_type": "execute_result",
          "data": {
            "text/plain": [
              "<matplotlib.axes._subplots.AxesSubplot at 0x7f94766f9a30>"
            ]
          },
          "metadata": {},
          "execution_count": 14
        },
        {
          "output_type": "display_data",
          "data": {
            "text/plain": [
              "<Figure size 432x288 with 1 Axes>"
            ],
            "image/png": "[encoded data removed]"
          },
          "metadata": {
            "needs_background": "light"
          }
        }
      ]
    },
    {
      "cell_type": "code",
      "source": [
        "plt.hist(df['amount'],bins=20)"
      ],
      "metadata": {
        "colab": {
          "base_uri": "https://localhost:8080/",
          "height": 416
        },
        "id": "5UpHd1YRfTim",
        "outputId": "518fab66-b041-4ec4-cbdc-a494faf9744e"
      },
      "execution_count": 15,
      "outputs": [
        {
          "output_type": "execute_result",
          "data": {
            "text/plain": [
              "(array([7.7100e+03, 3.3592e+04, 5.3000e+03, 1.6900e+03, 7.0400e+02,\n",
              "        5.6400e+02, 3.5400e+02, 3.3000e+01, 2.2000e+01, 1.3000e+01,\n",
              "        4.0000e+00, 2.0000e+00, 1.0000e+00, 4.0000e+00, 1.0000e+00,\n",
              "        1.0000e+00, 3.0000e+00, 0.0000e+00, 1.0000e+00, 1.0000e+00]),\n",
              " array([ -5.  ,   5.25,  15.5 ,  25.75,  36.  ,  46.25,  56.5 ,  66.75,\n",
              "         77.  ,  87.25,  97.5 , 107.75, 118.  , 128.25, 138.5 , 148.75,\n",
              "        159.  , 169.25, 179.5 , 189.75, 200.  ]),\n",
              " <a list of 20 Patch objects>)"
            ]
          },
          "metadata": {},
          "execution_count": 15
        },
        {
          "output_type": "display_data",
          "data": {
            "text/plain": [
              "<Figure size 432x288 with 1 Axes>"
            ],
            "image/png": "[encoded data removed]"
          },
          "metadata": {
            "needs_background": "light"
          }
        }
      ]
    },
    {
      "cell_type": "markdown",
      "source": [
        "To do\n",
        "1.   Remove negative and zero values from amount\n",
        "2.   Remove outliers in longitude and latitude\n",
        "\n"
      ],
      "metadata": {
        "id": "Jildt3L0iZVN"
      }
    },
    {
      "cell_type": "code",
      "source": [
        "df.boxplot('amount')"
      ],
      "metadata": {
        "colab": {
          "base_uri": "https://localhost:8080/",
          "height": 283
        },
        "id": "Bo319ZZ6jtnP",
        "outputId": "f9b00917-dcd8-4ada-a243-151db6ebb79a"
      },
      "execution_count": 16,
      "outputs": [
        {
          "output_type": "execute_result",
          "data": {
            "text/plain": [
              "<matplotlib.axes._subplots.AxesSubplot at 0x7f94764cb130>"
            ]
          },
          "metadata": {},
          "execution_count": 16
        },
        {
          "output_type": "display_data",
          "data": {
            "text/plain": [
              "<Figure size 432x288 with 1 Axes>"
            ],
            "image/png": "[encoded data removed]"
          },
          "metadata": {
            "needs_background": "light"
          }
        }
      ]
    },
    {
      "cell_type": "code",
      "source": [
        "df['amount'].min()\n",
        "     "
      ],
      "metadata": {
        "colab": {
          "base_uri": "https://localhost:8080/"
        },
        "id": "zsC7Tor_kwLN",
        "outputId": "d27db104-44eb-4112-88fb-8b3663c3fe07"
      },
      "execution_count": 17,
      "outputs": [
        {
          "output_type": "execute_result",
          "data": {
            "text/plain": [
              "-5.0"
            ]
          },
          "metadata": {},
          "execution_count": 17
        }
      ]
    },
    {
      "cell_type": "code",
      "source": [
        "sns.distplot(df['longitude_of_pickup'])"
      ],
      "metadata": {
        "colab": {
          "base_uri": "https://localhost:8080/",
          "height": 355
        },
        "id": "UYpGtdnTidsd",
        "outputId": "251e6dd0-55a3-498f-89f9-a18d8de5f49e"
      },
      "execution_count": 18,
      "outputs": [
        {
          "output_type": "stream",
          "name": "stderr",
          "text": [
            "/usr/local/lib/python3.8/dist-packages/seaborn/distributions.py:2619: FutureWarning: `distplot` is a deprecated function and will be removed in a future version. Please adapt your code to use either `displot` (a figure-level function with similar flexibility) or `histplot` (an axes-level function for histograms).\n",
            "  warnings.warn(msg, FutureWarning)\n"
          ]
        },
        {
          "output_type": "execute_result",
          "data": {
            "text/plain": [
              "<matplotlib.axes._subplots.AxesSubplot at 0x7f94750a1820>"
            ]
          },
          "metadata": {},
          "execution_count": 18
        },
        {
          "output_type": "display_data",
          "data": {
            "text/plain": [
              "<Figure size 432x288 with 1 Axes>"
            ],
            "image/png": "[encoded data removed]"
          },
          "metadata": {
            "needs_background": "light"
          }
        }
      ]
    },
    {
      "cell_type": "code",
      "source": [
        "sns.distplot(df['latitude_of_pickup'])"
      ],
      "metadata": {
        "colab": {
          "base_uri": "https://localhost:8080/",
          "height": 355
        },
        "id": "sfjHEWSxnlUW",
        "outputId": "032eff2e-c2b0-412d-eebf-caba6be34096"
      },
      "execution_count": 19,
      "outputs": [
        {
          "output_type": "stream",
          "name": "stderr",
          "text": [
            "/usr/local/lib/python3.8/dist-packages/seaborn/distributions.py:2619: FutureWarning: `distplot` is a deprecated function and will be removed in a future version. Please adapt your code to use either `displot` (a figure-level function with similar flexibility) or `histplot` (an axes-level function for histograms).\n",
            "  warnings.warn(msg, FutureWarning)\n"
          ]
        },
        {
          "output_type": "execute_result",
          "data": {
            "text/plain": [
              "<matplotlib.axes._subplots.AxesSubplot at 0x7f947506cca0>"
            ]
          },
          "metadata": {},
          "execution_count": 19
        },
        {
          "output_type": "display_data",
          "data": {
            "text/plain": [
              "<Figure size 432x288 with 1 Axes>"
            ],
            "image/png": "[encoded data removed]"
          },
          "metadata": {
            "needs_background": "light"
          }
        }
      ]
    },
    {
      "cell_type": "code",
      "source": [
        "sns.distplot(df['longitude_of_dropoff'])"
      ],
      "metadata": {
        "colab": {
          "base_uri": "https://localhost:8080/",
          "height": 355
        },
        "id": "IZLsorhGnmLN",
        "outputId": "56ba5768-d7dc-446d-818b-a71dda7d24c8"
      },
      "execution_count": 20,
      "outputs": [
        {
          "output_type": "stream",
          "name": "stderr",
          "text": [
            "/usr/local/lib/python3.8/dist-packages/seaborn/distributions.py:2619: FutureWarning: `distplot` is a deprecated function and will be removed in a future version. Please adapt your code to use either `displot` (a figure-level function with similar flexibility) or `histplot` (an axes-level function for histograms).\n",
            "  warnings.warn(msg, FutureWarning)\n"
          ]
        },
        {
          "output_type": "execute_result",
          "data": {
            "text/plain": [
              "<matplotlib.axes._subplots.AxesSubplot at 0x7f9474ebadc0>"
            ]
          },
          "metadata": {},
          "execution_count": 20
        },
        {
          "output_type": "display_data",
          "data": {
            "text/plain": [
              "<Figure size 432x288 with 1 Axes>"
            ],
            "image/png": "[encoded data removed]"
          },
          "metadata": {
            "needs_background": "light"
          }
        }
      ]
    },
    {
      "cell_type": "code",
      "source": [
        "sns.distplot(df['latitude_of_dropoff'])"
      ],
      "metadata": {
        "colab": {
          "base_uri": "https://localhost:8080/",
          "height": 355
        },
        "id": "lN6ED1w9nsrP",
        "outputId": "484d375a-585d-470a-8ce4-4fba8f2be9b9"
      },
      "execution_count": 21,
      "outputs": [
        {
          "output_type": "stream",
          "name": "stderr",
          "text": [
            "/usr/local/lib/python3.8/dist-packages/seaborn/distributions.py:2619: FutureWarning: `distplot` is a deprecated function and will be removed in a future version. Please adapt your code to use either `displot` (a figure-level function with similar flexibility) or `histplot` (an axes-level function for histograms).\n",
            "  warnings.warn(msg, FutureWarning)\n"
          ]
        },
        {
          "output_type": "execute_result",
          "data": {
            "text/plain": [
              "<matplotlib.axes._subplots.AxesSubplot at 0x7f9474db1e20>"
            ]
          },
          "metadata": {},
          "execution_count": 21
        },
        {
          "output_type": "display_data",
          "data": {
            "text/plain": [
              "<Figure size 432x288 with 1 Axes>"
            ],
            "image/png": "[encoded data removed]"
          },
          "metadata": {
            "needs_background": "light"
          }
        }
      ]
    },
    {
      "cell_type": "code",
      "source": [
        "import warnings\n",
        "warnings.simplefilter('ignore')"
      ],
      "metadata": {
        "id": "RViZP2EPtG12"
      },
      "execution_count": 22,
      "outputs": []
    },
    {
      "cell_type": "code",
      "source": [
        "# The city of New York longitude ranges between -75 and -72. The latitude ranges between 40 and 42. So,"
      ],
      "metadata": {
        "id": "toN0rjBRwWrd"
      },
      "execution_count": 23,
      "outputs": []
    },
    {
      "cell_type": "code",
      "source": [
        "def clean_data(df):\n",
        "    new_df = df[\n",
        "        ((df['amount'] > 0) & (df['amount'] <= 200)) &\n",
        "        ((df['longitude_of_pickup'] > -75) & (df['longitude_of_pickup'] < -73)) & \n",
        "        ((df['latitude_of_pickup'] > 40) & (df['latitude_of_pickup'] < 42)) &\n",
        "        ((df['longitude_of_dropoff'] > -75) & (df['longitude_of_dropoff'] < -73)) & \n",
        "        ((df['latitude_of_dropoff'] > 40) & (df['latitude_of_dropoff'] < 42))&\n",
        "        ((df['no_of_passenger'] > 0) & (df['no_of_passenger'] <= 6)) ] \n",
        "    return new_df"
      ],
      "metadata": {
        "id": "jDGWvBd2nwwL"
      },
      "execution_count": 24,
      "outputs": []
    },
    {
      "cell_type": "code",
      "source": [
        "df = clean_data(df)"
      ],
      "metadata": {
        "id": "0oIJbcv0ppq1"
      },
      "execution_count": 25,
      "outputs": []
    },
    {
      "cell_type": "code",
      "source": [
        "len(df)"
      ],
      "metadata": {
        "colab": {
          "base_uri": "https://localhost:8080/"
        },
        "id": "YqqTPjEop9Yl",
        "outputId": "d6194c97-0c85-405e-c84e-d8656dc72405"
      },
      "execution_count": 26,
      "outputs": [
        {
          "output_type": "execute_result",
          "data": {
            "text/plain": [
              "48785"
            ]
          },
          "metadata": {},
          "execution_count": 26
        }
      ]
    },
    {
      "cell_type": "code",
      "source": [
        "df.info()"
      ],
      "metadata": {
        "colab": {
          "base_uri": "https://localhost:8080/"
        },
        "id": "T4ATTyTcq7dG",
        "outputId": "05094c4c-58b5-4272-ac97-31021f6a46a8"
      },
      "execution_count": 27,
      "outputs": [
        {
          "output_type": "stream",
          "name": "stdout",
          "text": [
            "<class 'pandas.core.frame.DataFrame'>\n",
            "Int64Index: 48785 entries, 0 to 49999\n",
            "Data columns (total 8 columns):\n",
            " #   Column                Non-Null Count  Dtype  \n",
            "---  ------                --------------  -----  \n",
            " 0   unique_id             48785 non-null  object \n",
            " 1   amount                48785 non-null  float64\n",
            " 2   date_time_of_pickup   48785 non-null  object \n",
            " 3   longitude_of_pickup   48785 non-null  float64\n",
            " 4   latitude_of_pickup    48785 non-null  float64\n",
            " 5   longitude_of_dropoff  48785 non-null  float64\n",
            " 6   latitude_of_dropoff   48785 non-null  float64\n",
            " 7   no_of_passenger       48785 non-null  int64  \n",
            "dtypes: float64(5), int64(1), object(2)\n",
            "memory usage: 3.3+ MB\n"
          ]
        }
      ]
    },
    {
      "cell_type": "code",
      "source": [
        "df['date_time_of_pickup'] = pd.to_datetime(df[\"date_time_of_pickup\"])\n"
      ],
      "metadata": {
        "id": "w19CRB3Uryug"
      },
      "execution_count": 28,
      "outputs": []
    },
    {
      "cell_type": "code",
      "source": [
        "df.info()"
      ],
      "metadata": {
        "colab": {
          "base_uri": "https://localhost:8080/"
        },
        "id": "FFbf3mJMr9ZE",
        "outputId": "41165cb3-bc1c-4be2-95b0-bfab89703c8f"
      },
      "execution_count": 29,
      "outputs": [
        {
          "output_type": "stream",
          "name": "stdout",
          "text": [
            "<class 'pandas.core.frame.DataFrame'>\n",
            "Int64Index: 48785 entries, 0 to 49999\n",
            "Data columns (total 8 columns):\n",
            " #   Column                Non-Null Count  Dtype              \n",
            "---  ------                --------------  -----              \n",
            " 0   unique_id             48785 non-null  object             \n",
            " 1   amount                48785 non-null  float64            \n",
            " 2   date_time_of_pickup   48785 non-null  datetime64[ns, UTC]\n",
            " 3   longitude_of_pickup   48785 non-null  float64            \n",
            " 4   latitude_of_pickup    48785 non-null  float64            \n",
            " 5   longitude_of_dropoff  48785 non-null  float64            \n",
            " 6   latitude_of_dropoff   48785 non-null  float64            \n",
            " 7   no_of_passenger       48785 non-null  int64              \n",
            "dtypes: datetime64[ns, UTC](1), float64(5), int64(1), object(1)\n",
            "memory usage: 3.3+ MB\n"
          ]
        }
      ]
    },
    {
      "cell_type": "code",
      "source": [
        "df['year'] = df['date_time_of_pickup'].dt.year\n",
        "df['month'] = df['date_time_of_pickup'].dt.month\n",
        "df['date'] = df['date_time_of_pickup'].dt.day\n",
        "df['day'] = df['date_time_of_pickup'].dt.dayofweek\n",
        "df['hours'] = df['date_time_of_pickup'].dt.hour"
      ],
      "metadata": {
        "id": "OWXQN3t0sL07"
      },
      "execution_count": 30,
      "outputs": []
    },
    {
      "cell_type": "code",
      "source": [
        "df.info()"
      ],
      "metadata": {
        "colab": {
          "base_uri": "https://localhost:8080/"
        },
        "id": "TfS4XOVCsh31",
        "outputId": "6e8e9408-9a11-4e39-8365-cac5e8400a22"
      },
      "execution_count": 31,
      "outputs": [
        {
          "output_type": "stream",
          "name": "stdout",
          "text": [
            "<class 'pandas.core.frame.DataFrame'>\n",
            "Int64Index: 48785 entries, 0 to 49999\n",
            "Data columns (total 13 columns):\n",
            " #   Column                Non-Null Count  Dtype              \n",
            "---  ------                --------------  -----              \n",
            " 0   unique_id             48785 non-null  object             \n",
            " 1   amount                48785 non-null  float64            \n",
            " 2   date_time_of_pickup   48785 non-null  datetime64[ns, UTC]\n",
            " 3   longitude_of_pickup   48785 non-null  float64            \n",
            " 4   latitude_of_pickup    48785 non-null  float64            \n",
            " 5   longitude_of_dropoff  48785 non-null  float64            \n",
            " 6   latitude_of_dropoff   48785 non-null  float64            \n",
            " 7   no_of_passenger       48785 non-null  int64              \n",
            " 8   year                  48785 non-null  int64              \n",
            " 9   month                 48785 non-null  int64              \n",
            " 10  date                  48785 non-null  int64              \n",
            " 11  day                   48785 non-null  int64              \n",
            " 12  hours                 48785 non-null  int64              \n",
            "dtypes: datetime64[ns, UTC](1), float64(5), int64(6), object(1)\n",
            "memory usage: 5.2+ MB\n"
          ]
        }
      ]
    },
    {
      "cell_type": "code",
      "source": [
        "df.drop(columns=['unique_id','date_time_of_pickup'],axis=1,inplace=True)"
      ],
      "metadata": {
        "id": "daotSAjVtU-6"
      },
      "execution_count": 32,
      "outputs": []
    },
    {
      "cell_type": "code",
      "source": [
        "df.info()"
      ],
      "metadata": {
        "colab": {
          "base_uri": "https://localhost:8080/"
        },
        "id": "ko_LWBUmtnhH",
        "outputId": "91688fb8-f581-4b80-bfb1-d0e89b0d414e"
      },
      "execution_count": 33,
      "outputs": [
        {
          "output_type": "stream",
          "name": "stdout",
          "text": [
            "<class 'pandas.core.frame.DataFrame'>\n",
            "Int64Index: 48785 entries, 0 to 49999\n",
            "Data columns (total 11 columns):\n",
            " #   Column                Non-Null Count  Dtype  \n",
            "---  ------                --------------  -----  \n",
            " 0   amount                48785 non-null  float64\n",
            " 1   longitude_of_pickup   48785 non-null  float64\n",
            " 2   latitude_of_pickup    48785 non-null  float64\n",
            " 3   longitude_of_dropoff  48785 non-null  float64\n",
            " 4   latitude_of_dropoff   48785 non-null  float64\n",
            " 5   no_of_passenger       48785 non-null  int64  \n",
            " 6   year                  48785 non-null  int64  \n",
            " 7   month                 48785 non-null  int64  \n",
            " 8   date                  48785 non-null  int64  \n",
            " 9   day                   48785 non-null  int64  \n",
            " 10  hours                 48785 non-null  int64  \n",
            "dtypes: float64(5), int64(6)\n",
            "memory usage: 4.5 MB\n"
          ]
        }
      ]
    },
    {
      "cell_type": "code",
      "source": [
        "df.describe()"
      ],
      "metadata": {
        "colab": {
          "base_uri": "https://localhost:8080/",
          "height": 364
        },
        "id": "N8YncyNstpKj",
        "outputId": "d8adc2f9-f16b-45b5-e4ff-321034a79d82"
      },
      "execution_count": 34,
      "outputs": [
        {
          "output_type": "execute_result",
          "data": {
            "text/plain": [
              "             amount  longitude_of_pickup  latitude_of_pickup  \\\n",
              "count  48785.000000         48785.000000        48785.000000   \n",
              "mean      11.366096           -73.975174           40.751132   \n",
              "std        9.661005             0.039407            0.030835   \n",
              "min        0.010000           -74.711648           40.121653   \n",
              "25%        6.000000           -73.992308           40.736522   \n",
              "50%        8.500000           -73.982122           40.753450   \n",
              "75%       12.500000           -73.968381           40.767781   \n",
              "max      200.000000           -73.137393           41.650000   \n",
              "\n",
              "       longitude_of_dropoff  latitude_of_dropoff  no_of_passenger  \\\n",
              "count          48785.000000         48785.000000     48785.000000   \n",
              "mean             -73.974029            40.751588         1.674798   \n",
              "std                0.038291             0.033566         1.288841   \n",
              "min              -74.755480            40.164927         1.000000   \n",
              "25%              -73.991333            40.735917         1.000000   \n",
              "50%              -73.980492            40.754127         1.000000   \n",
              "75%              -73.965336            40.768482         2.000000   \n",
              "max              -73.137393            41.543217         6.000000   \n",
              "\n",
              "               year         month          date           day         hours  \n",
              "count  48785.000000  48785.000000  48785.000000  48785.000000  48785.000000  \n",
              "mean    2011.740105      6.277155     15.663257      3.030706     13.482587  \n",
              "std        1.867988      3.461294      8.659906      1.956804      6.504498  \n",
              "min     2009.000000      1.000000      1.000000      0.000000      0.000000  \n",
              "25%     2010.000000      3.000000      8.000000      1.000000      9.000000  \n",
              "50%     2012.000000      6.000000     16.000000      3.000000     14.000000  \n",
              "75%     2013.000000      9.000000     23.000000      5.000000     19.000000  \n",
              "max     2015.000000     12.000000     31.000000      6.000000     23.000000  "
            ],
            "text/html": [
              "\n",
              "  <div id=\"df-d602bf8d-66fc-406c-aeef-6ccbfbe1d0fd\">\n",
              "    <div class=\"colab-df-container\">\n",
              "      <div>\n",
              "<style scoped>\n",
              "    .dataframe tbody tr th:only-of-type {\n",
              "        vertical-align: middle;\n",
              "    }\n",
              "\n",
              "    .dataframe tbody tr th {\n",
              "        vertical-align: top;\n",
              "    }\n",
              "\n",
              "    .dataframe thead th {\n",
              "        text-align: right;\n",
              "    }\n",
              "</style>\n",
              "<table border=\"1\" class=\"dataframe\">\n",
              "  <thead>\n",
              "    <tr style=\"text-align: right;\">\n",
              "      <th></th>\n",
              "      <th>amount</th>\n",
              "      <th>longitude_of_pickup</th>\n",
              "      <th>latitude_of_pickup</th>\n",
              "      <th>longitude_of_dropoff</th>\n",
              "      <th>latitude_of_dropoff</th>\n",
              "      <th>no_of_passenger</th>\n",
              "      <th>year</th>\n",
              "      <th>month</th>\n",
              "      <th>date</th>\n",
              "      <th>day</th>\n",
              "      <th>hours</th>\n",
              "    </tr>\n",
              "  </thead>\n",
              "  <tbody>\n",
              "    <tr>\n",
              "      <th>count</th>\n",
              "      <td>48785.000000</td>\n",
              "      <td>48785.000000</td>\n",
              "      <td>48785.000000</td>\n",
              "      <td>48785.000000</td>\n",
              "      <td>48785.000000</td>\n",
              "      <td>48785.000000</td>\n",
              "      <td>48785.000000</td>\n",
              "      <td>48785.000000</td>\n",
              "      <td>48785.000000</td>\n",
              "      <td>48785.000000</td>\n",
              "      <td>48785.000000</td>\n",
              "    </tr>\n",
              "    <tr>\n",
              "      <th>mean</th>\n",
              "      <td>11.366096</td>\n",
              "      <td>-73.975174</td>\n",
              "      <td>40.751132</td>\n",
              "      <td>-73.974029</td>\n",
              "      <td>40.751588</td>\n",
              "      <td>1.674798</td>\n",
              "      <td>2011.740105</td>\n",
              "      <td>6.277155</td>\n",
              "      <td>15.663257</td>\n",
              "      <td>3.030706</td>\n",
              "      <td>13.482587</td>\n",
              "    </tr>\n",
              "    <tr>\n",
              "      <th>std</th>\n",
              "      <td>9.661005</td>\n",
              "      <td>0.039407</td>\n",
              "      <td>0.030835</td>\n",
              "      <td>0.038291</td>\n",
              "      <td>0.033566</td>\n",
              "      <td>1.288841</td>\n",
              "      <td>1.867988</td>\n",
              "      <td>3.461294</td>\n",
              "      <td>8.659906</td>\n",
              "      <td>1.956804</td>\n",
              "      <td>6.504498</td>\n",
              "    </tr>\n",
              "    <tr>\n",
              "      <th>min</th>\n",
              "      <td>0.010000</td>\n",
              "      <td>-74.711648</td>\n",
              "      <td>40.121653</td>\n",
              "      <td>-74.755480</td>\n",
              "      <td>40.164927</td>\n",
              "      <td>1.000000</td>\n",
              "      <td>2009.000000</td>\n",
              "      <td>1.000000</td>\n",
              "      <td>1.000000</td>\n",
              "      <td>0.000000</td>\n",
              "      <td>0.000000</td>\n",
              "    </tr>\n",
              "    <tr>\n",
              "      <th>25%</th>\n",
              "      <td>6.000000</td>\n",
              "      <td>-73.992308</td>\n",
              "      <td>40.736522</td>\n",
              "      <td>-73.991333</td>\n",
              "      <td>40.735917</td>\n",
              "      <td>1.000000</td>\n",
              "      <td>2010.000000</td>\n",
              "      <td>3.000000</td>\n",
              "      <td>8.000000</td>\n",
              "      <td>1.000000</td>\n",
              "      <td>9.000000</td>\n",
              "    </tr>\n",
              "    <tr>\n",
              "      <th>50%</th>\n",
              "      <td>8.500000</td>\n",
              "      <td>-73.982122</td>\n",
              "      <td>40.753450</td>\n",
              "      <td>-73.980492</td>\n",
              "      <td>40.754127</td>\n",
              "      <td>1.000000</td>\n",
              "      <td>2012.000000</td>\n",
              "      <td>6.000000</td>\n",
              "      <td>16.000000</td>\n",
              "      <td>3.000000</td>\n",
              "      <td>14.000000</td>\n",
              "    </tr>\n",
              "    <tr>\n",
              "      <th>75%</th>\n",
              "      <td>12.500000</td>\n",
              "      <td>-73.968381</td>\n",
              "      <td>40.767781</td>\n",
              "      <td>-73.965336</td>\n",
              "      <td>40.768482</td>\n",
              "      <td>2.000000</td>\n",
              "      <td>2013.000000</td>\n",
              "      <td>9.000000</td>\n",
              "      <td>23.000000</td>\n",
              "      <td>5.000000</td>\n",
              "      <td>19.000000</td>\n",
              "    </tr>\n",
              "    <tr>\n",
              "      <th>max</th>\n",
              "      <td>200.000000</td>\n",
              "      <td>-73.137393</td>\n",
              "      <td>41.650000</td>\n",
              "      <td>-73.137393</td>\n",
              "      <td>41.543217</td>\n",
              "      <td>6.000000</td>\n",
              "      <td>2015.000000</td>\n",
              "      <td>12.000000</td>\n",
              "      <td>31.000000</td>\n",
              "      <td>6.000000</td>\n",
              "      <td>23.000000</td>\n",
              "    </tr>\n",
              "  </tbody>\n",
              "</table>\n",
              "</div>\n",
              "      <button class=\"colab-df-convert\" onclick=\"convertToInteractive('df-d602bf8d-66fc-406c-aeef-6ccbfbe1d0fd')\"\n",
              "              title=\"Convert this dataframe to an interactive table.\"\n",
              "              style=\"display:none;\">\n",
              "        \n",
              "  <svg xmlns=\"http://www.w3.org/2000/svg\" height=\"24px\"viewBox=\"0 0 24 24\"\n",
              "       width=\"24px\">\n",
              "    <path d=\"M0 0h24v24H0V0z\" fill=\"none\"/>\n",
              "    <path d=\"M18.56 5.44l.94 2.06.94-2.06 2.06-.94-2.06-.94-.94-2.06-.94 2.06-2.06.94zm-11 1L8.5 8.5l.94-2.06 2.06-.94-2.06-.94L8.5 2.5l-.94 2.06-2.06.94zm10 10l.94 2.06.94-2.06 2.06-.94-2.06-.94-.94-2.06-.94 2.06-2.06.94z\"/><path d=\"M17.41 7.96l-1.37-1.37c-.4-.4-.92-.59-1.43-.59-.52 0-1.04.2-1.43.59L10.3 9.45l-7.72 7.72c-.78.78-.78 2.05 0 2.83L4 21.41c.39.39.9.59 1.41.59.51 0 1.02-.2 1.41-.59l7.78-7.78 2.81-2.81c.8-.78.8-2.07 0-2.86zM5.41 20L4 18.59l7.72-7.72 1.47 1.35L5.41 20z\"/>\n",
              "  </svg>\n",
              "      </button>\n",
              "      \n",
              "  <style>\n",
              "    .colab-df-container {\n",
              "      display:flex;\n",
              "      flex-wrap:wrap;\n",
              "      gap: 12px;\n",
              "    }\n",
              "\n",
              "    .colab-df-convert {\n",
              "      background-color: #E8F0FE;\n",
              "      border: none;\n",
              "      border-radius: 50%;\n",
              "      cursor: pointer;\n",
              "      display: none;\n",
              "      fill: #1967D2;\n",
              "      height: 32px;\n",
              "      padding: 0 0 0 0;\n",
              "      width: 32px;\n",
              "    }\n",
              "\n",
              "    .colab-df-convert:hover {\n",
              "      background-color: #E2EBFA;\n",
              "      box-shadow: 0px 1px 2px rgba(60, 64, 67, 0.3), 0px 1px 3px 1px rgba(60, 64, 67, 0.15);\n",
              "      fill: #174EA6;\n",
              "    }\n",
              "\n",
              "    [theme=dark] .colab-df-convert {\n",
              "      background-color: #3B4455;\n",
              "      fill: #D2E3FC;\n",
              "    }\n",
              "\n",
              "    [theme=dark] .colab-df-convert:hover {\n",
              "      background-color: #434B5C;\n",
              "      box-shadow: 0px 1px 3px 1px rgba(0, 0, 0, 0.15);\n",
              "      filter: drop-shadow(0px 1px 2px rgba(0, 0, 0, 0.3));\n",
              "      fill: #FFFFFF;\n",
              "    }\n",
              "  </style>\n",
              "\n",
              "      <script>\n",
              "        const buttonEl =\n",
              "          document.querySelector('#df-d602bf8d-66fc-406c-aeef-6ccbfbe1d0fd button.colab-df-convert');\n",
              "        buttonEl.style.display =\n",
              "          google.colab.kernel.accessAllowed ? 'block' : 'none';\n",
              "\n",
              "        async function convertToInteractive(key) {\n",
              "          const element = document.querySelector('#df-d602bf8d-66fc-406c-aeef-6ccbfbe1d0fd');\n",
              "          const dataTable =\n",
              "            await google.colab.kernel.invokeFunction('convertToInteractive',\n",
              "                                                     [key], {});\n",
              "          if (!dataTable) return;\n",
              "\n",
              "          const docLinkHtml = 'Like what you see? Visit the ' +\n",
              "            '<a target=\"_blank\" href=https://colab.research.google.com/notebooks/data_table.ipynb>data table notebook</a>'\n",
              "            + ' to learn more about interactive tables.';\n",
              "          element.innerHTML = '';\n",
              "          dataTable['output_type'] = 'display_data';\n",
              "          await google.colab.output.renderOutput(dataTable, element);\n",
              "          const docLink = document.createElement('div');\n",
              "          docLink.innerHTML = docLinkHtml;\n",
              "          element.appendChild(docLink);\n",
              "        }\n",
              "      </script>\n",
              "    </div>\n",
              "  </div>\n",
              "  "
            ]
          },
          "metadata": {},
          "execution_count": 34
        }
      ]
    },
    {
      "cell_type": "code",
      "source": [
        "plt.figure(figsize = (18,8))\n",
        "plt.title('Correlation Heatmap')\n",
        "corr = df.corr()\n",
        "corr\n",
        "sns.heatmap(corr, annot = True)"
      ],
      "metadata": {
        "colab": {
          "base_uri": "https://localhost:8080/",
          "height": 609
        },
        "id": "cfRRWosyuAdi",
        "outputId": "b2088172-c14e-4d34-b758-890628f9762c"
      },
      "execution_count": 35,
      "outputs": [
        {
          "output_type": "execute_result",
          "data": {
            "text/plain": [
              "<matplotlib.axes._subplots.AxesSubplot at 0x7f9474cf6520>"
            ]
          },
          "metadata": {},
          "execution_count": 35
        },
        {
          "output_type": "display_data",
          "data": {
            "text/plain": [
              "<Figure size 1296x576 with 2 Axes>"
            ],
            "image/png": "[encoded data removed]"
          },
          "metadata": {
            "needs_background": "light"
          }
        }
      ]
    },
    {
      "cell_type": "code",
      "source": [
        "df.no_of_passenger.hist(bins = 15,figsize=(13,5))\n",
        "plt.xlabel('Number of Passnegers')\n",
        "plt.title('Histogram of no of Passengers')\n"
      ],
      "metadata": {
        "colab": {
          "base_uri": "https://localhost:8080/",
          "height": 368
        },
        "id": "01SX5p8dudss",
        "outputId": "23b6868a-7331-490d-ee51-4a6f04edb6e2"
      },
      "execution_count": 36,
      "outputs": [
        {
          "output_type": "execute_result",
          "data": {
            "text/plain": [
              "Text(0.5, 1.0, 'Histogram of no of Passengers')"
            ]
          },
          "metadata": {},
          "execution_count": 36
        },
        {
          "output_type": "display_data",
          "data": {
            "text/plain": [
              "<Figure size 936x360 with 1 Axes>"
            ],
            "image/png": "[encoded data removed]"
          },
          "metadata": {
            "needs_background": "light"
          }
        }
      ]
    },
    {
      "cell_type": "code",
      "source": [
        "df.amount.hist(bins = 200,figsize = (13,5))\n",
        "plt.xlabel('Fare in $USD')\n",
        "plt.title('Histogram of Amount')"
      ],
      "metadata": {
        "colab": {
          "base_uri": "https://localhost:8080/",
          "height": 368
        },
        "id": "TZeWw-17u24Z",
        "outputId": "133d5bd5-9aa5-4cd6-c270-c42130f38cf2"
      },
      "execution_count": 37,
      "outputs": [
        {
          "output_type": "execute_result",
          "data": {
            "text/plain": [
              "Text(0.5, 1.0, 'Histogram of Amount')"
            ]
          },
          "metadata": {},
          "execution_count": 37
        },
        {
          "output_type": "display_data",
          "data": {
            "text/plain": [
              "<Figure size 936x360 with 1 Axes>"
            ],
            "image/png": "[encoded data removed]"
          },
          "metadata": {
            "needs_background": "light"
          }
        }
      ]
    },
    {
      "cell_type": "code",
      "source": [
        "sns.barplot(x=df['hours'],y=df['amount'])"
      ],
      "metadata": {
        "colab": {
          "base_uri": "https://localhost:8080/",
          "height": 297
        },
        "id": "WBE-R78uwqKO",
        "outputId": "e78c5ea3-9541-4de3-9a5a-e1d746cc7a1f"
      },
      "execution_count": 38,
      "outputs": [
        {
          "output_type": "execute_result",
          "data": {
            "text/plain": [
              "<matplotlib.axes._subplots.AxesSubplot at 0x7f9474ae3280>"
            ]
          },
          "metadata": {},
          "execution_count": 38
        },
        {
          "output_type": "display_data",
          "data": {
            "text/plain": [
              "<Figure size 432x288 with 1 Axes>"
            ],
            "image/png": "[encoded data removed]"
          },
          "metadata": {
            "needs_background": "light"
          }
        }
      ]
    },
    {
      "cell_type": "markdown",
      "source": [
        "Model training\n"
      ],
      "metadata": {
        "id": "NfcI5T2iviWE"
      }
    },
    {
      "cell_type": "code",
      "source": [
        "df.head()"
      ],
      "metadata": {
        "colab": {
          "base_uri": "https://localhost:8080/",
          "height": 206
        },
        "id": "sCZ4kkLxxHUz",
        "outputId": "323e23b5-0160-434b-a18b-2c7d2704d14f"
      },
      "execution_count": 39,
      "outputs": [
        {
          "output_type": "execute_result",
          "data": {
            "text/plain": [
              "   amount  longitude_of_pickup  latitude_of_pickup  longitude_of_dropoff  \\\n",
              "0     4.5           -73.844311           40.721319            -73.841610   \n",
              "1    16.9           -74.016048           40.711303            -73.979268   \n",
              "2     5.7           -73.982738           40.761270            -73.991242   \n",
              "3     7.7           -73.987130           40.733143            -73.991567   \n",
              "4     5.3           -73.968095           40.768008            -73.956655   \n",
              "\n",
              "   latitude_of_dropoff  no_of_passenger  year  month  date  day  hours  \n",
              "0            40.712278                1  2009      6    15    0     17  \n",
              "1            40.782004                1  2010      1     5    1     16  \n",
              "2            40.750562                2  2011      8    18    3      0  \n",
              "3            40.758092                1  2012      4    21    5      4  \n",
              "4            40.783762                1  2010      3     9    1      7  "
            ],
            "text/html": [
              "\n",
              "  <div id=\"df-6cf3c14e-190e-436b-ab58-df4c07db86d6\">\n",
              "    <div class=\"colab-df-container\">\n",
              "      <div>\n",
              "<style scoped>\n",
              "    .dataframe tbody tr th:only-of-type {\n",
              "        vertical-align: middle;\n",
              "    }\n",
              "\n",
              "    .dataframe tbody tr th {\n",
              "        vertical-align: top;\n",
              "    }\n",
              "\n",
              "    .dataframe thead th {\n",
              "        text-align: right;\n",
              "    }\n",
              "</style>\n",
              "<table border=\"1\" class=\"dataframe\">\n",
              "  <thead>\n",
              "    <tr style=\"text-align: right;\">\n",
              "      <th></th>\n",
              "      <th>amount</th>\n",
              "      <th>longitude_of_pickup</th>\n",
              "      <th>latitude_of_pickup</th>\n",
              "      <th>longitude_of_dropoff</th>\n",
              "      <th>latitude_of_dropoff</th>\n",
              "      <th>no_of_passenger</th>\n",
              "      <th>year</th>\n",
              "      <th>month</th>\n",
              "      <th>date</th>\n",
              "      <th>day</th>\n",
              "      <th>hours</th>\n",
              "    </tr>\n",
              "  </thead>\n",
              "  <tbody>\n",
              "    <tr>\n",
              "      <th>0</th>\n",
              "      <td>4.5</td>\n",
              "      <td>-73.844311</td>\n",
              "      <td>40.721319</td>\n",
              "      <td>-73.841610</td>\n",
              "      <td>40.712278</td>\n",
              "      <td>1</td>\n",
              "      <td>2009</td>\n",
              "      <td>6</td>\n",
              "      <td>15</td>\n",
              "      <td>0</td>\n",
              "      <td>17</td>\n",
              "    </tr>\n",
              "    <tr>\n",
              "      <th>1</th>\n",
              "      <td>16.9</td>\n",
              "      <td>-74.016048</td>\n",
              "      <td>40.711303</td>\n",
              "      <td>-73.979268</td>\n",
              "      <td>40.782004</td>\n",
              "      <td>1</td>\n",
              "      <td>2010</td>\n",
              "      <td>1</td>\n",
              "      <td>5</td>\n",
              "      <td>1</td>\n",
              "      <td>16</td>\n",
              "    </tr>\n",
              "    <tr>\n",
              "      <th>2</th>\n",
              "      <td>5.7</td>\n",
              "      <td>-73.982738</td>\n",
              "      <td>40.761270</td>\n",
              "      <td>-73.991242</td>\n",
              "      <td>40.750562</td>\n",
              "      <td>2</td>\n",
              "      <td>2011</td>\n",
              "      <td>8</td>\n",
              "      <td>18</td>\n",
              "      <td>3</td>\n",
              "      <td>0</td>\n",
              "    </tr>\n",
              "    <tr>\n",
              "      <th>3</th>\n",
              "      <td>7.7</td>\n",
              "      <td>-73.987130</td>\n",
              "      <td>40.733143</td>\n",
              "      <td>-73.991567</td>\n",
              "      <td>40.758092</td>\n",
              "      <td>1</td>\n",
              "      <td>2012</td>\n",
              "      <td>4</td>\n",
              "      <td>21</td>\n",
              "      <td>5</td>\n",
              "      <td>4</td>\n",
              "    </tr>\n",
              "    <tr>\n",
              "      <th>4</th>\n",
              "      <td>5.3</td>\n",
              "      <td>-73.968095</td>\n",
              "      <td>40.768008</td>\n",
              "      <td>-73.956655</td>\n",
              "      <td>40.783762</td>\n",
              "      <td>1</td>\n",
              "      <td>2010</td>\n",
              "      <td>3</td>\n",
              "      <td>9</td>\n",
              "      <td>1</td>\n",
              "      <td>7</td>\n",
              "    </tr>\n",
              "  </tbody>\n",
              "</table>\n",
              "</div>\n",
              "      <button class=\"colab-df-convert\" onclick=\"convertToInteractive('df-6cf3c14e-190e-436b-ab58-df4c07db86d6')\"\n",
              "              title=\"Convert this dataframe to an interactive table.\"\n",
              "              style=\"display:none;\">\n",
              "        \n",
              "  <svg xmlns=\"http://www.w3.org/2000/svg\" height=\"24px\"viewBox=\"0 0 24 24\"\n",
              "       width=\"24px\">\n",
              "    <path d=\"M0 0h24v24H0V0z\" fill=\"none\"/>\n",
              "    <path d=\"M18.56 5.44l.94 2.06.94-2.06 2.06-.94-2.06-.94-.94-2.06-.94 2.06-2.06.94zm-11 1L8.5 8.5l.94-2.06 2.06-.94-2.06-.94L8.5 2.5l-.94 2.06-2.06.94zm10 10l.94 2.06.94-2.06 2.06-.94-2.06-.94-.94-2.06-.94 2.06-2.06.94z\"/><path d=\"M17.41 7.96l-1.37-1.37c-.4-.4-.92-.59-1.43-.59-.52 0-1.04.2-1.43.59L10.3 9.45l-7.72 7.72c-.78.78-.78 2.05 0 2.83L4 21.41c.39.39.9.59 1.41.59.51 0 1.02-.2 1.41-.59l7.78-7.78 2.81-2.81c.8-.78.8-2.07 0-2.86zM5.41 20L4 18.59l7.72-7.72 1.47 1.35L5.41 20z\"/>\n",
              "  </svg>\n",
              "      </button>\n",
              "      \n",
              "  <style>\n",
              "    .colab-df-container {\n",
              "      display:flex;\n",
              "      flex-wrap:wrap;\n",
              "      gap: 12px;\n",
              "    }\n",
              "\n",
              "    .colab-df-convert {\n",
              "      background-color: #E8F0FE;\n",
              "      border: none;\n",
              "      border-radius: 50%;\n",
              "      cursor: pointer;\n",
              "      display: none;\n",
              "      fill: #1967D2;\n",
              "      height: 32px;\n",
              "      padding: 0 0 0 0;\n",
              "      width: 32px;\n",
              "    }\n",
              "\n",
              "    .colab-df-convert:hover {\n",
              "      background-color: #E2EBFA;\n",
              "      box-shadow: 0px 1px 2px rgba(60, 64, 67, 0.3), 0px 1px 3px 1px rgba(60, 64, 67, 0.15);\n",
              "      fill: #174EA6;\n",
              "    }\n",
              "\n",
              "    [theme=dark] .colab-df-convert {\n",
              "      background-color: #3B4455;\n",
              "      fill: #D2E3FC;\n",
              "    }\n",
              "\n",
              "    [theme=dark] .colab-df-convert:hover {\n",
              "      background-color: #434B5C;\n",
              "      box-shadow: 0px 1px 3px 1px rgba(0, 0, 0, 0.15);\n",
              "      filter: drop-shadow(0px 1px 2px rgba(0, 0, 0, 0.3));\n",
              "      fill: #FFFFFF;\n",
              "    }\n",
              "  </style>\n",
              "\n",
              "      <script>\n",
              "        const buttonEl =\n",
              "          document.querySelector('#df-6cf3c14e-190e-436b-ab58-df4c07db86d6 button.colab-df-convert');\n",
              "        buttonEl.style.display =\n",
              "          google.colab.kernel.accessAllowed ? 'block' : 'none';\n",
              "\n",
              "        async function convertToInteractive(key) {\n",
              "          const element = document.querySelector('#df-6cf3c14e-190e-436b-ab58-df4c07db86d6');\n",
              "          const dataTable =\n",
              "            await google.colab.kernel.invokeFunction('convertToInteractive',\n",
              "                                                     [key], {});\n",
              "          if (!dataTable) return;\n",
              "\n",
              "          const docLinkHtml = 'Like what you see? Visit the ' +\n",
              "            '<a target=\"_blank\" href=https://colab.research.google.com/notebooks/data_table.ipynb>data table notebook</a>'\n",
              "            + ' to learn more about interactive tables.';\n",
              "          element.innerHTML = '';\n",
              "          dataTable['output_type'] = 'display_data';\n",
              "          await google.colab.output.renderOutput(dataTable, element);\n",
              "          const docLink = document.createElement('div');\n",
              "          docLink.innerHTML = docLinkHtml;\n",
              "          element.appendChild(docLink);\n",
              "        }\n",
              "      </script>\n",
              "    </div>\n",
              "  </div>\n",
              "  "
            ]
          },
          "metadata": {},
          "execution_count": 39
        }
      ]
    },
    {
      "cell_type": "code",
      "source": [
        "import math\n",
        "import sklearn"
      ],
      "metadata": {
        "id": "RUV5RFUk4qck"
      },
      "execution_count": 40,
      "outputs": []
    },
    {
      "cell_type": "code",
      "source": [
        "#Function to get distance in kilomerters using pickup and dropoff longitudes and latitudes using haversine formula\n",
        "def haversine(lat1, lon1, lat2, lon2):\n",
        "    \n",
        "  # convert decimal degrees to radians \n",
        "  lon1=np.deg2rad(lon1.to_numpy())\n",
        "  lat1=np.deg2rad(lat1.to_numpy())\n",
        "  lon2=np.deg2rad(lon2.to_numpy())\n",
        "  lat2=np.deg2rad(lat2.to_numpy())\n",
        "\n",
        "  # haversine formula \n",
        "  dlon = lon2 - lon1 \n",
        "  dlat = lat2 - lat1 \n",
        "  a = np.sin(dlat/2)**2 + np.cos(lat1) * np.cos(lat2) * np.sin(dlon/2)**2\n",
        "  c = 2 * np.arcsin(np.sqrt(a)) \n",
        "  r = 6372.8 # Radius of earth in kilometers\n",
        "  return np.around(c * r, decimals=2)"
      ],
      "metadata": {
        "id": "etTV8emr49-B"
      },
      "execution_count": 41,
      "outputs": []
    },
    {
      "cell_type": "code",
      "source": [
        "#Adding 'distance_travelled' column extracted using haversine function\n",
        "df['distance_travelled'] = haversine(df['latitude_of_pickup'],df['longitude_of_pickup'],\\\n",
        "                                            df['latitude_of_dropoff'],df['longitude_of_dropoff'])"
      ],
      "metadata": {
        "id": "pHplKTDR3xGo"
      },
      "execution_count": 42,
      "outputs": []
    },
    {
      "cell_type": "code",
      "source": [
        "from sklearn.model_selection import train_test_split\n",
        "from sklearn.linear_model import LinearRegression"
      ],
      "metadata": {
        "id": "ofrtsmomzKyh"
      },
      "execution_count": 43,
      "outputs": []
    },
    {
      "cell_type": "code",
      "source": [
        "X, y = df.drop('amount', axis = 1), df['amount']\n",
        "\n",
        "X_train, X_test, y_train, y_test= train_test_split(X, y, test_size=0.30, random_state=1)"
      ],
      "metadata": {
        "id": "mb-aDGHEwaxF"
      },
      "execution_count": 44,
      "outputs": []
    },
    {
      "cell_type": "markdown",
      "source": [
        "Linear regression\n"
      ],
      "metadata": {
        "id": "Jdsm9F7xKsTV"
      }
    },
    {
      "cell_type": "code",
      "source": [
        "model1=LinearRegression()\n",
        "##fit with train data\n",
        "model1.fit(X_train,y_train)"
      ],
      "metadata": {
        "colab": {
          "base_uri": "https://localhost:8080/"
        },
        "id": "GQHYWhscwqWu",
        "outputId": "61306d68-f5f5-41a6-cffc-3bc3b38f3467"
      },
      "execution_count": 45,
      "outputs": [
        {
          "output_type": "execute_result",
          "data": {
            "text/plain": [
              "LinearRegression()"
            ]
          },
          "metadata": {},
          "execution_count": 45
        }
      ]
    },
    {
      "cell_type": "code",
      "source": [
        "model1.score(X_train,y_train)"
      ],
      "metadata": {
        "colab": {
          "base_uri": "https://localhost:8080/"
        },
        "id": "cUt_O1YOxDgb",
        "outputId": "f8ee4616-77dd-4f35-b2e6-486ff7bd7f45"
      },
      "execution_count": 46,
      "outputs": [
        {
          "output_type": "execute_result",
          "data": {
            "text/plain": [
              "0.6668582066183522"
            ]
          },
          "metadata": {},
          "execution_count": 46
        }
      ]
    },
    {
      "cell_type": "code",
      "source": [
        "model1.score(X_test,y_test)"
      ],
      "metadata": {
        "colab": {
          "base_uri": "https://localhost:8080/"
        },
        "id": "D-TvujF25mJ-",
        "outputId": "60051e17-c085-4247-cb9c-ec180209eb87"
      },
      "execution_count": 47,
      "outputs": [
        {
          "output_type": "execute_result",
          "data": {
            "text/plain": [
              "0.5729298614427725"
            ]
          },
          "metadata": {},
          "execution_count": 47
        }
      ]
    },
    {
      "cell_type": "code",
      "source": [
        "predictions=model1.predict(X_test)\n",
        "plt.scatter(y_test,predictions)"
      ],
      "metadata": {
        "colab": {
          "base_uri": "https://localhost:8080/",
          "height": 283
        },
        "id": "bEIsEIHT7uK_",
        "outputId": "18e55586-7225-439e-b7d4-47c7c5119f09"
      },
      "execution_count": 48,
      "outputs": [
        {
          "output_type": "execute_result",
          "data": {
            "text/plain": [
              "<matplotlib.collections.PathCollection at 0x7f946f14bc40>"
            ]
          },
          "metadata": {},
          "execution_count": 48
        },
        {
          "output_type": "display_data",
          "data": {
            "text/plain": [
              "<Figure size 432x288 with 1 Axes>"
            ],
            "image/png": "[encoded data removed]"
          },
          "metadata": {
            "needs_background": "light"
          }
        }
      ]
    },
    {
      "cell_type": "code",
      "source": [
        "from sklearn import metrics"
      ],
      "metadata": {
        "id": "TSxbauaO8bJI"
      },
      "execution_count": 49,
      "outputs": []
    },
    {
      "cell_type": "code",
      "source": [
        "metrics.mean_absolute_error(y_test,predictions)"
      ],
      "metadata": {
        "colab": {
          "base_uri": "https://localhost:8080/"
        },
        "id": "Gp2LVjRw8kZO",
        "outputId": "c42752d3-584d-40c5-d40e-607633db1892"
      },
      "execution_count": 50,
      "outputs": [
        {
          "output_type": "execute_result",
          "data": {
            "text/plain": [
              "2.525679021063259"
            ]
          },
          "metadata": {},
          "execution_count": 50
        }
      ]
    },
    {
      "cell_type": "code",
      "source": [
        "np.sqrt(metrics.mean_squared_error(y_test,predictions))"
      ],
      "metadata": {
        "colab": {
          "base_uri": "https://localhost:8080/"
        },
        "id": "LPvCHWz48sWI",
        "outputId": "ebaa068d-3cb2-4cbb-80cd-41a879095057"
      },
      "execution_count": 51,
      "outputs": [
        {
          "output_type": "execute_result",
          "data": {
            "text/plain": [
              "6.09588302292943"
            ]
          },
          "metadata": {},
          "execution_count": 51
        }
      ]
    },
    {
      "cell_type": "markdown",
      "source": [
        "LINEAR REGRESSION WITH STANDARDIZATION"
      ],
      "metadata": {
        "id": "zXQI7iLlhKJQ"
      }
    },
    {
      "cell_type": "code",
      "source": [
        "scaler = StandardScaler()"
      ],
      "metadata": {
        "id": "rsnByhHD9Hrq"
      },
      "execution_count": 52,
      "outputs": []
    },
    {
      "cell_type": "code",
      "source": [
        "X_train_scaled=scaler.fit_transform(X_train)\n",
        "X_test_scaled=scaler.transform(X_test)"
      ],
      "metadata": {
        "id": "1ZfMtt9uDRgB"
      },
      "execution_count": 53,
      "outputs": []
    },
    {
      "cell_type": "code",
      "source": [
        "scaler.mean_"
      ],
      "metadata": {
        "id": "75OodEUgKYND",
        "colab": {
          "base_uri": "https://localhost:8080/"
        },
        "outputId": "d8f6dd4c-82a9-48e6-c196-72aea8a1b82b"
      },
      "execution_count": 54,
      "outputs": [
        {
          "output_type": "execute_result",
          "data": {
            "text/plain": [
              "array([-7.39752364e+01,  4.07509537e+01, -7.39740852e+01,  4.07515036e+01,\n",
              "        1.66851152e+00,  2.01173926e+03,  6.27681631e+00,  1.56567689e+01,\n",
              "        3.03563794e+00,  1.34971156e+01,  3.37750798e+00])"
            ]
          },
          "metadata": {},
          "execution_count": 54
        }
      ]
    },
    {
      "cell_type": "code",
      "source": [
        "X_train_scaled=pd.DataFrame(X_train_scaled,columns=X_train.columns)"
      ],
      "metadata": {
        "id": "Ko1ZA-yNXgep"
      },
      "execution_count": 55,
      "outputs": []
    },
    {
      "cell_type": "code",
      "source": [
        "X_test_scaled=pd.DataFrame(X_test_scaled,columns=X_test.columns)"
      ],
      "metadata": {
        "id": "wq016xO8Xgh9"
      },
      "execution_count": 56,
      "outputs": []
    },
    {
      "cell_type": "code",
      "source": [
        "np.round(X_train.describe(),1)"
      ],
      "metadata": {
        "colab": {
          "base_uri": "https://localhost:8080/",
          "height": 364
        },
        "id": "L2Xa24GSYoRa",
        "outputId": "24461ca1-cb18-4e75-8872-64f36173ce49"
      },
      "execution_count": 57,
      "outputs": [
        {
          "output_type": "execute_result",
          "data": {
            "text/plain": [
              "       longitude_of_pickup  latitude_of_pickup  longitude_of_dropoff  \\\n",
              "count              34149.0             34149.0               34149.0   \n",
              "mean                 -74.0                40.8                 -74.0   \n",
              "std                    0.0                 0.0                   0.0   \n",
              "min                  -74.7                40.1                 -74.8   \n",
              "25%                  -74.0                40.7                 -74.0   \n",
              "50%                  -74.0                40.8                 -74.0   \n",
              "75%                  -74.0                40.8                 -74.0   \n",
              "max                  -73.1                41.5                 -73.1   \n",
              "\n",
              "       latitude_of_dropoff  no_of_passenger     year    month     date  \\\n",
              "count              34149.0          34149.0  34149.0  34149.0  34149.0   \n",
              "mean                  40.8              1.7   2011.7      6.3     15.7   \n",
              "std                    0.0              1.3      1.9      3.5      8.7   \n",
              "min                   40.2              1.0   2009.0      1.0      1.0   \n",
              "25%                   40.7              1.0   2010.0      3.0      8.0   \n",
              "50%                   40.8              1.0   2012.0      6.0     16.0   \n",
              "75%                   40.8              2.0   2013.0      9.0     23.0   \n",
              "max                   41.5              6.0   2015.0     12.0     31.0   \n",
              "\n",
              "           day    hours  distance_travelled  \n",
              "count  34149.0  34149.0             34149.0  \n",
              "mean       3.0     13.5                 3.4  \n",
              "std        2.0      6.5                 3.9  \n",
              "min        0.0      0.0                 0.0  \n",
              "25%        1.0      9.0                 1.3  \n",
              "50%        3.0     14.0                 2.2  \n",
              "75%        5.0     19.0                 4.0  \n",
              "max        6.0     23.0               101.1  "
            ],
            "text/html": [
              "\n",
              "  <div id=\"df-53e2d231-4ac9-4e82-bc91-54fca7c081dc\">\n",
              "    <div class=\"colab-df-container\">\n",
              "      <div>\n",
              "<style scoped>\n",
              "    .dataframe tbody tr th:only-of-type {\n",
              "        vertical-align: middle;\n",
              "    }\n",
              "\n",
              "    .dataframe tbody tr th {\n",
              "        vertical-align: top;\n",
              "    }\n",
              "\n",
              "    .dataframe thead th {\n",
              "        text-align: right;\n",
              "    }\n",
              "</style>\n",
              "<table border=\"1\" class=\"dataframe\">\n",
              "  <thead>\n",
              "    <tr style=\"text-align: right;\">\n",
              "      <th></th>\n",
              "      <th>longitude_of_pickup</th>\n",
              "      <th>latitude_of_pickup</th>\n",
              "      <th>longitude_of_dropoff</th>\n",
              "      <th>latitude_of_dropoff</th>\n",
              "      <th>no_of_passenger</th>\n",
              "      <th>year</th>\n",
              "      <th>month</th>\n",
              "      <th>date</th>\n",
              "      <th>day</th>\n",
              "      <th>hours</th>\n",
              "      <th>distance_travelled</th>\n",
              "    </tr>\n",
              "  </thead>\n",
              "  <tbody>\n",
              "    <tr>\n",
              "      <th>count</th>\n",
              "      <td>34149.0</td>\n",
              "      <td>34149.0</td>\n",
              "      <td>34149.0</td>\n",
              "      <td>34149.0</td>\n",
              "      <td>34149.0</td>\n",
              "      <td>34149.0</td>\n",
              "      <td>34149.0</td>\n",
              "      <td>34149.0</td>\n",
              "      <td>34149.0</td>\n",
              "      <td>34149.0</td>\n",
              "      <td>34149.0</td>\n",
              "    </tr>\n",
              "    <tr>\n",
              "      <th>mean</th>\n",
              "      <td>-74.0</td>\n",
              "      <td>40.8</td>\n",
              "      <td>-74.0</td>\n",
              "      <td>40.8</td>\n",
              "      <td>1.7</td>\n",
              "      <td>2011.7</td>\n",
              "      <td>6.3</td>\n",
              "      <td>15.7</td>\n",
              "      <td>3.0</td>\n",
              "      <td>13.5</td>\n",
              "      <td>3.4</td>\n",
              "    </tr>\n",
              "    <tr>\n",
              "      <th>std</th>\n",
              "      <td>0.0</td>\n",
              "      <td>0.0</td>\n",
              "      <td>0.0</td>\n",
              "      <td>0.0</td>\n",
              "      <td>1.3</td>\n",
              "      <td>1.9</td>\n",
              "      <td>3.5</td>\n",
              "      <td>8.7</td>\n",
              "      <td>2.0</td>\n",
              "      <td>6.5</td>\n",
              "      <td>3.9</td>\n",
              "    </tr>\n",
              "    <tr>\n",
              "      <th>min</th>\n",
              "      <td>-74.7</td>\n",
              "      <td>40.1</td>\n",
              "      <td>-74.8</td>\n",
              "      <td>40.2</td>\n",
              "      <td>1.0</td>\n",
              "      <td>2009.0</td>\n",
              "      <td>1.0</td>\n",
              "      <td>1.0</td>\n",
              "      <td>0.0</td>\n",
              "      <td>0.0</td>\n",
              "      <td>0.0</td>\n",
              "    </tr>\n",
              "    <tr>\n",
              "      <th>25%</th>\n",
              "      <td>-74.0</td>\n",
              "      <td>40.7</td>\n",
              "      <td>-74.0</td>\n",
              "      <td>40.7</td>\n",
              "      <td>1.0</td>\n",
              "      <td>2010.0</td>\n",
              "      <td>3.0</td>\n",
              "      <td>8.0</td>\n",
              "      <td>1.0</td>\n",
              "      <td>9.0</td>\n",
              "      <td>1.3</td>\n",
              "    </tr>\n",
              "    <tr>\n",
              "      <th>50%</th>\n",
              "      <td>-74.0</td>\n",
              "      <td>40.8</td>\n",
              "      <td>-74.0</td>\n",
              "      <td>40.8</td>\n",
              "      <td>1.0</td>\n",
              "      <td>2012.0</td>\n",
              "      <td>6.0</td>\n",
              "      <td>16.0</td>\n",
              "      <td>3.0</td>\n",
              "      <td>14.0</td>\n",
              "      <td>2.2</td>\n",
              "    </tr>\n",
              "    <tr>\n",
              "      <th>75%</th>\n",
              "      <td>-74.0</td>\n",
              "      <td>40.8</td>\n",
              "      <td>-74.0</td>\n",
              "      <td>40.8</td>\n",
              "      <td>2.0</td>\n",
              "      <td>2013.0</td>\n",
              "      <td>9.0</td>\n",
              "      <td>23.0</td>\n",
              "      <td>5.0</td>\n",
              "      <td>19.0</td>\n",
              "      <td>4.0</td>\n",
              "    </tr>\n",
              "    <tr>\n",
              "      <th>max</th>\n",
              "      <td>-73.1</td>\n",
              "      <td>41.5</td>\n",
              "      <td>-73.1</td>\n",
              "      <td>41.5</td>\n",
              "      <td>6.0</td>\n",
              "      <td>2015.0</td>\n",
              "      <td>12.0</td>\n",
              "      <td>31.0</td>\n",
              "      <td>6.0</td>\n",
              "      <td>23.0</td>\n",
              "      <td>101.1</td>\n",
              "    </tr>\n",
              "  </tbody>\n",
              "</table>\n",
              "</div>\n",
              "      <button class=\"colab-df-convert\" onclick=\"convertToInteractive('df-53e2d231-4ac9-4e82-bc91-54fca7c081dc')\"\n",
              "              title=\"Convert this dataframe to an interactive table.\"\n",
              "              style=\"display:none;\">\n",
              "        \n",
              "  <svg xmlns=\"http://www.w3.org/2000/svg\" height=\"24px\"viewBox=\"0 0 24 24\"\n",
              "       width=\"24px\">\n",
              "    <path d=\"M0 0h24v24H0V0z\" fill=\"none\"/>\n",
              "    <path d=\"M18.56 5.44l.94 2.06.94-2.06 2.06-.94-2.06-.94-.94-2.06-.94 2.06-2.06.94zm-11 1L8.5 8.5l.94-2.06 2.06-.94-2.06-.94L8.5 2.5l-.94 2.06-2.06.94zm10 10l.94 2.06.94-2.06 2.06-.94-2.06-.94-.94-2.06-.94 2.06-2.06.94z\"/><path d=\"M17.41 7.96l-1.37-1.37c-.4-.4-.92-.59-1.43-.59-.52 0-1.04.2-1.43.59L10.3 9.45l-7.72 7.72c-.78.78-.78 2.05 0 2.83L4 21.41c.39.39.9.59 1.41.59.51 0 1.02-.2 1.41-.59l7.78-7.78 2.81-2.81c.8-.78.8-2.07 0-2.86zM5.41 20L4 18.59l7.72-7.72 1.47 1.35L5.41 20z\"/>\n",
              "  </svg>\n",
              "      </button>\n",
              "      \n",
              "  <style>\n",
              "    .colab-df-container {\n",
              "      display:flex;\n",
              "      flex-wrap:wrap;\n",
              "      gap: 12px;\n",
              "    }\n",
              "\n",
              "    .colab-df-convert {\n",
              "      background-color: #E8F0FE;\n",
              "      border: none;\n",
              "      border-radius: 50%;\n",
              "      cursor: pointer;\n",
              "      display: none;\n",
              "      fill: #1967D2;\n",
              "      height: 32px;\n",
              "      padding: 0 0 0 0;\n",
              "      width: 32px;\n",
              "    }\n",
              "\n",
              "    .colab-df-convert:hover {\n",
              "      background-color: #E2EBFA;\n",
              "      box-shadow: 0px 1px 2px rgba(60, 64, 67, 0.3), 0px 1px 3px 1px rgba(60, 64, 67, 0.15);\n",
              "      fill: #174EA6;\n",
              "    }\n",
              "\n",
              "    [theme=dark] .colab-df-convert {\n",
              "      background-color: #3B4455;\n",
              "      fill: #D2E3FC;\n",
              "    }\n",
              "\n",
              "    [theme=dark] .colab-df-convert:hover {\n",
              "      background-color: #434B5C;\n",
              "      box-shadow: 0px 1px 3px 1px rgba(0, 0, 0, 0.15);\n",
              "      filter: drop-shadow(0px 1px 2px rgba(0, 0, 0, 0.3));\n",
              "      fill: #FFFFFF;\n",
              "    }\n",
              "  </style>\n",
              "\n",
              "      <script>\n",
              "        const buttonEl =\n",
              "          document.querySelector('#df-53e2d231-4ac9-4e82-bc91-54fca7c081dc button.colab-df-convert');\n",
              "        buttonEl.style.display =\n",
              "          google.colab.kernel.accessAllowed ? 'block' : 'none';\n",
              "\n",
              "        async function convertToInteractive(key) {\n",
              "          const element = document.querySelector('#df-53e2d231-4ac9-4e82-bc91-54fca7c081dc');\n",
              "          const dataTable =\n",
              "            await google.colab.kernel.invokeFunction('convertToInteractive',\n",
              "                                                     [key], {});\n",
              "          if (!dataTable) return;\n",
              "\n",
              "          const docLinkHtml = 'Like what you see? Visit the ' +\n",
              "            '<a target=\"_blank\" href=https://colab.research.google.com/notebooks/data_table.ipynb>data table notebook</a>'\n",
              "            + ' to learn more about interactive tables.';\n",
              "          element.innerHTML = '';\n",
              "          dataTable['output_type'] = 'display_data';\n",
              "          await google.colab.output.renderOutput(dataTable, element);\n",
              "          const docLink = document.createElement('div');\n",
              "          docLink.innerHTML = docLinkHtml;\n",
              "          element.appendChild(docLink);\n",
              "        }\n",
              "      </script>\n",
              "    </div>\n",
              "  </div>\n",
              "  "
            ]
          },
          "metadata": {},
          "execution_count": 57
        }
      ]
    },
    {
      "cell_type": "code",
      "source": [
        "np.round(X_train_scaled.describe(),1)"
      ],
      "metadata": {
        "colab": {
          "base_uri": "https://localhost:8080/",
          "height": 364
        },
        "id": "VPIgaRvJYohO",
        "outputId": "a33d93f3-2577-4403-ed99-49cc973886e4"
      },
      "execution_count": 58,
      "outputs": [
        {
          "output_type": "execute_result",
          "data": {
            "text/plain": [
              "       longitude_of_pickup  latitude_of_pickup  longitude_of_dropoff  \\\n",
              "count              34149.0             34149.0               34149.0   \n",
              "mean                  -0.0                -0.0                  -0.0   \n",
              "std                    1.0                 1.0                   1.0   \n",
              "min                  -19.0               -20.7                 -20.8   \n",
              "25%                   -0.4                -0.5                  -0.5   \n",
              "50%                   -0.2                 0.1                  -0.2   \n",
              "75%                    0.2                 0.6                   0.2   \n",
              "max                   21.6                25.5                  22.3   \n",
              "\n",
              "       latitude_of_dropoff  no_of_passenger     year    month     date  \\\n",
              "count              34149.0          34149.0  34149.0  34149.0  34149.0   \n",
              "mean                   0.0             -0.0      0.0     -0.0     -0.0   \n",
              "std                    1.0              1.0      1.0      1.0      1.0   \n",
              "min                  -17.5             -0.5     -1.5     -1.5     -1.7   \n",
              "25%                   -0.5             -0.5     -0.9     -0.9     -0.9   \n",
              "50%                    0.1             -0.5      0.1     -0.1      0.0   \n",
              "75%                    0.5              0.3      0.7      0.8      0.8   \n",
              "max                   23.6              3.4      1.7      1.7      1.8   \n",
              "\n",
              "           day    hours  distance_travelled  \n",
              "count  34149.0  34149.0             34149.0  \n",
              "mean       0.0      0.0                 0.0  \n",
              "std        1.0      1.0                 1.0  \n",
              "min       -1.6     -2.1                -0.9  \n",
              "25%       -1.0     -0.7                -0.5  \n",
              "50%       -0.0      0.1                -0.3  \n",
              "75%        1.0      0.8                 0.2  \n",
              "max        1.5      1.5                25.3  "
            ],
            "text/html": [
              "\n",
              "  <div id=\"df-ea0d2080-37b5-4fe4-9638-e58ab6dc4970\">\n",
              "    <div class=\"colab-df-container\">\n",
              "      <div>\n",
              "<style scoped>\n",
              "    .dataframe tbody tr th:only-of-type {\n",
              "        vertical-align: middle;\n",
              "    }\n",
              "\n",
              "    .dataframe tbody tr th {\n",
              "        vertical-align: top;\n",
              "    }\n",
              "\n",
              "    .dataframe thead th {\n",
              "        text-align: right;\n",
              "    }\n",
              "</style>\n",
              "<table border=\"1\" class=\"dataframe\">\n",
              "  <thead>\n",
              "    <tr style=\"text-align: right;\">\n",
              "      <th></th>\n",
              "      <th>longitude_of_pickup</th>\n",
              "      <th>latitude_of_pickup</th>\n",
              "      <th>longitude_of_dropoff</th>\n",
              "      <th>latitude_of_dropoff</th>\n",
              "      <th>no_of_passenger</th>\n",
              "      <th>year</th>\n",
              "      <th>month</th>\n",
              "      <th>date</th>\n",
              "      <th>day</th>\n",
              "      <th>hours</th>\n",
              "      <th>distance_travelled</th>\n",
              "    </tr>\n",
              "  </thead>\n",
              "  <tbody>\n",
              "    <tr>\n",
              "      <th>count</th>\n",
              "      <td>34149.0</td>\n",
              "      <td>34149.0</td>\n",
              "      <td>34149.0</td>\n",
              "      <td>34149.0</td>\n",
              "      <td>34149.0</td>\n",
              "      <td>34149.0</td>\n",
              "      <td>34149.0</td>\n",
              "      <td>34149.0</td>\n",
              "      <td>34149.0</td>\n",
              "      <td>34149.0</td>\n",
              "      <td>34149.0</td>\n",
              "    </tr>\n",
              "    <tr>\n",
              "      <th>mean</th>\n",
              "      <td>-0.0</td>\n",
              "      <td>-0.0</td>\n",
              "      <td>-0.0</td>\n",
              "      <td>0.0</td>\n",
              "      <td>-0.0</td>\n",
              "      <td>0.0</td>\n",
              "      <td>-0.0</td>\n",
              "      <td>-0.0</td>\n",
              "      <td>0.0</td>\n",
              "      <td>0.0</td>\n",
              "      <td>0.0</td>\n",
              "    </tr>\n",
              "    <tr>\n",
              "      <th>std</th>\n",
              "      <td>1.0</td>\n",
              "      <td>1.0</td>\n",
              "      <td>1.0</td>\n",
              "      <td>1.0</td>\n",
              "      <td>1.0</td>\n",
              "      <td>1.0</td>\n",
              "      <td>1.0</td>\n",
              "      <td>1.0</td>\n",
              "      <td>1.0</td>\n",
              "      <td>1.0</td>\n",
              "      <td>1.0</td>\n",
              "    </tr>\n",
              "    <tr>\n",
              "      <th>min</th>\n",
              "      <td>-19.0</td>\n",
              "      <td>-20.7</td>\n",
              "      <td>-20.8</td>\n",
              "      <td>-17.5</td>\n",
              "      <td>-0.5</td>\n",
              "      <td>-1.5</td>\n",
              "      <td>-1.5</td>\n",
              "      <td>-1.7</td>\n",
              "      <td>-1.6</td>\n",
              "      <td>-2.1</td>\n",
              "      <td>-0.9</td>\n",
              "    </tr>\n",
              "    <tr>\n",
              "      <th>25%</th>\n",
              "      <td>-0.4</td>\n",
              "      <td>-0.5</td>\n",
              "      <td>-0.5</td>\n",
              "      <td>-0.5</td>\n",
              "      <td>-0.5</td>\n",
              "      <td>-0.9</td>\n",
              "      <td>-0.9</td>\n",
              "      <td>-0.9</td>\n",
              "      <td>-1.0</td>\n",
              "      <td>-0.7</td>\n",
              "      <td>-0.5</td>\n",
              "    </tr>\n",
              "    <tr>\n",
              "      <th>50%</th>\n",
              "      <td>-0.2</td>\n",
              "      <td>0.1</td>\n",
              "      <td>-0.2</td>\n",
              "      <td>0.1</td>\n",
              "      <td>-0.5</td>\n",
              "      <td>0.1</td>\n",
              "      <td>-0.1</td>\n",
              "      <td>0.0</td>\n",
              "      <td>-0.0</td>\n",
              "      <td>0.1</td>\n",
              "      <td>-0.3</td>\n",
              "    </tr>\n",
              "    <tr>\n",
              "      <th>75%</th>\n",
              "      <td>0.2</td>\n",
              "      <td>0.6</td>\n",
              "      <td>0.2</td>\n",
              "      <td>0.5</td>\n",
              "      <td>0.3</td>\n",
              "      <td>0.7</td>\n",
              "      <td>0.8</td>\n",
              "      <td>0.8</td>\n",
              "      <td>1.0</td>\n",
              "      <td>0.8</td>\n",
              "      <td>0.2</td>\n",
              "    </tr>\n",
              "    <tr>\n",
              "      <th>max</th>\n",
              "      <td>21.6</td>\n",
              "      <td>25.5</td>\n",
              "      <td>22.3</td>\n",
              "      <td>23.6</td>\n",
              "      <td>3.4</td>\n",
              "      <td>1.7</td>\n",
              "      <td>1.7</td>\n",
              "      <td>1.8</td>\n",
              "      <td>1.5</td>\n",
              "      <td>1.5</td>\n",
              "      <td>25.3</td>\n",
              "    </tr>\n",
              "  </tbody>\n",
              "</table>\n",
              "</div>\n",
              "      <button class=\"colab-df-convert\" onclick=\"convertToInteractive('df-ea0d2080-37b5-4fe4-9638-e58ab6dc4970')\"\n",
              "              title=\"Convert this dataframe to an interactive table.\"\n",
              "              style=\"display:none;\">\n",
              "        \n",
              "  <svg xmlns=\"http://www.w3.org/2000/svg\" height=\"24px\"viewBox=\"0 0 24 24\"\n",
              "       width=\"24px\">\n",
              "    <path d=\"M0 0h24v24H0V0z\" fill=\"none\"/>\n",
              "    <path d=\"M18.56 5.44l.94 2.06.94-2.06 2.06-.94-2.06-.94-.94-2.06-.94 2.06-2.06.94zm-11 1L8.5 8.5l.94-2.06 2.06-.94-2.06-.94L8.5 2.5l-.94 2.06-2.06.94zm10 10l.94 2.06.94-2.06 2.06-.94-2.06-.94-.94-2.06-.94 2.06-2.06.94z\"/><path d=\"M17.41 7.96l-1.37-1.37c-.4-.4-.92-.59-1.43-.59-.52 0-1.04.2-1.43.59L10.3 9.45l-7.72 7.72c-.78.78-.78 2.05 0 2.83L4 21.41c.39.39.9.59 1.41.59.51 0 1.02-.2 1.41-.59l7.78-7.78 2.81-2.81c.8-.78.8-2.07 0-2.86zM5.41 20L4 18.59l7.72-7.72 1.47 1.35L5.41 20z\"/>\n",
              "  </svg>\n",
              "      </button>\n",
              "      \n",
              "  <style>\n",
              "    .colab-df-container {\n",
              "      display:flex;\n",
              "      flex-wrap:wrap;\n",
              "      gap: 12px;\n",
              "    }\n",
              "\n",
              "    .colab-df-convert {\n",
              "      background-color: #E8F0FE;\n",
              "      border: none;\n",
              "      border-radius: 50%;\n",
              "      cursor: pointer;\n",
              "      display: none;\n",
              "      fill: #1967D2;\n",
              "      height: 32px;\n",
              "      padding: 0 0 0 0;\n",
              "      width: 32px;\n",
              "    }\n",
              "\n",
              "    .colab-df-convert:hover {\n",
              "      background-color: #E2EBFA;\n",
              "      box-shadow: 0px 1px 2px rgba(60, 64, 67, 0.3), 0px 1px 3px 1px rgba(60, 64, 67, 0.15);\n",
              "      fill: #174EA6;\n",
              "    }\n",
              "\n",
              "    [theme=dark] .colab-df-convert {\n",
              "      background-color: #3B4455;\n",
              "      fill: #D2E3FC;\n",
              "    }\n",
              "\n",
              "    [theme=dark] .colab-df-convert:hover {\n",
              "      background-color: #434B5C;\n",
              "      box-shadow: 0px 1px 3px 1px rgba(0, 0, 0, 0.15);\n",
              "      filter: drop-shadow(0px 1px 2px rgba(0, 0, 0, 0.3));\n",
              "      fill: #FFFFFF;\n",
              "    }\n",
              "  </style>\n",
              "\n",
              "      <script>\n",
              "        const buttonEl =\n",
              "          document.querySelector('#df-ea0d2080-37b5-4fe4-9638-e58ab6dc4970 button.colab-df-convert');\n",
              "        buttonEl.style.display =\n",
              "          google.colab.kernel.accessAllowed ? 'block' : 'none';\n",
              "\n",
              "        async function convertToInteractive(key) {\n",
              "          const element = document.querySelector('#df-ea0d2080-37b5-4fe4-9638-e58ab6dc4970');\n",
              "          const dataTable =\n",
              "            await google.colab.kernel.invokeFunction('convertToInteractive',\n",
              "                                                     [key], {});\n",
              "          if (!dataTable) return;\n",
              "\n",
              "          const docLinkHtml = 'Like what you see? Visit the ' +\n",
              "            '<a target=\"_blank\" href=https://colab.research.google.com/notebooks/data_table.ipynb>data table notebook</a>'\n",
              "            + ' to learn more about interactive tables.';\n",
              "          element.innerHTML = '';\n",
              "          dataTable['output_type'] = 'display_data';\n",
              "          await google.colab.output.renderOutput(dataTable, element);\n",
              "          const docLink = document.createElement('div');\n",
              "          docLink.innerHTML = docLinkHtml;\n",
              "          element.appendChild(docLink);\n",
              "        }\n",
              "      </script>\n",
              "    </div>\n",
              "  </div>\n",
              "  "
            ]
          },
          "metadata": {},
          "execution_count": 58
        }
      ]
    },
    {
      "cell_type": "code",
      "source": [
        "model2 = LinearRegression().fit(X_train_scaled, y_train)"
      ],
      "metadata": {
        "id": "Ll9QVibhZkWB"
      },
      "execution_count": 59,
      "outputs": []
    },
    {
      "cell_type": "code",
      "source": [
        "model2.score(X_train_scaled,y_train)"
      ],
      "metadata": {
        "colab": {
          "base_uri": "https://localhost:8080/"
        },
        "id": "AoAFo2PQZkjq",
        "outputId": "501dcf58-cc45-435d-8012-f4c86d5646ad"
      },
      "execution_count": 60,
      "outputs": [
        {
          "output_type": "execute_result",
          "data": {
            "text/plain": [
              "0.6668582066183524"
            ]
          },
          "metadata": {},
          "execution_count": 60
        }
      ]
    },
    {
      "cell_type": "code",
      "source": [
        "model2.score(X_test_scaled,y_test)"
      ],
      "metadata": {
        "colab": {
          "base_uri": "https://localhost:8080/"
        },
        "id": "yMh2oLRcZ6ck",
        "outputId": "efe61cd2-313f-4c08-fcfa-626fd76be647"
      },
      "execution_count": 61,
      "outputs": [
        {
          "output_type": "execute_result",
          "data": {
            "text/plain": [
              "0.5729298614427711"
            ]
          },
          "metadata": {},
          "execution_count": 61
        }
      ]
    },
    {
      "cell_type": "markdown",
      "source": [
        "Decision Tree"
      ],
      "metadata": {
        "id": "r57_1dX7LPjm"
      }
    },
    {
      "cell_type": "code",
      "source": [],
      "metadata": {
        "id": "7XhKdy4MZjBE"
      },
      "execution_count": 61,
      "outputs": []
    },
    {
      "cell_type": "code",
      "source": [
        "from sklearn.tree import DecisionTreeRegressor "
      ],
      "metadata": {
        "id": "Vb6cqU6bLTPA"
      },
      "execution_count": 62,
      "outputs": []
    },
    {
      "cell_type": "code",
      "source": [
        "model3= DecisionTreeRegressor(random_state = 0,max_depth=6) "
      ],
      "metadata": {
        "id": "6dD2dLe2LUVr"
      },
      "execution_count": 63,
      "outputs": []
    },
    {
      "cell_type": "code",
      "source": [
        "model3.fit(X_train,y_train)"
      ],
      "metadata": {
        "colab": {
          "base_uri": "https://localhost:8080/"
        },
        "id": "Lf08C8SPLdu1",
        "outputId": "b147c5e1-feaa-4625-f3af-74d0d73c6343"
      },
      "execution_count": 64,
      "outputs": [
        {
          "output_type": "execute_result",
          "data": {
            "text/plain": [
              "DecisionTreeRegressor(max_depth=6, random_state=0)"
            ]
          },
          "metadata": {},
          "execution_count": 64
        }
      ]
    },
    {
      "cell_type": "code",
      "source": [
        "model3.score(X_train,y_train)"
      ],
      "metadata": {
        "colab": {
          "base_uri": "https://localhost:8080/"
        },
        "id": "4-8xIfi4Lmg-",
        "outputId": "94b0e056-2e25-4ecc-a50f-9d830a0d4007"
      },
      "execution_count": 65,
      "outputs": [
        {
          "output_type": "execute_result",
          "data": {
            "text/plain": [
              "0.8007440619767003"
            ]
          },
          "metadata": {},
          "execution_count": 65
        }
      ]
    },
    {
      "cell_type": "code",
      "source": [
        "model3.score(X_test,y_test)"
      ],
      "metadata": {
        "colab": {
          "base_uri": "https://localhost:8080/"
        },
        "id": "O5rFmpF7LyTC",
        "outputId": "eb330215-b917-4bb9-b6bb-4549f8650a0b"
      },
      "execution_count": 66,
      "outputs": [
        {
          "output_type": "execute_result",
          "data": {
            "text/plain": [
              "0.7769819362207281"
            ]
          },
          "metadata": {},
          "execution_count": 66
        }
      ]
    },
    {
      "cell_type": "code",
      "source": [
        "model3.predict(X_test)"
      ],
      "metadata": {
        "colab": {
          "base_uri": "https://localhost:8080/"
        },
        "id": "XtdqhtUrL3us",
        "outputId": "c8137384-3f41-4187-8146-0a16a5c2f950"
      },
      "execution_count": 67,
      "outputs": [
        {
          "output_type": "execute_result",
          "data": {
            "text/plain": [
              "array([12.68836387,  6.35461459,  6.35461459, ...,  6.35461459,\n",
              "        6.35461459, 12.68836387])"
            ]
          },
          "metadata": {},
          "execution_count": 67
        }
      ]
    },
    {
      "cell_type": "markdown",
      "source": [
        "SVR"
      ],
      "metadata": {
        "id": "WBgOAlwrMzti"
      }
    },
    {
      "cell_type": "code",
      "source": [
        "from sklearn.svm import SVR"
      ],
      "metadata": {
        "id": "hVcxPt2fM3Zx"
      },
      "execution_count": 68,
      "outputs": []
    },
    {
      "cell_type": "code",
      "source": [
        "model4=SVR(kernel='linear')"
      ],
      "metadata": {
        "id": "aK6EqprrbS_J"
      },
      "execution_count": 69,
      "outputs": []
    },
    {
      "cell_type": "code",
      "source": [
        "model4.fit(X_train,y_train)"
      ],
      "metadata": {
        "colab": {
          "base_uri": "https://localhost:8080/"
        },
        "id": "0NNNB7KUbkvi",
        "outputId": "242d0c4d-464f-448b-b8df-8afbd101eb8e"
      },
      "execution_count": 70,
      "outputs": [
        {
          "output_type": "execute_result",
          "data": {
            "text/plain": [
              "SVR(kernel='linear')"
            ]
          },
          "metadata": {},
          "execution_count": 70
        }
      ]
    },
    {
      "cell_type": "code",
      "source": [
        "model4.score(X_train,y_train)"
      ],
      "metadata": {
        "colab": {
          "base_uri": "https://localhost:8080/"
        },
        "id": "4-90yeVrbor9",
        "outputId": "e010ea71-5916-4b14-ef9f-d206bb13aa94"
      },
      "execution_count": 71,
      "outputs": [
        {
          "output_type": "execute_result",
          "data": {
            "text/plain": [
              "0.5753766520293232"
            ]
          },
          "metadata": {},
          "execution_count": 71
        }
      ]
    },
    {
      "cell_type": "code",
      "source": [
        "model4.score(X_test,y_test)"
      ],
      "metadata": {
        "colab": {
          "base_uri": "https://localhost:8080/"
        },
        "id": "Zrfm0DdWgNJv",
        "outputId": "c1e035fa-275a-4b3c-c8a5-bc0ea167115c"
      },
      "execution_count": 72,
      "outputs": [
        {
          "output_type": "execute_result",
          "data": {
            "text/plain": [
              "0.4022972445465287"
            ]
          },
          "metadata": {},
          "execution_count": 72
        }
      ]
    },
    {
      "cell_type": "markdown",
      "source": [
        "SVR WITH STANDARDIZATION"
      ],
      "metadata": {
        "id": "OxKTg95-hj02"
      }
    },
    {
      "cell_type": "code",
      "source": [
        "model5=SVR().fit(X_train_scaled,y_train)"
      ],
      "metadata": {
        "id": "akrNsJZ7hmZi"
      },
      "execution_count": 73,
      "outputs": []
    },
    {
      "cell_type": "code",
      "source": [
        "model5.score(X_train_scaled,y_train)"
      ],
      "metadata": {
        "colab": {
          "base_uri": "https://localhost:8080/"
        },
        "id": "eI0z9HQ7iFAt",
        "outputId": "9aed28d4-c8c7-41d0-92a0-c10859076379"
      },
      "execution_count": 74,
      "outputs": [
        {
          "output_type": "execute_result",
          "data": {
            "text/plain": [
              "0.7622920101557092"
            ]
          },
          "metadata": {},
          "execution_count": 74
        }
      ]
    },
    {
      "cell_type": "code",
      "source": [
        "model5.score(X_test_scaled,y_test)"
      ],
      "metadata": {
        "colab": {
          "base_uri": "https://localhost:8080/"
        },
        "id": "r5tKuEQ2iUvZ",
        "outputId": "10ac6c41-88f4-499d-f2f0-13e5a8086c93"
      },
      "execution_count": 75,
      "outputs": [
        {
          "output_type": "execute_result",
          "data": {
            "text/plain": [
              "0.7770290495951545"
            ]
          },
          "metadata": {},
          "execution_count": 75
        }
      ]
    },
    {
      "cell_type": "markdown",
      "source": [
        "BAGGING REGRESSION"
      ],
      "metadata": {
        "id": "B6LvBF_Vi0Mp"
      }
    },
    {
      "cell_type": "code",
      "source": [
        "from sklearn.ensemble import BaggingRegressor"
      ],
      "metadata": {
        "id": "fjURq98ji9-e"
      },
      "execution_count": 76,
      "outputs": []
    },
    {
      "cell_type": "code",
      "source": [
        "model6=BaggingRegressor(base_estimator=model3,n_estimators=45)"
      ],
      "metadata": {
        "id": "xjus7fW7nDOQ"
      },
      "execution_count": 77,
      "outputs": []
    },
    {
      "cell_type": "code",
      "source": [
        "model6.fit(X_train,y_train)"
      ],
      "metadata": {
        "colab": {
          "base_uri": "https://localhost:8080/"
        },
        "id": "SJ9yh6-FnJc9",
        "outputId": "38c31bd4-96b1-4b9e-aa60-15d6ca176464"
      },
      "execution_count": 78,
      "outputs": [
        {
          "output_type": "execute_result",
          "data": {
            "text/plain": [
              "BaggingRegressor(base_estimator=DecisionTreeRegressor(max_depth=6,\n",
              "                                                      random_state=0),\n",
              "                 n_estimators=45)"
            ]
          },
          "metadata": {},
          "execution_count": 78
        }
      ]
    },
    {
      "cell_type": "code",
      "source": [
        "model6.score(X_train,y_train)"
      ],
      "metadata": {
        "colab": {
          "base_uri": "https://localhost:8080/"
        },
        "id": "XeC51JzdnUc4",
        "outputId": "6fdb68a3-ef64-4fc0-9e14-cf0b66449106"
      },
      "execution_count": 79,
      "outputs": [
        {
          "output_type": "execute_result",
          "data": {
            "text/plain": [
              "0.8241039443104164"
            ]
          },
          "metadata": {},
          "execution_count": 79
        }
      ]
    },
    {
      "cell_type": "code",
      "source": [
        "model6.score(X_test,y_test)"
      ],
      "metadata": {
        "colab": {
          "base_uri": "https://localhost:8080/"
        },
        "id": "C9KXDYpbnY5W",
        "outputId": "65df8889-3dc2-483c-ef82-b77197fee540"
      },
      "execution_count": 80,
      "outputs": [
        {
          "output_type": "execute_result",
          "data": {
            "text/plain": [
              "0.7953922805113715"
            ]
          },
          "metadata": {},
          "execution_count": 80
        }
      ]
    },
    {
      "cell_type": "markdown",
      "source": [
        "ADABOOST"
      ],
      "metadata": {
        "id": "bST6AxpWq0fG"
      }
    },
    {
      "cell_type": "code",
      "source": [
        "from sklearn.ensemble import AdaBoostRegressor"
      ],
      "metadata": {
        "id": "E5tkMlGAq5y7"
      },
      "execution_count": 81,
      "outputs": []
    },
    {
      "cell_type": "code",
      "source": [
        "model7 =AdaBoostRegressor(n_estimators=50)"
      ],
      "metadata": {
        "id": "ZrozfmSYrG9n"
      },
      "execution_count": 82,
      "outputs": []
    },
    {
      "cell_type": "code",
      "source": [
        "model7.fit(X_train,y_train)"
      ],
      "metadata": {
        "colab": {
          "base_uri": "https://localhost:8080/"
        },
        "id": "XIcMY6gdrQhX",
        "outputId": "a8dbe7bb-ad11-412f-fd2b-a70d36d3ebbd"
      },
      "execution_count": 83,
      "outputs": [
        {
          "output_type": "execute_result",
          "data": {
            "text/plain": [
              "AdaBoostRegressor()"
            ]
          },
          "metadata": {},
          "execution_count": 83
        }
      ]
    },
    {
      "cell_type": "code",
      "source": [
        "model7.score(X_train,y_train)"
      ],
      "metadata": {
        "colab": {
          "base_uri": "https://localhost:8080/"
        },
        "id": "JELhHKRbrmgF",
        "outputId": "adf20c16-f138-4699-8eae-d400e3723032"
      },
      "execution_count": 84,
      "outputs": [
        {
          "output_type": "execute_result",
          "data": {
            "text/plain": [
              "0.44473607777275315"
            ]
          },
          "metadata": {},
          "execution_count": 84
        }
      ]
    },
    {
      "cell_type": "code",
      "source": [
        "model7.score(X_test,y_test)"
      ],
      "metadata": {
        "colab": {
          "base_uri": "https://localhost:8080/"
        },
        "id": "vcyvel-orqtY",
        "outputId": "0002a859-15c4-4407-aad1-cfc87b3c74d3"
      },
      "execution_count": 85,
      "outputs": [
        {
          "output_type": "execute_result",
          "data": {
            "text/plain": [
              "0.3741548830578507"
            ]
          },
          "metadata": {},
          "execution_count": 85
        }
      ]
    },
    {
      "cell_type": "code",
      "source": [],
      "metadata": {
        "id": "THFRPE7AuuKO"
      },
      "execution_count": 85,
      "outputs": []
    },
    {
      "cell_type": "markdown",
      "source": [
        "GRADIENT BOOSTING"
      ],
      "metadata": {
        "id": "JNOjajbf4ktO"
      }
    },
    {
      "cell_type": "code",
      "source": [
        "from sklearn.ensemble import GradientBoostingRegressor"
      ],
      "metadata": {
        "id": "NoK2k7cy4n-v"
      },
      "execution_count": 86,
      "outputs": []
    },
    {
      "cell_type": "code",
      "source": [
        "model8=GradientBoostingRegressor()"
      ],
      "metadata": {
        "id": "XMKklybZ4zTm"
      },
      "execution_count": 87,
      "outputs": []
    },
    {
      "cell_type": "code",
      "source": [
        "model8.fit(X_train,y_train)"
      ],
      "metadata": {
        "colab": {
          "base_uri": "https://localhost:8080/"
        },
        "id": "QtH2nQdb43EY",
        "outputId": "0f52418f-5748-446c-feb0-c93fd082d5d7"
      },
      "execution_count": 88,
      "outputs": [
        {
          "output_type": "execute_result",
          "data": {
            "text/plain": [
              "GradientBoostingRegressor()"
            ]
          },
          "metadata": {},
          "execution_count": 88
        }
      ]
    },
    {
      "cell_type": "code",
      "source": [
        "model8.score(X_train,y_train)"
      ],
      "metadata": {
        "colab": {
          "base_uri": "https://localhost:8080/"
        },
        "id": "37jJwK7147v7",
        "outputId": "3c791b2b-ca53-4ec8-940a-414a6f1ff8d9"
      },
      "execution_count": 89,
      "outputs": [
        {
          "output_type": "execute_result",
          "data": {
            "text/plain": [
              "0.8516486807365139"
            ]
          },
          "metadata": {},
          "execution_count": 89
        }
      ]
    },
    {
      "cell_type": "code",
      "source": [
        "model8.score(X_test,y_test)"
      ],
      "metadata": {
        "colab": {
          "base_uri": "https://localhost:8080/"
        },
        "id": "6HiQHRZN4_Pz",
        "outputId": "f6d4a0d6-2a1a-4a7f-db57-3f2e550ead7a"
      },
      "execution_count": 90,
      "outputs": [
        {
          "output_type": "execute_result",
          "data": {
            "text/plain": [
              "0.8050022663375256"
            ]
          },
          "metadata": {},
          "execution_count": 90
        }
      ]
    },
    {
      "cell_type": "code",
      "source": [],
      "metadata": {
        "id": "9t-9WyfT5Cev"
      },
      "execution_count": 90,
      "outputs": []
    },
    {
      "cell_type": "markdown",
      "source": [
        "RANDOM FOREST REGRESSION"
      ],
      "metadata": {
        "id": "ueCGORua5IiA"
      }
    },
    {
      "cell_type": "code",
      "source": [
        "from sklearn.ensemble import RandomForestRegressor"
      ],
      "metadata": {
        "id": "nIMPrQNl5Nze"
      },
      "execution_count": 91,
      "outputs": []
    },
    {
      "cell_type": "code",
      "source": [
        "model9=RandomForestRegressor(max_features=5,n_estimators=40,max_depth=7)"
      ],
      "metadata": {
        "id": "4-3PnLSI5UyK"
      },
      "execution_count": 92,
      "outputs": []
    },
    {
      "cell_type": "code",
      "source": [
        "model9.fit(X_train,y_train)"
      ],
      "metadata": {
        "colab": {
          "base_uri": "https://localhost:8080/"
        },
        "id": "2ygjC0fu5ZZ2",
        "outputId": "d970b763-5322-492f-c62b-8cdcf4725cad"
      },
      "execution_count": 93,
      "outputs": [
        {
          "output_type": "execute_result",
          "data": {
            "text/plain": [
              "RandomForestRegressor(max_depth=7, max_features=5, n_estimators=40)"
            ]
          },
          "metadata": {},
          "execution_count": 93
        }
      ]
    },
    {
      "cell_type": "code",
      "source": [
        "\n",
        "model9.score(X_train,y_train)"
      ],
      "metadata": {
        "colab": {
          "base_uri": "https://localhost:8080/"
        },
        "id": "lQuUcEDX5cC2",
        "outputId": "2699c1d1-fb25-4b4b-d553-d5cd6ba7b350"
      },
      "execution_count": 94,
      "outputs": [
        {
          "output_type": "execute_result",
          "data": {
            "text/plain": [
              "0.8417975977292987"
            ]
          },
          "metadata": {},
          "execution_count": 94
        }
      ]
    },
    {
      "cell_type": "code",
      "source": [
        "model9.score(X_test,y_test)"
      ],
      "metadata": {
        "colab": {
          "base_uri": "https://localhost:8080/"
        },
        "id": "7yeYiGxy5jkG",
        "outputId": "6b011a64-e349-4dd9-980a-341e417211ea"
      },
      "execution_count": 95,
      "outputs": [
        {
          "output_type": "execute_result",
          "data": {
            "text/plain": [
              "0.8028747003526681"
            ]
          },
          "metadata": {},
          "execution_count": 95
        }
      ]
    },
    {
      "cell_type": "markdown",
      "source": [
        "KNN REGRESSOR"
      ],
      "metadata": {
        "id": "ccF1Dtb-zd1E"
      }
    },
    {
      "cell_type": "code",
      "source": [
        "from sklearn.neighbors import KNeighborsRegressor"
      ],
      "metadata": {
        "id": "lOxWpH8NzhIP"
      },
      "execution_count": 96,
      "outputs": []
    },
    {
      "cell_type": "code",
      "source": [
        "model10=KNeighborsRegressor()"
      ],
      "metadata": {
        "id": "2LckiJd4zhYm"
      },
      "execution_count": 137,
      "outputs": []
    },
    {
      "cell_type": "code",
      "source": [
        "model10.fit(X_train,y_train)"
      ],
      "metadata": {
        "colab": {
          "base_uri": "https://localhost:8080/"
        },
        "id": "tOoiQf3Vz17w",
        "outputId": "86c6c155-8729-431a-b456-a62fa3ae99bc"
      },
      "execution_count": 138,
      "outputs": [
        {
          "output_type": "execute_result",
          "data": {
            "text/plain": [
              "KNeighborsRegressor()"
            ]
          },
          "metadata": {},
          "execution_count": 138
        }
      ]
    },
    {
      "cell_type": "code",
      "source": [
        "model10.score(X_train,y_train)"
      ],
      "metadata": {
        "colab": {
          "base_uri": "https://localhost:8080/"
        },
        "id": "tk0wv84e0bc0",
        "outputId": "4508acbf-fb1d-4d17-d55a-1a20fca7ff51"
      },
      "execution_count": 139,
      "outputs": [
        {
          "output_type": "execute_result",
          "data": {
            "text/plain": [
              "0.8056087541642679"
            ]
          },
          "metadata": {},
          "execution_count": 139
        }
      ]
    },
    {
      "cell_type": "code",
      "source": [
        "model10.score(X_test,y_test)"
      ],
      "metadata": {
        "colab": {
          "base_uri": "https://localhost:8080/"
        },
        "id": "NVmH1gq_0hiG",
        "outputId": "4106f030-d182-400c-ef2b-d56a846d3a36"
      },
      "execution_count": 140,
      "outputs": [
        {
          "output_type": "execute_result",
          "data": {
            "text/plain": [
              "0.7091254109005346"
            ]
          },
          "metadata": {},
          "execution_count": 140
        }
      ]
    },
    {
      "cell_type": "markdown",
      "source": [
        "TRAIN AND TEST SCORES OF ALL THE ALGORITHMS:"
      ],
      "metadata": {
        "id": "p1QaImHA-J3k"
      }
    },
    {
      "cell_type": "markdown",
      "source": [
        "![Screenshot (197).png](data:image/png;base64,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)"
      ],
      "metadata": {
        "id": "gQ3qZxa43M4b"
      }
    },
    {
      "cell_type": "code",
      "source": [],
      "metadata": {
        "id": "GTaE-Ar63dYe"
      },
      "execution_count": null,
      "outputs": []
    }
  ]
}
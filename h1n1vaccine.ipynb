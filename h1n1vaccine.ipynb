{
  "nbformat": 4,
  "nbformat_minor": 0,
  "metadata": {
    "colab": {
      "provenance": [],
      "authorship_tag": "ABX9TyOhqnjnxVwkwdx3u7eHTLMQ",
      "include_colab_link": true
    },
    "kernelspec": {
      "name": "python3",
      "display_name": "Python 3"
    },
    "language_info": {
      "name": "python"
    }
  },
  "cells": [
    {
      "cell_type": "markdown",
      "metadata": {
        "id": "view-in-github",
        "colab_type": "text"
      },
      "source": [
        "<a href=\"https://colab.research.google.com/github/gurleenk01/python/blob/main/h1n1vaccine.ipynb\" target=\"_parent\"><img src=\"https://colab.research.google.com/assets/colab-badge.svg\" alt=\"Open In Colab\"/></a>"
      ]
    },
    {
      "cell_type": "code",
      "execution_count": 241,
      "metadata": {
        "id": "Ya6sfbBF5xR_"
      },
      "outputs": [],
      "source": [
        "import numpy as np\n",
        "import pandas as pd\n",
        "import matplotlib.pyplot as plt\n",
        "import seaborn as sns"
      ]
    },
    {
      "cell_type": "code",
      "source": [
        "df=pd.read_csv(\"https://raw.githubusercontent.com/Premalatha-success/Datasets/main/h1n1_vaccine_prediction.csv\")"
      ],
      "metadata": {
        "id": "22IQnf6l6C7Q"
      },
      "execution_count": 242,
      "outputs": []
    },
    {
      "cell_type": "code",
      "source": [
        "df.head()"
      ],
      "metadata": {
        "colab": {
          "base_uri": "https://localhost:8080/",
          "height": 456
        },
        "id": "ksM1HuDa6f7y",
        "outputId": "51d0c1f9-f4a0-47d8-f2ec-9e8671c2ad6a"
      },
      "execution_count": 243,
      "outputs": [
        {
          "output_type": "execute_result",
          "data": {
            "text/plain": [
              "   unique_id  h1n1_worry  h1n1_awareness  antiviral_medication  \\\n",
              "0          0         1.0             0.0                   0.0   \n",
              "1          1         3.0             2.0                   0.0   \n",
              "2          2         1.0             1.0                   0.0   \n",
              "3          3         1.0             1.0                   0.0   \n",
              "4          4         2.0             1.0                   0.0   \n",
              "\n",
              "   contact_avoidance  bought_face_mask  wash_hands_frequently  \\\n",
              "0                0.0               0.0                    0.0   \n",
              "1                1.0               0.0                    1.0   \n",
              "2                1.0               0.0                    0.0   \n",
              "3                1.0               0.0                    1.0   \n",
              "4                1.0               0.0                    1.0   \n",
              "\n",
              "   avoid_large_gatherings  reduced_outside_home_cont  avoid_touch_face  ...  \\\n",
              "0                     0.0                        1.0               1.0  ...   \n",
              "1                     0.0                        1.0               1.0  ...   \n",
              "2                     0.0                        0.0               0.0  ...   \n",
              "3                     1.0                        0.0               0.0  ...   \n",
              "4                     1.0                        0.0               1.0  ...   \n",
              "\n",
              "    race     sex               income_level  marital_status  housing_status  \\\n",
              "0  White  Female              Below Poverty     Not Married             Own   \n",
              "1  White    Male              Below Poverty     Not Married            Rent   \n",
              "2  White    Male  <= $75,000, Above Poverty     Not Married             Own   \n",
              "3  White  Female              Below Poverty     Not Married            Rent   \n",
              "4  White  Female  <= $75,000, Above Poverty         Married             Own   \n",
              "\n",
              "           employment                census_msa  no_of_adults  no_of_children  \\\n",
              "0  Not in Labor Force                   Non-MSA           0.0             0.0   \n",
              "1            Employed  MSA, Not Principle  City           0.0             0.0   \n",
              "2            Employed  MSA, Not Principle  City           2.0             0.0   \n",
              "3  Not in Labor Force       MSA, Principle City           0.0             0.0   \n",
              "4            Employed  MSA, Not Principle  City           1.0             0.0   \n",
              "\n",
              "   h1n1_vaccine  \n",
              "0             0  \n",
              "1             0  \n",
              "2             0  \n",
              "3             0  \n",
              "4             0  \n",
              "\n",
              "[5 rows x 34 columns]"
            ],
            "text/html": [
              "\n",
              "  <div id=\"df-869dcc11-c31e-4c16-9f7f-c95b2561c67e\">\n",
              "    <div class=\"colab-df-container\">\n",
              "      <div>\n",
              "<style scoped>\n",
              "    .dataframe tbody tr th:only-of-type {\n",
              "        vertical-align: middle;\n",
              "    }\n",
              "\n",
              "    .dataframe tbody tr th {\n",
              "        vertical-align: top;\n",
              "    }\n",
              "\n",
              "    .dataframe thead th {\n",
              "        text-align: right;\n",
              "    }\n",
              "</style>\n",
              "<table border=\"1\" class=\"dataframe\">\n",
              "  <thead>\n",
              "    <tr style=\"text-align: right;\">\n",
              "      <th></th>\n",
              "      <th>unique_id</th>\n",
              "      <th>h1n1_worry</th>\n",
              "      <th>h1n1_awareness</th>\n",
              "      <th>antiviral_medication</th>\n",
              "      <th>contact_avoidance</th>\n",
              "      <th>bought_face_mask</th>\n",
              "      <th>wash_hands_frequently</th>\n",
              "      <th>avoid_large_gatherings</th>\n",
              "      <th>reduced_outside_home_cont</th>\n",
              "      <th>avoid_touch_face</th>\n",
              "      <th>...</th>\n",
              "      <th>race</th>\n",
              "      <th>sex</th>\n",
              "      <th>income_level</th>\n",
              "      <th>marital_status</th>\n",
              "      <th>housing_status</th>\n",
              "      <th>employment</th>\n",
              "      <th>census_msa</th>\n",
              "      <th>no_of_adults</th>\n",
              "      <th>no_of_children</th>\n",
              "      <th>h1n1_vaccine</th>\n",
              "    </tr>\n",
              "  </thead>\n",
              "  <tbody>\n",
              "    <tr>\n",
              "      <th>0</th>\n",
              "      <td>0</td>\n",
              "      <td>1.0</td>\n",
              "      <td>0.0</td>\n",
              "      <td>0.0</td>\n",
              "      <td>0.0</td>\n",
              "      <td>0.0</td>\n",
              "      <td>0.0</td>\n",
              "      <td>0.0</td>\n",
              "      <td>1.0</td>\n",
              "      <td>1.0</td>\n",
              "      <td>...</td>\n",
              "      <td>White</td>\n",
              "      <td>Female</td>\n",
              "      <td>Below Poverty</td>\n",
              "      <td>Not Married</td>\n",
              "      <td>Own</td>\n",
              "      <td>Not in Labor Force</td>\n",
              "      <td>Non-MSA</td>\n",
              "      <td>0.0</td>\n",
              "      <td>0.0</td>\n",
              "      <td>0</td>\n",
              "    </tr>\n",
              "    <tr>\n",
              "      <th>1</th>\n",
              "      <td>1</td>\n",
              "      <td>3.0</td>\n",
              "      <td>2.0</td>\n",
              "      <td>0.0</td>\n",
              "      <td>1.0</td>\n",
              "      <td>0.0</td>\n",
              "      <td>1.0</td>\n",
              "      <td>0.0</td>\n",
              "      <td>1.0</td>\n",
              "      <td>1.0</td>\n",
              "      <td>...</td>\n",
              "      <td>White</td>\n",
              "      <td>Male</td>\n",
              "      <td>Below Poverty</td>\n",
              "      <td>Not Married</td>\n",
              "      <td>Rent</td>\n",
              "      <td>Employed</td>\n",
              "      <td>MSA, Not Principle  City</td>\n",
              "      <td>0.0</td>\n",
              "      <td>0.0</td>\n",
              "      <td>0</td>\n",
              "    </tr>\n",
              "    <tr>\n",
              "      <th>2</th>\n",
              "      <td>2</td>\n",
              "      <td>1.0</td>\n",
              "      <td>1.0</td>\n",
              "      <td>0.0</td>\n",
              "      <td>1.0</td>\n",
              "      <td>0.0</td>\n",
              "      <td>0.0</td>\n",
              "      <td>0.0</td>\n",
              "      <td>0.0</td>\n",
              "      <td>0.0</td>\n",
              "      <td>...</td>\n",
              "      <td>White</td>\n",
              "      <td>Male</td>\n",
              "      <td>&lt;= $75,000, Above Poverty</td>\n",
              "      <td>Not Married</td>\n",
              "      <td>Own</td>\n",
              "      <td>Employed</td>\n",
              "      <td>MSA, Not Principle  City</td>\n",
              "      <td>2.0</td>\n",
              "      <td>0.0</td>\n",
              "      <td>0</td>\n",
              "    </tr>\n",
              "    <tr>\n",
              "      <th>3</th>\n",
              "      <td>3</td>\n",
              "      <td>1.0</td>\n",
              "      <td>1.0</td>\n",
              "      <td>0.0</td>\n",
              "      <td>1.0</td>\n",
              "      <td>0.0</td>\n",
              "      <td>1.0</td>\n",
              "      <td>1.0</td>\n",
              "      <td>0.0</td>\n",
              "      <td>0.0</td>\n",
              "      <td>...</td>\n",
              "      <td>White</td>\n",
              "      <td>Female</td>\n",
              "      <td>Below Poverty</td>\n",
              "      <td>Not Married</td>\n",
              "      <td>Rent</td>\n",
              "      <td>Not in Labor Force</td>\n",
              "      <td>MSA, Principle City</td>\n",
              "      <td>0.0</td>\n",
              "      <td>0.0</td>\n",
              "      <td>0</td>\n",
              "    </tr>\n",
              "    <tr>\n",
              "      <th>4</th>\n",
              "      <td>4</td>\n",
              "      <td>2.0</td>\n",
              "      <td>1.0</td>\n",
              "      <td>0.0</td>\n",
              "      <td>1.0</td>\n",
              "      <td>0.0</td>\n",
              "      <td>1.0</td>\n",
              "      <td>1.0</td>\n",
              "      <td>0.0</td>\n",
              "      <td>1.0</td>\n",
              "      <td>...</td>\n",
              "      <td>White</td>\n",
              "      <td>Female</td>\n",
              "      <td>&lt;= $75,000, Above Poverty</td>\n",
              "      <td>Married</td>\n",
              "      <td>Own</td>\n",
              "      <td>Employed</td>\n",
              "      <td>MSA, Not Principle  City</td>\n",
              "      <td>1.0</td>\n",
              "      <td>0.0</td>\n",
              "      <td>0</td>\n",
              "    </tr>\n",
              "  </tbody>\n",
              "</table>\n",
              "<p>5 rows × 34 columns</p>\n",
              "</div>\n",
              "      <button class=\"colab-df-convert\" onclick=\"convertToInteractive('df-869dcc11-c31e-4c16-9f7f-c95b2561c67e')\"\n",
              "              title=\"Convert this dataframe to an interactive table.\"\n",
              "              style=\"display:none;\">\n",
              "        \n",
              "  <svg xmlns=\"http://www.w3.org/2000/svg\" height=\"24px\"viewBox=\"0 0 24 24\"\n",
              "       width=\"24px\">\n",
              "    <path d=\"M0 0h24v24H0V0z\" fill=\"none\"/>\n",
              "    <path d=\"M18.56 5.44l.94 2.06.94-2.06 2.06-.94-2.06-.94-.94-2.06-.94 2.06-2.06.94zm-11 1L8.5 8.5l.94-2.06 2.06-.94-2.06-.94L8.5 2.5l-.94 2.06-2.06.94zm10 10l.94 2.06.94-2.06 2.06-.94-2.06-.94-.94-2.06-.94 2.06-2.06.94z\"/><path d=\"M17.41 7.96l-1.37-1.37c-.4-.4-.92-.59-1.43-.59-.52 0-1.04.2-1.43.59L10.3 9.45l-7.72 7.72c-.78.78-.78 2.05 0 2.83L4 21.41c.39.39.9.59 1.41.59.51 0 1.02-.2 1.41-.59l7.78-7.78 2.81-2.81c.8-.78.8-2.07 0-2.86zM5.41 20L4 18.59l7.72-7.72 1.47 1.35L5.41 20z\"/>\n",
              "  </svg>\n",
              "      </button>\n",
              "      \n",
              "  <style>\n",
              "    .colab-df-container {\n",
              "      display:flex;\n",
              "      flex-wrap:wrap;\n",
              "      gap: 12px;\n",
              "    }\n",
              "\n",
              "    .colab-df-convert {\n",
              "      background-color: #E8F0FE;\n",
              "      border: none;\n",
              "      border-radius: 50%;\n",
              "      cursor: pointer;\n",
              "      display: none;\n",
              "      fill: #1967D2;\n",
              "      height: 32px;\n",
              "      padding: 0 0 0 0;\n",
              "      width: 32px;\n",
              "    }\n",
              "\n",
              "    .colab-df-convert:hover {\n",
              "      background-color: #E2EBFA;\n",
              "      box-shadow: 0px 1px 2px rgba(60, 64, 67, 0.3), 0px 1px 3px 1px rgba(60, 64, 67, 0.15);\n",
              "      fill: #174EA6;\n",
              "    }\n",
              "\n",
              "    [theme=dark] .colab-df-convert {\n",
              "      background-color: #3B4455;\n",
              "      fill: #D2E3FC;\n",
              "    }\n",
              "\n",
              "    [theme=dark] .colab-df-convert:hover {\n",
              "      background-color: #434B5C;\n",
              "      box-shadow: 0px 1px 3px 1px rgba(0, 0, 0, 0.15);\n",
              "      filter: drop-shadow(0px 1px 2px rgba(0, 0, 0, 0.3));\n",
              "      fill: #FFFFFF;\n",
              "    }\n",
              "  </style>\n",
              "\n",
              "      <script>\n",
              "        const buttonEl =\n",
              "          document.querySelector('#df-869dcc11-c31e-4c16-9f7f-c95b2561c67e button.colab-df-convert');\n",
              "        buttonEl.style.display =\n",
              "          google.colab.kernel.accessAllowed ? 'block' : 'none';\n",
              "\n",
              "        async function convertToInteractive(key) {\n",
              "          const element = document.querySelector('#df-869dcc11-c31e-4c16-9f7f-c95b2561c67e');\n",
              "          const dataTable =\n",
              "            await google.colab.kernel.invokeFunction('convertToInteractive',\n",
              "                                                     [key], {});\n",
              "          if (!dataTable) return;\n",
              "\n",
              "          const docLinkHtml = 'Like what you see? Visit the ' +\n",
              "            '<a target=\"_blank\" href=https://colab.research.google.com/notebooks/data_table.ipynb>data table notebook</a>'\n",
              "            + ' to learn more about interactive tables.';\n",
              "          element.innerHTML = '';\n",
              "          dataTable['output_type'] = 'display_data';\n",
              "          await google.colab.output.renderOutput(dataTable, element);\n",
              "          const docLink = document.createElement('div');\n",
              "          docLink.innerHTML = docLinkHtml;\n",
              "          element.appendChild(docLink);\n",
              "        }\n",
              "      </script>\n",
              "    </div>\n",
              "  </div>\n",
              "  "
            ]
          },
          "metadata": {},
          "execution_count": 243
        }
      ]
    },
    {
      "cell_type": "code",
      "source": [
        "df.info()"
      ],
      "metadata": {
        "colab": {
          "base_uri": "https://localhost:8080/"
        },
        "id": "wgFG6YZr6hBm",
        "outputId": "4cbc705c-fa0f-4681-ed11-6b737d77bf12"
      },
      "execution_count": 244,
      "outputs": [
        {
          "output_type": "stream",
          "name": "stdout",
          "text": [
            "<class 'pandas.core.frame.DataFrame'>\n",
            "RangeIndex: 26707 entries, 0 to 26706\n",
            "Data columns (total 34 columns):\n",
            " #   Column                     Non-Null Count  Dtype  \n",
            "---  ------                     --------------  -----  \n",
            " 0   unique_id                  26707 non-null  int64  \n",
            " 1   h1n1_worry                 26615 non-null  float64\n",
            " 2   h1n1_awareness             26591 non-null  float64\n",
            " 3   antiviral_medication       26636 non-null  float64\n",
            " 4   contact_avoidance          26499 non-null  float64\n",
            " 5   bought_face_mask           26688 non-null  float64\n",
            " 6   wash_hands_frequently      26665 non-null  float64\n",
            " 7   avoid_large_gatherings     26620 non-null  float64\n",
            " 8   reduced_outside_home_cont  26625 non-null  float64\n",
            " 9   avoid_touch_face           26579 non-null  float64\n",
            " 10  dr_recc_h1n1_vacc          24547 non-null  float64\n",
            " 11  dr_recc_seasonal_vacc      24547 non-null  float64\n",
            " 12  chronic_medic_condition    25736 non-null  float64\n",
            " 13  cont_child_undr_6_mnths    25887 non-null  float64\n",
            " 14  is_health_worker           25903 non-null  float64\n",
            " 15  has_health_insur           14433 non-null  float64\n",
            " 16  is_h1n1_vacc_effective     26316 non-null  float64\n",
            " 17  is_h1n1_risky              26319 non-null  float64\n",
            " 18  sick_from_h1n1_vacc        26312 non-null  float64\n",
            " 19  is_seas_vacc_effective     26245 non-null  float64\n",
            " 20  is_seas_risky              26193 non-null  float64\n",
            " 21  sick_from_seas_vacc        26170 non-null  float64\n",
            " 22  age_bracket                26707 non-null  object \n",
            " 23  qualification              25300 non-null  object \n",
            " 24  race                       26707 non-null  object \n",
            " 25  sex                        26707 non-null  object \n",
            " 26  income_level               22284 non-null  object \n",
            " 27  marital_status             25299 non-null  object \n",
            " 28  housing_status             24665 non-null  object \n",
            " 29  employment                 25244 non-null  object \n",
            " 30  census_msa                 26707 non-null  object \n",
            " 31  no_of_adults               26458 non-null  float64\n",
            " 32  no_of_children             26458 non-null  float64\n",
            " 33  h1n1_vaccine               26707 non-null  int64  \n",
            "dtypes: float64(23), int64(2), object(9)\n",
            "memory usage: 6.9+ MB\n"
          ]
        }
      ]
    },
    {
      "cell_type": "code",
      "source": [
        "df.isnull().sum()"
      ],
      "metadata": {
        "colab": {
          "base_uri": "https://localhost:8080/"
        },
        "id": "M9geuVLr6nbI",
        "outputId": "82cd6aa7-470b-4131-8abc-6fa169ce5276"
      },
      "execution_count": 245,
      "outputs": [
        {
          "output_type": "execute_result",
          "data": {
            "text/plain": [
              "unique_id                        0\n",
              "h1n1_worry                      92\n",
              "h1n1_awareness                 116\n",
              "antiviral_medication            71\n",
              "contact_avoidance              208\n",
              "bought_face_mask                19\n",
              "wash_hands_frequently           42\n",
              "avoid_large_gatherings          87\n",
              "reduced_outside_home_cont       82\n",
              "avoid_touch_face               128\n",
              "dr_recc_h1n1_vacc             2160\n",
              "dr_recc_seasonal_vacc         2160\n",
              "chronic_medic_condition        971\n",
              "cont_child_undr_6_mnths        820\n",
              "is_health_worker               804\n",
              "has_health_insur             12274\n",
              "is_h1n1_vacc_effective         391\n",
              "is_h1n1_risky                  388\n",
              "sick_from_h1n1_vacc            395\n",
              "is_seas_vacc_effective         462\n",
              "is_seas_risky                  514\n",
              "sick_from_seas_vacc            537\n",
              "age_bracket                      0\n",
              "qualification                 1407\n",
              "race                             0\n",
              "sex                              0\n",
              "income_level                  4423\n",
              "marital_status                1408\n",
              "housing_status                2042\n",
              "employment                    1463\n",
              "census_msa                       0\n",
              "no_of_adults                   249\n",
              "no_of_children                 249\n",
              "h1n1_vaccine                     0\n",
              "dtype: int64"
            ]
          },
          "metadata": {},
          "execution_count": 245
        }
      ]
    },
    {
      "cell_type": "code",
      "source": [
        "## impute missing values\n",
        "## All objects to categorical int"
      ],
      "metadata": {
        "id": "SGjqStvX68Ey"
      },
      "execution_count": 246,
      "outputs": []
    },
    {
      "cell_type": "code",
      "source": [
        "df.drop('unique_id',axis=1,inplace=True)"
      ],
      "metadata": {
        "id": "7Vgse8xB9zdP"
      },
      "execution_count": 247,
      "outputs": []
    },
    {
      "cell_type": "code",
      "source": [
        "## Since h1n1_worry is categorical data, we will fill the vlaue with mode"
      ],
      "metadata": {
        "id": "8ozWCOxE-E3s"
      },
      "execution_count": 248,
      "outputs": []
    },
    {
      "cell_type": "code",
      "source": [
        "worrymd=df['h1n1_worry'].mode()[0]"
      ],
      "metadata": {
        "id": "4w98eB7w-fnF"
      },
      "execution_count": 249,
      "outputs": []
    },
    {
      "cell_type": "code",
      "source": [
        "df['h1n1_worry'].fillna(worrymd,inplace=True)"
      ],
      "metadata": {
        "id": "jzbYNLC9-qqQ"
      },
      "execution_count": 250,
      "outputs": []
    },
    {
      "cell_type": "code",
      "source": [
        "awarenessmd=df['h1n1_awareness'].mode()[0]"
      ],
      "metadata": {
        "id": "4SFXz3Wy_AGP"
      },
      "execution_count": 251,
      "outputs": []
    },
    {
      "cell_type": "code",
      "source": [
        "df['h1n1_awareness'].fillna(awarenessmd,inplace=True)"
      ],
      "metadata": {
        "id": "vvH8FX8A_Usk"
      },
      "execution_count": 252,
      "outputs": []
    },
    {
      "cell_type": "code",
      "source": [
        "df['antiviral_medication'].fillna(df['antiviral_medication'].mode()[0],inplace=True)"
      ],
      "metadata": {
        "id": "Gfh7EnA2_a8o"
      },
      "execution_count": 253,
      "outputs": []
    },
    {
      "cell_type": "code",
      "source": [
        "df['contact_avoidance'].fillna(df['contact_avoidance'].mode()[0],inplace=True)"
      ],
      "metadata": {
        "id": "EBojNJLxAmPA"
      },
      "execution_count": 254,
      "outputs": []
    },
    {
      "cell_type": "code",
      "source": [
        "df['bought_face_mask'].fillna(df['bought_face_mask'].mode()[0],inplace=True)"
      ],
      "metadata": {
        "id": "3kDmSBKSBiSY"
      },
      "execution_count": 255,
      "outputs": []
    },
    {
      "cell_type": "code",
      "source": [
        "df['wash_hands_frequently'].fillna(df['wash_hands_frequently'].mode()[0],inplace=True)"
      ],
      "metadata": {
        "id": "SNqSknr3CGw7"
      },
      "execution_count": 256,
      "outputs": []
    },
    {
      "cell_type": "code",
      "source": [
        "df['avoid_large_gatherings'].fillna(df['avoid_large_gatherings'].mode()[0],inplace=True)"
      ],
      "metadata": {
        "id": "L30-u2jECPF-"
      },
      "execution_count": 257,
      "outputs": []
    },
    {
      "cell_type": "code",
      "source": [
        "df['reduced_outside_home_cont'].fillna(df['reduced_outside_home_cont'].mode()[0],inplace=True)"
      ],
      "metadata": {
        "id": "VO4O6DRjCcHA"
      },
      "execution_count": 258,
      "outputs": []
    },
    {
      "cell_type": "code",
      "source": [
        "df['avoid_touch_face'].fillna(df['avoid_touch_face'].mode()[0],inplace=True)"
      ],
      "metadata": {
        "id": "qZV5CPgBCwKB"
      },
      "execution_count": 259,
      "outputs": []
    },
    {
      "cell_type": "code",
      "source": [
        "df['dr_recc_h1n1_vacc'].fillna(df['dr_recc_h1n1_vacc'].mode()[0],inplace=True)"
      ],
      "metadata": {
        "id": "MVGQLpvZqwiZ"
      },
      "execution_count": 260,
      "outputs": []
    },
    {
      "cell_type": "code",
      "source": [
        "df['dr_recc_seasonal_vacc'].fillna(df['dr_recc_seasonal_vacc'].mode()[0],inplace=True)"
      ],
      "metadata": {
        "id": "hC7JPb8utHFZ"
      },
      "execution_count": 261,
      "outputs": []
    },
    {
      "cell_type": "code",
      "source": [
        "df['chronic_medic_condition'].fillna(df['chronic_medic_condition'].mode()[0],inplace=True)"
      ],
      "metadata": {
        "id": "iYoagWI5t9eE"
      },
      "execution_count": 262,
      "outputs": []
    },
    {
      "cell_type": "code",
      "source": [
        "df['cont_child_undr_6_mnths'].fillna(df['cont_child_undr_6_mnths'].mode()[0],inplace=True)"
      ],
      "metadata": {
        "id": "pZdkk7QDudhG"
      },
      "execution_count": 263,
      "outputs": []
    },
    {
      "cell_type": "code",
      "source": [
        "df['is_health_worker'].fillna(df['is_health_worker'].mode()[0],inplace=True)"
      ],
      "metadata": {
        "id": "Fd_dt-0Yu0_T"
      },
      "execution_count": 264,
      "outputs": []
    },
    {
      "cell_type": "code",
      "source": [
        "df.drop('has_health_insur',axis=1,inplace=True)"
      ],
      "metadata": {
        "id": "tuDNL86Nu_Eg"
      },
      "execution_count": 265,
      "outputs": []
    },
    {
      "cell_type": "code",
      "source": [
        "df['is_h1n1_vacc_effective'].fillna(df['is_h1n1_vacc_effective'].mode()[0],inplace=True)\n"
      ],
      "metadata": {
        "id": "SEuUQ8Y8vTcJ"
      },
      "execution_count": 266,
      "outputs": []
    },
    {
      "cell_type": "code",
      "source": [
        "df['is_h1n1_risky'].fillna(df['is_h1n1_risky'].mode()[0],inplace=True)"
      ],
      "metadata": {
        "id": "Bx-1axU7wHdh"
      },
      "execution_count": 267,
      "outputs": []
    },
    {
      "cell_type": "code",
      "source": [
        "df['sick_from_h1n1_vacc'].fillna(df['sick_from_h1n1_vacc'].mode()[0],inplace=True)"
      ],
      "metadata": {
        "id": "cw4aT25DwVeZ"
      },
      "execution_count": 268,
      "outputs": []
    },
    {
      "cell_type": "code",
      "source": [
        "df['is_seas_vacc_effective'].fillna(df['is_seas_vacc_effective'].mode()[0],inplace=True)"
      ],
      "metadata": {
        "id": "uQ5Ch6FNwoWm"
      },
      "execution_count": 269,
      "outputs": []
    },
    {
      "cell_type": "code",
      "source": [
        "df['is_seas_risky'].fillna(df['is_seas_risky'].mode()[0],inplace=True)"
      ],
      "metadata": {
        "id": "6YC8ztfB4YqI"
      },
      "execution_count": 270,
      "outputs": []
    },
    {
      "cell_type": "code",
      "source": [
        "df['sick_from_seas_vacc'].fillna(df['sick_from_seas_vacc'].mode()[0],inplace=True)"
      ],
      "metadata": {
        "id": "H2Y_kXfo6EED"
      },
      "execution_count": 271,
      "outputs": []
    },
    {
      "cell_type": "code",
      "source": [
        "df['qualification'].fillna(df['qualification'].mode()[0],inplace=True)"
      ],
      "metadata": {
        "id": "sbuUmCtR6KWU"
      },
      "execution_count": 272,
      "outputs": []
    },
    {
      "cell_type": "code",
      "source": [
        "df['income_level'].fillna(df['income_level'].mode()[0],inplace=True)"
      ],
      "metadata": {
        "id": "z4VsTR0k6RS8"
      },
      "execution_count": 273,
      "outputs": []
    },
    {
      "cell_type": "code",
      "source": [
        "df['marital_status'].fillna(df['marital_status'].mode()[0],inplace=True)"
      ],
      "metadata": {
        "id": "R9FBqwy76ijQ"
      },
      "execution_count": 274,
      "outputs": []
    },
    {
      "cell_type": "code",
      "source": [
        "df['housing_status'].fillna(df['housing_status'].mode()[0],inplace=True)"
      ],
      "metadata": {
        "id": "6hT8JzGt6m2c"
      },
      "execution_count": 275,
      "outputs": []
    },
    {
      "cell_type": "code",
      "source": [
        "df['employment'].fillna(df['employment'].mode()[0],inplace=True)"
      ],
      "metadata": {
        "id": "BWDqd0pY6m6M"
      },
      "execution_count": 276,
      "outputs": []
    },
    {
      "cell_type": "code",
      "source": [
        "df['no_of_adults'].value_counts()"
      ],
      "metadata": {
        "colab": {
          "base_uri": "https://localhost:8080/"
        },
        "id": "9FAk6vkz7a3u",
        "outputId": "2403e3df-d023-45ee-865e-d90e93e7bd52"
      },
      "execution_count": 277,
      "outputs": [
        {
          "output_type": "execute_result",
          "data": {
            "text/plain": [
              "1.0    14474\n",
              "0.0     8056\n",
              "2.0     2803\n",
              "3.0     1125\n",
              "Name: no_of_adults, dtype: int64"
            ]
          },
          "metadata": {},
          "execution_count": 277
        }
      ]
    },
    {
      "cell_type": "code",
      "source": [
        "mn1=df['no_of_adults'].mean().round(0)"
      ],
      "metadata": {
        "id": "AqzSILei8EWz"
      },
      "execution_count": 278,
      "outputs": []
    },
    {
      "cell_type": "code",
      "source": [
        "df['no_of_adults'].fillna(mn1,inplace=True)"
      ],
      "metadata": {
        "id": "J4v1ALLO6nMu"
      },
      "execution_count": 279,
      "outputs": []
    },
    {
      "cell_type": "code",
      "source": [
        "mn2=df['no_of_children'].mean().round(0)"
      ],
      "metadata": {
        "id": "uuDqmUh48f-a"
      },
      "execution_count": 280,
      "outputs": []
    },
    {
      "cell_type": "code",
      "source": [
        "df['no_of_children'].fillna(mn2,inplace=True)"
      ],
      "metadata": {
        "id": "fqdi9_Tu6pWR"
      },
      "execution_count": 281,
      "outputs": []
    },
    {
      "cell_type": "code",
      "source": [
        "df.isnull().sum()"
      ],
      "metadata": {
        "colab": {
          "base_uri": "https://localhost:8080/"
        },
        "id": "i0K-CYAe8zO7",
        "outputId": "c7398bd2-b220-42b7-9865-323c5eebbad5"
      },
      "execution_count": 282,
      "outputs": [
        {
          "output_type": "execute_result",
          "data": {
            "text/plain": [
              "h1n1_worry                   0\n",
              "h1n1_awareness               0\n",
              "antiviral_medication         0\n",
              "contact_avoidance            0\n",
              "bought_face_mask             0\n",
              "wash_hands_frequently        0\n",
              "avoid_large_gatherings       0\n",
              "reduced_outside_home_cont    0\n",
              "avoid_touch_face             0\n",
              "dr_recc_h1n1_vacc            0\n",
              "dr_recc_seasonal_vacc        0\n",
              "chronic_medic_condition      0\n",
              "cont_child_undr_6_mnths      0\n",
              "is_health_worker             0\n",
              "is_h1n1_vacc_effective       0\n",
              "is_h1n1_risky                0\n",
              "sick_from_h1n1_vacc          0\n",
              "is_seas_vacc_effective       0\n",
              "is_seas_risky                0\n",
              "sick_from_seas_vacc          0\n",
              "age_bracket                  0\n",
              "qualification                0\n",
              "race                         0\n",
              "sex                          0\n",
              "income_level                 0\n",
              "marital_status               0\n",
              "housing_status               0\n",
              "employment                   0\n",
              "census_msa                   0\n",
              "no_of_adults                 0\n",
              "no_of_children               0\n",
              "h1n1_vaccine                 0\n",
              "dtype: int64"
            ]
          },
          "metadata": {},
          "execution_count": 282
        }
      ]
    },
    {
      "cell_type": "code",
      "source": [
        "df.dtypes"
      ],
      "metadata": {
        "colab": {
          "base_uri": "https://localhost:8080/"
        },
        "id": "b0ggT5r-87EZ",
        "outputId": "198123d9-141b-4a60-c259-1be71ea7cdf2"
      },
      "execution_count": 283,
      "outputs": [
        {
          "output_type": "execute_result",
          "data": {
            "text/plain": [
              "h1n1_worry                   float64\n",
              "h1n1_awareness               float64\n",
              "antiviral_medication         float64\n",
              "contact_avoidance            float64\n",
              "bought_face_mask             float64\n",
              "wash_hands_frequently        float64\n",
              "avoid_large_gatherings       float64\n",
              "reduced_outside_home_cont    float64\n",
              "avoid_touch_face             float64\n",
              "dr_recc_h1n1_vacc            float64\n",
              "dr_recc_seasonal_vacc        float64\n",
              "chronic_medic_condition      float64\n",
              "cont_child_undr_6_mnths      float64\n",
              "is_health_worker             float64\n",
              "is_h1n1_vacc_effective       float64\n",
              "is_h1n1_risky                float64\n",
              "sick_from_h1n1_vacc          float64\n",
              "is_seas_vacc_effective       float64\n",
              "is_seas_risky                float64\n",
              "sick_from_seas_vacc          float64\n",
              "age_bracket                   object\n",
              "qualification                 object\n",
              "race                          object\n",
              "sex                           object\n",
              "income_level                  object\n",
              "marital_status                object\n",
              "housing_status                object\n",
              "employment                    object\n",
              "census_msa                    object\n",
              "no_of_adults                 float64\n",
              "no_of_children               float64\n",
              "h1n1_vaccine                   int64\n",
              "dtype: object"
            ]
          },
          "metadata": {},
          "execution_count": 283
        }
      ]
    },
    {
      "cell_type": "code",
      "source": [
        "plt.figure(figsize = (18,8))\n",
        "plt.title('Correlation Heatmap')\n",
        "corr = df.corr()\n",
        "corr\n",
        "sns.heatmap(corr)"
      ],
      "metadata": {
        "colab": {
          "base_uri": "https://localhost:8080/",
          "height": 649
        },
        "id": "yJz2xrE-B-4K",
        "outputId": "abbe51e2-5f8f-49d8-ae3e-c8a294ca106a"
      },
      "execution_count": 284,
      "outputs": [
        {
          "output_type": "execute_result",
          "data": {
            "text/plain": [
              "<AxesSubplot:title={'center':'Correlation Heatmap'}>"
            ]
          },
          "metadata": {},
          "execution_count": 284
        },
        {
          "output_type": "display_data",
          "data": {
            "text/plain": [
              "<Figure size 1296x576 with 2 Axes>"
            ],
            "image/png": "[encoded data removed]"
          },
          "metadata": {
            "needs_background": "light"
          }
        }
      ]
    },
    {
      "cell_type": "code",
      "source": [
        "## encode qualification,race,sex,,income_level,marital status,housing status,employment,census_msa,age"
      ],
      "metadata": {
        "id": "lykJNdyJ9GUB"
      },
      "execution_count": 285,
      "outputs": []
    },
    {
      "cell_type": "code",
      "source": [
        "df['qualification'].value_counts()"
      ],
      "metadata": {
        "colab": {
          "base_uri": "https://localhost:8080/"
        },
        "id": "zKiF-wTf9W8L",
        "outputId": "f97cec5d-1e0f-4c52-817f-897ded4be9e5"
      },
      "execution_count": 286,
      "outputs": [
        {
          "output_type": "execute_result",
          "data": {
            "text/plain": [
              "College Graduate    11504\n",
              "Some College         7043\n",
              "12 Years             5797\n",
              "< 12 Years           2363\n",
              "Name: qualification, dtype: int64"
            ]
          },
          "metadata": {},
          "execution_count": 286
        }
      ]
    },
    {
      "cell_type": "code",
      "source": [
        "df=pd.get_dummies(df,columns=['qualification'])"
      ],
      "metadata": {
        "id": "GhrS7vnS9gHV"
      },
      "execution_count": 287,
      "outputs": []
    },
    {
      "cell_type": "code",
      "source": [
        "df['race'].value_counts()"
      ],
      "metadata": {
        "colab": {
          "base_uri": "https://localhost:8080/"
        },
        "id": "d_CNqGsL9ofk",
        "outputId": "ec399375-3fae-402d-dbb2-d7443fb50154"
      },
      "execution_count": 288,
      "outputs": [
        {
          "output_type": "execute_result",
          "data": {
            "text/plain": [
              "White                21222\n",
              "Black                 2118\n",
              "Hispanic              1755\n",
              "Other or Multiple     1612\n",
              "Name: race, dtype: int64"
            ]
          },
          "metadata": {},
          "execution_count": 288
        }
      ]
    },
    {
      "cell_type": "code",
      "source": [
        "df=pd.get_dummies(df,columns=['race'])"
      ],
      "metadata": {
        "id": "ic63JLXk9stj"
      },
      "execution_count": 289,
      "outputs": []
    },
    {
      "cell_type": "code",
      "source": [
        "df['sex'].value_counts()"
      ],
      "metadata": {
        "colab": {
          "base_uri": "https://localhost:8080/"
        },
        "id": "yVHeMSy19wEH",
        "outputId": "ce1dd989-30a8-4d99-aa98-0df7d6d120bd"
      },
      "execution_count": 290,
      "outputs": [
        {
          "output_type": "execute_result",
          "data": {
            "text/plain": [
              "Female    15858\n",
              "Male      10849\n",
              "Name: sex, dtype: int64"
            ]
          },
          "metadata": {},
          "execution_count": 290
        }
      ]
    },
    {
      "cell_type": "code",
      "source": [
        "df=pd.get_dummies(df,columns=['sex'])"
      ],
      "metadata": {
        "id": "gaiww3at90jR"
      },
      "execution_count": 291,
      "outputs": []
    },
    {
      "cell_type": "code",
      "source": [
        "df['housing_status'].value_counts()"
      ],
      "metadata": {
        "colab": {
          "base_uri": "https://localhost:8080/"
        },
        "id": "5dWoq7Li-E3C",
        "outputId": "e9296c7f-3ec5-49fd-879c-742fb1c3e1a8"
      },
      "execution_count": 292,
      "outputs": [
        {
          "output_type": "execute_result",
          "data": {
            "text/plain": [
              "Own     20778\n",
              "Rent     5929\n",
              "Name: housing_status, dtype: int64"
            ]
          },
          "metadata": {},
          "execution_count": 292
        }
      ]
    },
    {
      "cell_type": "code",
      "source": [
        "df['employment'].value_counts()"
      ],
      "metadata": {
        "colab": {
          "base_uri": "https://localhost:8080/"
        },
        "id": "VJSl4kzn-Ka8",
        "outputId": "caf86f15-5cc4-4d1f-f0d9-446f72fa7de6"
      },
      "execution_count": 293,
      "outputs": [
        {
          "output_type": "execute_result",
          "data": {
            "text/plain": [
              "Employed              15023\n",
              "Not in Labor Force    10231\n",
              "Unemployed             1453\n",
              "Name: employment, dtype: int64"
            ]
          },
          "metadata": {},
          "execution_count": 293
        }
      ]
    },
    {
      "cell_type": "code",
      "source": [
        "df['census_msa'].value_counts()"
      ],
      "metadata": {
        "colab": {
          "base_uri": "https://localhost:8080/"
        },
        "id": "pGJ8qgit-Nw5",
        "outputId": "b70a3619-9fdb-4a2d-b813-05296d6dde02"
      },
      "execution_count": 294,
      "outputs": [
        {
          "output_type": "execute_result",
          "data": {
            "text/plain": [
              "MSA, Not Principle  City    11645\n",
              "MSA, Principle City          7864\n",
              "Non-MSA                      7198\n",
              "Name: census_msa, dtype: int64"
            ]
          },
          "metadata": {},
          "execution_count": 294
        }
      ]
    },
    {
      "cell_type": "code",
      "source": [
        "df=pd.get_dummies(df,columns=['age_bracket','income_level','marital_status','housing_status','employment','census_msa'])"
      ],
      "metadata": {
        "id": "M-L-MdQE-Rse"
      },
      "execution_count": 295,
      "outputs": []
    },
    {
      "cell_type": "code",
      "source": [
        "df.info()"
      ],
      "metadata": {
        "colab": {
          "base_uri": "https://localhost:8080/"
        },
        "id": "95rCT3Sw-lkV",
        "outputId": "0d04987e-7a8d-41aa-e928-d54fc0da47ad"
      },
      "execution_count": 296,
      "outputs": [
        {
          "output_type": "stream",
          "name": "stdout",
          "text": [
            "<class 'pandas.core.frame.DataFrame'>\n",
            "RangeIndex: 26707 entries, 0 to 26706\n",
            "Data columns (total 51 columns):\n",
            " #   Column                                  Non-Null Count  Dtype  \n",
            "---  ------                                  --------------  -----  \n",
            " 0   h1n1_worry                              26707 non-null  float64\n",
            " 1   h1n1_awareness                          26707 non-null  float64\n",
            " 2   antiviral_medication                    26707 non-null  float64\n",
            " 3   contact_avoidance                       26707 non-null  float64\n",
            " 4   bought_face_mask                        26707 non-null  float64\n",
            " 5   wash_hands_frequently                   26707 non-null  float64\n",
            " 6   avoid_large_gatherings                  26707 non-null  float64\n",
            " 7   reduced_outside_home_cont               26707 non-null  float64\n",
            " 8   avoid_touch_face                        26707 non-null  float64\n",
            " 9   dr_recc_h1n1_vacc                       26707 non-null  float64\n",
            " 10  dr_recc_seasonal_vacc                   26707 non-null  float64\n",
            " 11  chronic_medic_condition                 26707 non-null  float64\n",
            " 12  cont_child_undr_6_mnths                 26707 non-null  float64\n",
            " 13  is_health_worker                        26707 non-null  float64\n",
            " 14  is_h1n1_vacc_effective                  26707 non-null  float64\n",
            " 15  is_h1n1_risky                           26707 non-null  float64\n",
            " 16  sick_from_h1n1_vacc                     26707 non-null  float64\n",
            " 17  is_seas_vacc_effective                  26707 non-null  float64\n",
            " 18  is_seas_risky                           26707 non-null  float64\n",
            " 19  sick_from_seas_vacc                     26707 non-null  float64\n",
            " 20  no_of_adults                            26707 non-null  float64\n",
            " 21  no_of_children                          26707 non-null  float64\n",
            " 22  h1n1_vaccine                            26707 non-null  int64  \n",
            " 23  qualification_12 Years                  26707 non-null  uint8  \n",
            " 24  qualification_< 12 Years                26707 non-null  uint8  \n",
            " 25  qualification_College Graduate          26707 non-null  uint8  \n",
            " 26  qualification_Some College              26707 non-null  uint8  \n",
            " 27  race_Black                              26707 non-null  uint8  \n",
            " 28  race_Hispanic                           26707 non-null  uint8  \n",
            " 29  race_Other or Multiple                  26707 non-null  uint8  \n",
            " 30  race_White                              26707 non-null  uint8  \n",
            " 31  sex_Female                              26707 non-null  uint8  \n",
            " 32  sex_Male                                26707 non-null  uint8  \n",
            " 33  age_bracket_18 - 34 Years               26707 non-null  uint8  \n",
            " 34  age_bracket_35 - 44 Years               26707 non-null  uint8  \n",
            " 35  age_bracket_45 - 54 Years               26707 non-null  uint8  \n",
            " 36  age_bracket_55 - 64 Years               26707 non-null  uint8  \n",
            " 37  age_bracket_65+ Years                   26707 non-null  uint8  \n",
            " 38  income_level_<= $75,000, Above Poverty  26707 non-null  uint8  \n",
            " 39  income_level_> $75,000                  26707 non-null  uint8  \n",
            " 40  income_level_Below Poverty              26707 non-null  uint8  \n",
            " 41  marital_status_Married                  26707 non-null  uint8  \n",
            " 42  marital_status_Not Married              26707 non-null  uint8  \n",
            " 43  housing_status_Own                      26707 non-null  uint8  \n",
            " 44  housing_status_Rent                     26707 non-null  uint8  \n",
            " 45  employment_Employed                     26707 non-null  uint8  \n",
            " 46  employment_Not in Labor Force           26707 non-null  uint8  \n",
            " 47  employment_Unemployed                   26707 non-null  uint8  \n",
            " 48  census_msa_MSA, Not Principle  City     26707 non-null  uint8  \n",
            " 49  census_msa_MSA, Principle City          26707 non-null  uint8  \n",
            " 50  census_msa_Non-MSA                      26707 non-null  uint8  \n",
            "dtypes: float64(22), int64(1), uint8(28)\n",
            "memory usage: 5.4 MB\n"
          ]
        }
      ]
    },
    {
      "cell_type": "code",
      "source": [
        "df['no_of_adults'].value_counts()"
      ],
      "metadata": {
        "colab": {
          "base_uri": "https://localhost:8080/"
        },
        "id": "qD5oNCMaWyIO",
        "outputId": "d95a022e-664c-447e-e370-1ac51b5ada63"
      },
      "execution_count": 297,
      "outputs": [
        {
          "output_type": "execute_result",
          "data": {
            "text/plain": [
              "1.0    14723\n",
              "0.0     8056\n",
              "2.0     2803\n",
              "3.0     1125\n",
              "Name: no_of_adults, dtype: int64"
            ]
          },
          "metadata": {},
          "execution_count": 297
        }
      ]
    },
    {
      "cell_type": "markdown",
      "source": [
        "1,2,14,15,16,*17*,18,19"
      ],
      "metadata": {
        "id": "2IKMirgAXwb1"
      }
    },
    {
      "cell_type": "markdown",
      "source": [
        "# Training and Modelling"
      ],
      "metadata": {
        "id": "KKGw44oU_iDM"
      }
    },
    {
      "cell_type": "code",
      "source": [
        "from sklearn.model_selection import train_test_split\n",
        "from sklearn.linear_model import LogisticRegression"
      ],
      "metadata": {
        "id": "RoYJq2S3BE2v"
      },
      "execution_count": 298,
      "outputs": []
    },
    {
      "cell_type": "code",
      "source": [
        "X, y = df.drop('h1n1_vaccine', axis = 1), df['h1n1_vaccine']\n",
        "\n",
        "X_train, X_test, y_train, y_test= train_test_split(X, y, test_size=0.40, random_state=1)"
      ],
      "metadata": {
        "id": "Ap_mSAXVWmvd"
      },
      "execution_count": 299,
      "outputs": []
    },
    {
      "cell_type": "code",
      "source": [
        "model1=LogisticRegression()\n",
        "##fit with train data\n",
        "model1.fit(X_train,y_train)"
      ],
      "metadata": {
        "colab": {
          "base_uri": "https://localhost:8080/"
        },
        "id": "Lc0mtIb_d3ha",
        "outputId": "438bc154-ddb5-4b18-b6ba-39677642cfd8"
      },
      "execution_count": 300,
      "outputs": [
        {
          "output_type": "stream",
          "name": "stderr",
          "text": [
            "/usr/local/lib/python3.8/dist-packages/sklearn/linear_model/_logistic.py:814: ConvergenceWarning: lbfgs failed to converge (status=1):\n",
            "STOP: TOTAL NO. of ITERATIONS REACHED LIMIT.\n",
            "\n",
            "Increase the number of iterations (max_iter) or scale the data as shown in:\n",
            "    https://scikit-learn.org/stable/modules/preprocessing.html\n",
            "Please also refer to the documentation for alternative solver options:\n",
            "    https://scikit-learn.org/stable/modules/linear_model.html#logistic-regression\n",
            "  n_iter_i = _check_optimize_result(\n"
          ]
        },
        {
          "output_type": "execute_result",
          "data": {
            "text/plain": [
              "LogisticRegression()"
            ]
          },
          "metadata": {},
          "execution_count": 300
        }
      ]
    },
    {
      "cell_type": "code",
      "source": [
        "model1.score(X_train,y_train)"
      ],
      "metadata": {
        "colab": {
          "base_uri": "https://localhost:8080/"
        },
        "id": "ucBALYI5eAVo",
        "outputId": "11e3ab83-cfd0-494a-ec85-dcd0dbb1adfe"
      },
      "execution_count": 301,
      "outputs": [
        {
          "output_type": "execute_result",
          "data": {
            "text/plain": [
              "0.835434348477284"
            ]
          },
          "metadata": {},
          "execution_count": 301
        }
      ]
    },
    {
      "cell_type": "code",
      "source": [
        "model1.score(X_test,y_test)"
      ],
      "metadata": {
        "colab": {
          "base_uri": "https://localhost:8080/"
        },
        "id": "NNCjFC09eEtr",
        "outputId": "6f5bce0d-8a64-42b7-a696-c26030fd77fe"
      },
      "execution_count": 302,
      "outputs": [
        {
          "output_type": "execute_result",
          "data": {
            "text/plain": [
              "0.8370307965927174"
            ]
          },
          "metadata": {},
          "execution_count": 302
        }
      ]
    },
    {
      "cell_type": "code",
      "source": [
        "y_pred=model1.predict(X_test)"
      ],
      "metadata": {
        "id": "gjBRr7AIe8SY"
      },
      "execution_count": 303,
      "outputs": []
    },
    {
      "cell_type": "code",
      "source": [
        "from sklearn.metrics import accuracy_score\n",
        "accuracy_score(y_test,y_pred)"
      ],
      "metadata": {
        "colab": {
          "base_uri": "https://localhost:8080/"
        },
        "id": "zZ4BPIDDeHpT",
        "outputId": "95005b4a-7316-40f3-c6ec-04925a1bb527"
      },
      "execution_count": 304,
      "outputs": [
        {
          "output_type": "execute_result",
          "data": {
            "text/plain": [
              "0.8370307965927174"
            ]
          },
          "metadata": {},
          "execution_count": 304
        }
      ]
    },
    {
      "cell_type": "code",
      "source": [
        "from sklearn.metrics import classification_report"
      ],
      "metadata": {
        "id": "eZJzQSFBe6Oc"
      },
      "execution_count": 305,
      "outputs": []
    },
    {
      "cell_type": "code",
      "source": [
        "classification_report(y_test,y_pred)"
      ],
      "metadata": {
        "colab": {
          "base_uri": "https://localhost:8080/",
          "height": 73
        },
        "id": "hhJLDzDyfQe6",
        "outputId": "9137de92-d3f4-4277-8b11-3703873d43e6"
      },
      "execution_count": 306,
      "outputs": [
        {
          "output_type": "execute_result",
          "data": {
            "text/plain": [
              "'              precision    recall  f1-score   support\\n\\n           0       0.86      0.95      0.90      8399\\n           1       0.70      0.42      0.52      2284\\n\\n    accuracy                           0.84     10683\\n   macro avg       0.78      0.69      0.71     10683\\nweighted avg       0.82      0.84      0.82     10683\\n'"
            ],
            "application/vnd.google.colaboratory.intrinsic+json": {
              "type": "string"
            }
          },
          "metadata": {},
          "execution_count": 306
        }
      ]
    },
    {
      "cell_type": "code",
      "source": [
        "from sklearn import metrics\n",
        "cm=metrics.confusion_matrix(y_test,y_pred,labels=[1,0])"
      ],
      "metadata": {
        "id": "P_lqc-K6feca"
      },
      "execution_count": 307,
      "outputs": []
    },
    {
      "cell_type": "code",
      "source": [
        "df_cm=pd.DataFrame(cm,index=[i for i in ['1','0']],columns=[i for i in [\"Predict 1\",\"Predict 0\"]])"
      ],
      "metadata": {
        "id": "tjsCJkazfx4e"
      },
      "execution_count": 308,
      "outputs": []
    },
    {
      "cell_type": "code",
      "source": [
        "plt.figure(figsize=(7,5))\n",
        "sns.heatmap(df_cm,annot=True,fmt='g')"
      ],
      "metadata": {
        "colab": {
          "base_uri": "https://localhost:8080/",
          "height": 338
        },
        "id": "sq3_GENLgX7o",
        "outputId": "55f2b98e-c5c7-4576-8e3f-eb925cfa7531"
      },
      "execution_count": 309,
      "outputs": [
        {
          "output_type": "execute_result",
          "data": {
            "text/plain": [
              "<AxesSubplot:>"
            ]
          },
          "metadata": {},
          "execution_count": 309
        },
        {
          "output_type": "display_data",
          "data": {
            "text/plain": [
              "<Figure size 504x360 with 2 Axes>"
            ],
            "image/png": "[encoded data removed]"
          },
          "metadata": {
            "needs_background": "light"
          }
        }
      ]
    },
    {
      "cell_type": "markdown",
      "source": [
        "LR with Standardization"
      ],
      "metadata": {
        "id": "j5Klg8JZgwJ9"
      }
    },
    {
      "cell_type": "code",
      "source": [
        "from sklearn.preprocessing import StandardScaler"
      ],
      "metadata": {
        "id": "2ZMikVx-hh1L"
      },
      "execution_count": 310,
      "outputs": []
    },
    {
      "cell_type": "code",
      "source": [
        "scaler = StandardScaler()"
      ],
      "metadata": {
        "id": "bEU0tkFHgyyc"
      },
      "execution_count": 311,
      "outputs": []
    },
    {
      "cell_type": "code",
      "source": [
        "X_train_scaled=scaler.fit_transform(X_train)\n",
        "X_test_scaled=scaler.transform(X_test)"
      ],
      "metadata": {
        "id": "-6dJu6-jhf45"
      },
      "execution_count": 312,
      "outputs": []
    },
    {
      "cell_type": "code",
      "source": [
        "X_train_scaled=pd.DataFrame(X_train_scaled,columns=X_train.columns)\n",
        "X_test_scaled=pd.DataFrame(X_test_scaled,columns=X_test.columns)"
      ],
      "metadata": {
        "id": "JI0G573Lhrc4"
      },
      "execution_count": 313,
      "outputs": []
    },
    {
      "cell_type": "code",
      "source": [
        "model2 = LogisticRegression().fit(X_train_scaled, y_train)"
      ],
      "metadata": {
        "id": "Gu4iV1uLh09a"
      },
      "execution_count": 314,
      "outputs": []
    },
    {
      "cell_type": "code",
      "source": [
        "model2.score(X_train_scaled,y_train)"
      ],
      "metadata": {
        "colab": {
          "base_uri": "https://localhost:8080/"
        },
        "id": "Uijr729wh79s",
        "outputId": "94e9e704-de10-4b02-feeb-1f1bb860ed3d"
      },
      "execution_count": 315,
      "outputs": [
        {
          "output_type": "execute_result",
          "data": {
            "text/plain": [
              "0.8353719420868697"
            ]
          },
          "metadata": {},
          "execution_count": 315
        }
      ]
    },
    {
      "cell_type": "code",
      "source": [
        "model2.score(X_test_scaled,y_test)"
      ],
      "metadata": {
        "colab": {
          "base_uri": "https://localhost:8080/"
        },
        "id": "ZxiM19sWh_DE",
        "outputId": "c9bcef23-55f4-4ef9-d4d5-e98ccb626010"
      },
      "execution_count": 316,
      "outputs": [
        {
          "output_type": "execute_result",
          "data": {
            "text/plain": [
              "0.8369371899279229"
            ]
          },
          "metadata": {},
          "execution_count": 316
        }
      ]
    },
    {
      "cell_type": "code",
      "source": [
        "y_pred2=model2.predict(X_test_scaled)"
      ],
      "metadata": {
        "id": "xbmSlR8hiCmL"
      },
      "execution_count": 317,
      "outputs": []
    },
    {
      "cell_type": "code",
      "source": [
        "accuracy_score(y_test,y_pred2)"
      ],
      "metadata": {
        "colab": {
          "base_uri": "https://localhost:8080/"
        },
        "id": "ke3jVkc9iMJP",
        "outputId": "9f58ee0a-8d8e-44d3-86f4-56cf671a4a88"
      },
      "execution_count": 318,
      "outputs": [
        {
          "output_type": "execute_result",
          "data": {
            "text/plain": [
              "0.8369371899279229"
            ]
          },
          "metadata": {},
          "execution_count": 318
        }
      ]
    },
    {
      "cell_type": "markdown",
      "source": [
        "Decision Tree "
      ],
      "metadata": {
        "id": "otc4qgsuicyA"
      }
    },
    {
      "cell_type": "code",
      "source": [
        "from sklearn.tree import DecisionTreeClassifier"
      ],
      "metadata": {
        "id": "jOgzLEvpifOa"
      },
      "execution_count": 319,
      "outputs": []
    },
    {
      "cell_type": "code",
      "source": [
        "model3= DecisionTreeClassifier(random_state = 0,max_depth=4) "
      ],
      "metadata": {
        "id": "96UNoHD_iheX"
      },
      "execution_count": 320,
      "outputs": []
    },
    {
      "cell_type": "code",
      "source": [
        "model3.fit(X_train,y_train)"
      ],
      "metadata": {
        "colab": {
          "base_uri": "https://localhost:8080/"
        },
        "id": "PcRBa8uzipF8",
        "outputId": "fdd629a8-6c26-49ca-f219-fb4a1a5e45e8"
      },
      "execution_count": 321,
      "outputs": [
        {
          "output_type": "execute_result",
          "data": {
            "text/plain": [
              "DecisionTreeClassifier(max_depth=4, random_state=0)"
            ]
          },
          "metadata": {},
          "execution_count": 321
        }
      ]
    },
    {
      "cell_type": "code",
      "source": [
        "model3.score(X_train,y_train)"
      ],
      "metadata": {
        "colab": {
          "base_uri": "https://localhost:8080/"
        },
        "id": "lXFnYFXXir4j",
        "outputId": "46084c1d-9cd5-4da5-ba8c-a984db8ca4c0"
      },
      "execution_count": 322,
      "outputs": [
        {
          "output_type": "execute_result",
          "data": {
            "text/plain": [
              "0.8295681477783325"
            ]
          },
          "metadata": {},
          "execution_count": 322
        }
      ]
    },
    {
      "cell_type": "code",
      "source": [
        "model3.score(X_test,y_test)"
      ],
      "metadata": {
        "colab": {
          "base_uri": "https://localhost:8080/"
        },
        "id": "rOkK3hoDiu9l",
        "outputId": "7af52d48-70b8-4749-903f-e1bc6285f14e"
      },
      "execution_count": 323,
      "outputs": [
        {
          "output_type": "execute_result",
          "data": {
            "text/plain": [
              "0.8351586632968268"
            ]
          },
          "metadata": {},
          "execution_count": 323
        }
      ]
    },
    {
      "cell_type": "code",
      "source": [
        "y_pred3=model3.predict(X_test)\n",
        "accuracy_score(y_test,y_pred3)"
      ],
      "metadata": {
        "colab": {
          "base_uri": "https://localhost:8080/"
        },
        "id": "a7NQE6I2izT1",
        "outputId": "b3209a11-c684-4cfb-9de4-d66c5eeec98e"
      },
      "execution_count": 324,
      "outputs": [
        {
          "output_type": "execute_result",
          "data": {
            "text/plain": [
              "0.8351586632968268"
            ]
          },
          "metadata": {},
          "execution_count": 324
        }
      ]
    },
    {
      "cell_type": "markdown",
      "source": [
        "SVC"
      ],
      "metadata": {
        "id": "8FzpSF0H4g19"
      }
    },
    {
      "cell_type": "code",
      "source": [
        "from sklearn.svm import SVC"
      ],
      "metadata": {
        "id": "leHl7ifx4jEn"
      },
      "execution_count": 325,
      "outputs": []
    },
    {
      "cell_type": "code",
      "source": [
        "model4= SVC()"
      ],
      "metadata": {
        "id": "8WQhQRaa4k7-"
      },
      "execution_count": 326,
      "outputs": []
    },
    {
      "cell_type": "code",
      "source": [
        "model4.fit(X_train,y_train)"
      ],
      "metadata": {
        "colab": {
          "base_uri": "https://localhost:8080/"
        },
        "id": "97Xmadvr4sM7",
        "outputId": "45c021b9-f4e3-461c-ae15-1e8818cec128"
      },
      "execution_count": 327,
      "outputs": [
        {
          "output_type": "execute_result",
          "data": {
            "text/plain": [
              "SVC()"
            ]
          },
          "metadata": {},
          "execution_count": 327
        }
      ]
    },
    {
      "cell_type": "code",
      "source": [
        "model4.score(X_train,y_train)"
      ],
      "metadata": {
        "colab": {
          "base_uri": "https://localhost:8080/"
        },
        "id": "cE4tiS0B4yPC",
        "outputId": "a953c164-719f-4e93-817f-ae1cfd8b66ca"
      },
      "execution_count": 328,
      "outputs": [
        {
          "output_type": "execute_result",
          "data": {
            "text/plain": [
              "0.8374313529705442"
            ]
          },
          "metadata": {},
          "execution_count": 328
        }
      ]
    },
    {
      "cell_type": "code",
      "source": [
        "model4.score(X_test,y_test)"
      ],
      "metadata": {
        "colab": {
          "base_uri": "https://localhost:8080/"
        },
        "id": "unLR07-R42oF",
        "outputId": "cbdd5611-0bed-4a6a-8a01-48a037bd899b"
      },
      "execution_count": 329,
      "outputs": [
        {
          "output_type": "execute_result",
          "data": {
            "text/plain": [
              "0.8335673499953197"
            ]
          },
          "metadata": {},
          "execution_count": 329
        }
      ]
    },
    {
      "cell_type": "markdown",
      "source": [
        "SVC with standardization"
      ],
      "metadata": {
        "id": "cUXkTS-E5k1P"
      }
    },
    {
      "cell_type": "code",
      "source": [
        "model5=SVC().fit(X_train_scaled,y_train)"
      ],
      "metadata": {
        "id": "lqXqplEa5sCp"
      },
      "execution_count": 330,
      "outputs": []
    },
    {
      "cell_type": "code",
      "source": [
        "model5.score(X_train_scaled,y_train)"
      ],
      "metadata": {
        "colab": {
          "base_uri": "https://localhost:8080/"
        },
        "id": "eI0z9HQ7iFAt",
        "outputId": "b3b437f8-d744-4c46-cc8d-6aa3d5400b4a"
      },
      "execution_count": 331,
      "outputs": [
        {
          "output_type": "execute_result",
          "data": {
            "text/plain": [
              "0.8681352970544184"
            ]
          },
          "metadata": {},
          "execution_count": 331
        }
      ]
    },
    {
      "cell_type": "code",
      "source": [
        "model5.score(X_test_scaled,y_test)"
      ],
      "metadata": {
        "colab": {
          "base_uri": "https://localhost:8080/"
        },
        "id": "r5tKuEQ2iUvZ",
        "outputId": "40cc65f3-3283-4796-fe1c-82e2aec06985"
      },
      "execution_count": 332,
      "outputs": [
        {
          "output_type": "execute_result",
          "data": {
            "text/plain": [
              "0.8360947299447721"
            ]
          },
          "metadata": {},
          "execution_count": 332
        }
      ]
    },
    {
      "cell_type": "markdown",
      "source": [
        "BAGGING REGRESSION"
      ],
      "metadata": {
        "id": "B6LvBF_Vi0Mp"
      }
    },
    {
      "cell_type": "code",
      "source": [
        "from sklearn.ensemble import BaggingClassifier"
      ],
      "metadata": {
        "id": "fjURq98ji9-e"
      },
      "execution_count": 333,
      "outputs": []
    },
    {
      "cell_type": "code",
      "source": [
        "model6=BaggingClassifier(base_estimator=model3,n_estimators=50)"
      ],
      "metadata": {
        "id": "xjus7fW7nDOQ"
      },
      "execution_count": 334,
      "outputs": []
    },
    {
      "cell_type": "code",
      "source": [
        "model6.fit(X_train,y_train)"
      ],
      "metadata": {
        "colab": {
          "base_uri": "https://localhost:8080/"
        },
        "id": "SJ9yh6-FnJc9",
        "outputId": "48117362-e4e0-4c6b-8ef2-05144e5ee42d"
      },
      "execution_count": 335,
      "outputs": [
        {
          "output_type": "execute_result",
          "data": {
            "text/plain": [
              "BaggingClassifier(base_estimator=DecisionTreeClassifier(max_depth=4,\n",
              "                                                        random_state=0),\n",
              "                  n_estimators=50)"
            ]
          },
          "metadata": {},
          "execution_count": 335
        }
      ]
    },
    {
      "cell_type": "code",
      "source": [
        "model6.score(X_train,y_train)"
      ],
      "metadata": {
        "colab": {
          "base_uri": "https://localhost:8080/"
        },
        "id": "XeC51JzdnUc4",
        "outputId": "19740eb9-aaa3-445e-e77d-2082b04417a5"
      },
      "execution_count": 336,
      "outputs": [
        {
          "output_type": "execute_result",
          "data": {
            "text/plain": [
              "0.8306914628057913"
            ]
          },
          "metadata": {},
          "execution_count": 336
        }
      ]
    },
    {
      "cell_type": "code",
      "source": [
        "model6.score(X_test,y_test)"
      ],
      "metadata": {
        "colab": {
          "base_uri": "https://localhost:8080/"
        },
        "id": "C9KXDYpbnY5W",
        "outputId": "a70b1c0b-14fb-44f4-cfd2-597c99ca4b95"
      },
      "execution_count": 337,
      "outputs": [
        {
          "output_type": "execute_result",
          "data": {
            "text/plain": [
              "0.8349714499672377"
            ]
          },
          "metadata": {},
          "execution_count": 337
        }
      ]
    },
    {
      "cell_type": "markdown",
      "source": [
        "ADABOOST"
      ],
      "metadata": {
        "id": "bST6AxpWq0fG"
      }
    },
    {
      "cell_type": "code",
      "source": [
        "from sklearn.ensemble import AdaBoostClassifier"
      ],
      "metadata": {
        "id": "E5tkMlGAq5y7"
      },
      "execution_count": 338,
      "outputs": []
    },
    {
      "cell_type": "code",
      "source": [
        "model7 =AdaBoostClassifier(n_estimators=40)"
      ],
      "metadata": {
        "id": "ZrozfmSYrG9n"
      },
      "execution_count": 339,
      "outputs": []
    },
    {
      "cell_type": "code",
      "source": [
        "model7.fit(X_train,y_train)"
      ],
      "metadata": {
        "colab": {
          "base_uri": "https://localhost:8080/"
        },
        "id": "XIcMY6gdrQhX",
        "outputId": "d3f3d5fe-f20c-423e-b013-f6460a7966d7"
      },
      "execution_count": 340,
      "outputs": [
        {
          "output_type": "execute_result",
          "data": {
            "text/plain": [
              "AdaBoostClassifier(n_estimators=40)"
            ]
          },
          "metadata": {},
          "execution_count": 340
        }
      ]
    },
    {
      "cell_type": "code",
      "source": [
        "model7.score(X_train,y_train)"
      ],
      "metadata": {
        "colab": {
          "base_uri": "https://localhost:8080/"
        },
        "id": "JELhHKRbrmgF",
        "outputId": "b08ec7c7-f6ce-4459-fc11-2ea33e88485b"
      },
      "execution_count": 341,
      "outputs": [
        {
          "output_type": "execute_result",
          "data": {
            "text/plain": [
              "0.8326884672990514"
            ]
          },
          "metadata": {},
          "execution_count": 341
        }
      ]
    },
    {
      "cell_type": "code",
      "source": [
        "model7.score(X_test,y_test)"
      ],
      "metadata": {
        "colab": {
          "base_uri": "https://localhost:8080/"
        },
        "id": "vcyvel-orqtY",
        "outputId": "6f19ec51-bd9e-4186-9171-eb91ada4248b"
      },
      "execution_count": 342,
      "outputs": [
        {
          "output_type": "execute_result",
          "data": {
            "text/plain": [
              "0.8374988299166901"
            ]
          },
          "metadata": {},
          "execution_count": 342
        }
      ]
    },
    {
      "cell_type": "markdown",
      "source": [
        "GRADIENT BOOSTING"
      ],
      "metadata": {
        "id": "JNOjajbf4ktO"
      }
    },
    {
      "cell_type": "code",
      "source": [
        "from sklearn.ensemble import GradientBoostingClassifier"
      ],
      "metadata": {
        "id": "NoK2k7cy4n-v"
      },
      "execution_count": 343,
      "outputs": []
    },
    {
      "cell_type": "code",
      "source": [
        "model8=GradientBoostingClassifier()"
      ],
      "metadata": {
        "id": "XMKklybZ4zTm"
      },
      "execution_count": 344,
      "outputs": []
    },
    {
      "cell_type": "code",
      "source": [
        "model8.fit(X_train,y_train)"
      ],
      "metadata": {
        "colab": {
          "base_uri": "https://localhost:8080/"
        },
        "id": "QtH2nQdb43EY",
        "outputId": "a6e60cdf-385b-441d-fb74-7cce5d750100"
      },
      "execution_count": 345,
      "outputs": [
        {
          "output_type": "execute_result",
          "data": {
            "text/plain": [
              "GradientBoostingClassifier()"
            ]
          },
          "metadata": {},
          "execution_count": 345
        }
      ]
    },
    {
      "cell_type": "code",
      "source": [
        "model8.score(X_train,y_train)"
      ],
      "metadata": {
        "colab": {
          "base_uri": "https://localhost:8080/"
        },
        "id": "37jJwK7147v7",
        "outputId": "9437649f-be9f-41cd-b5af-1e6786420b7b"
      },
      "execution_count": 346,
      "outputs": [
        {
          "output_type": "execute_result",
          "data": {
            "text/plain": [
              "0.8433599600599101"
            ]
          },
          "metadata": {},
          "execution_count": 346
        }
      ]
    },
    {
      "cell_type": "code",
      "source": [
        "model8.score(X_test,y_test)"
      ],
      "metadata": {
        "colab": {
          "base_uri": "https://localhost:8080/"
        },
        "id": "6HiQHRZN4_Pz",
        "outputId": "15d389ab-779c-46ff-d082-54f6f2d052bf"
      },
      "execution_count": 347,
      "outputs": [
        {
          "output_type": "execute_result",
          "data": {
            "text/plain": [
              "0.8423663764860058"
            ]
          },
          "metadata": {},
          "execution_count": 347
        }
      ]
    },
    {
      "cell_type": "markdown",
      "source": [
        "RANDOM FOREST "
      ],
      "metadata": {
        "id": "ueCGORua5IiA"
      }
    },
    {
      "cell_type": "code",
      "source": [
        "from sklearn.ensemble import RandomForestClassifier"
      ],
      "metadata": {
        "id": "nIMPrQNl5Nze"
      },
      "execution_count": 348,
      "outputs": []
    },
    {
      "cell_type": "code",
      "source": [
        "model9=RandomForestClassifier(n_estimators=50,max_depth=8)"
      ],
      "metadata": {
        "id": "4-3PnLSI5UyK"
      },
      "execution_count": 349,
      "outputs": []
    },
    {
      "cell_type": "code",
      "source": [
        "model9.fit(X_train,y_train)"
      ],
      "metadata": {
        "colab": {
          "base_uri": "https://localhost:8080/"
        },
        "id": "2ygjC0fu5ZZ2",
        "outputId": "d102db42-28cf-44bd-f10e-081c6dbb7f29"
      },
      "execution_count": 350,
      "outputs": [
        {
          "output_type": "execute_result",
          "data": {
            "text/plain": [
              "RandomForestClassifier(max_depth=8, n_estimators=50)"
            ]
          },
          "metadata": {},
          "execution_count": 350
        }
      ]
    },
    {
      "cell_type": "code",
      "source": [
        "\n",
        "model9.score(X_train,y_train)"
      ],
      "metadata": {
        "colab": {
          "base_uri": "https://localhost:8080/"
        },
        "id": "lQuUcEDX5cC2",
        "outputId": "ca86f0b0-a0a3-4063-ec31-7ae52599f35f"
      },
      "execution_count": 351,
      "outputs": [
        {
          "output_type": "execute_result",
          "data": {
            "text/plain": [
              "0.8471043434847728"
            ]
          },
          "metadata": {},
          "execution_count": 351
        }
      ]
    },
    {
      "cell_type": "code",
      "source": [
        "model9.score(X_test,y_test)"
      ],
      "metadata": {
        "colab": {
          "base_uri": "https://localhost:8080/"
        },
        "id": "7yeYiGxy5jkG",
        "outputId": "6b460e30-f9cc-4ae6-f090-6c32e1e606a7"
      },
      "execution_count": 352,
      "outputs": [
        {
          "output_type": "execute_result",
          "data": {
            "text/plain": [
              "0.8325376766825798"
            ]
          },
          "metadata": {},
          "execution_count": 352
        }
      ]
    },
    {
      "cell_type": "markdown",
      "source": [
        "KNN Classifier"
      ],
      "metadata": {
        "id": "ccF1Dtb-zd1E"
      }
    },
    {
      "cell_type": "code",
      "source": [
        "from sklearn.neighbors import KNeighborsClassifier"
      ],
      "metadata": {
        "id": "lOxWpH8NzhIP"
      },
      "execution_count": 353,
      "outputs": []
    },
    {
      "cell_type": "code",
      "source": [
        "model10=KNeighborsClassifier()"
      ],
      "metadata": {
        "id": "2LckiJd4zhYm"
      },
      "execution_count": 354,
      "outputs": []
    },
    {
      "cell_type": "code",
      "source": [
        "model10.fit(X_train,y_train)"
      ],
      "metadata": {
        "colab": {
          "base_uri": "https://localhost:8080/"
        },
        "id": "tOoiQf3Vz17w",
        "outputId": "e47d8e39-593f-44a0-93fa-4326ced7e8fc"
      },
      "execution_count": 355,
      "outputs": [
        {
          "output_type": "execute_result",
          "data": {
            "text/plain": [
              "KNeighborsClassifier()"
            ]
          },
          "metadata": {},
          "execution_count": 355
        }
      ]
    },
    {
      "cell_type": "code",
      "source": [
        "model10.score(X_train,y_train)"
      ],
      "metadata": {
        "colab": {
          "base_uri": "https://localhost:8080/"
        },
        "id": "tk0wv84e0bc0",
        "outputId": "e78ecae4-05fa-41fb-ca5d-4c0588eb3e30"
      },
      "execution_count": 356,
      "outputs": [
        {
          "output_type": "execute_result",
          "data": {
            "text/plain": [
              "0.8499750374438343"
            ]
          },
          "metadata": {},
          "execution_count": 356
        }
      ]
    },
    {
      "cell_type": "code",
      "source": [
        "model10.score(X_test,y_test)"
      ],
      "metadata": {
        "colab": {
          "base_uri": "https://localhost:8080/"
        },
        "id": "NVmH1gq_0hiG",
        "outputId": "b0d6b457-db82-4a58-e174-fd9ae3462458"
      },
      "execution_count": 357,
      "outputs": [
        {
          "output_type": "execute_result",
          "data": {
            "text/plain": [
              "0.8038004305906581"
            ]
          },
          "metadata": {},
          "execution_count": 357
        }
      ]
    },
    {
      "cell_type": "markdown",
      "source": [
        "KNN with std."
      ],
      "metadata": {
        "id": "brdn6WHG9bxj"
      }
    },
    {
      "cell_type": "code",
      "source": [
        "model11=KNeighborsClassifier().fit(X_train_scaled,y_train)"
      ],
      "metadata": {
        "id": "5OLBZKuI9dMi"
      },
      "execution_count": 358,
      "outputs": []
    },
    {
      "cell_type": "code",
      "source": [
        "model11.score(X_train_scaled,y_train)"
      ],
      "metadata": {
        "colab": {
          "base_uri": "https://localhost:8080/"
        },
        "outputId": "4dd9f60a-3d47-44ab-a99c-5dac413d9962",
        "id": "1R8WchEe9wKG"
      },
      "execution_count": 359,
      "outputs": [
        {
          "output_type": "execute_result",
          "data": {
            "text/plain": [
              "0.8542810783824264"
            ]
          },
          "metadata": {},
          "execution_count": 359
        }
      ]
    },
    {
      "cell_type": "code",
      "source": [
        "model11.score(X_test_scaled,y_test)"
      ],
      "metadata": {
        "colab": {
          "base_uri": "https://localhost:8080/"
        },
        "outputId": "25b63e3d-28ed-4e8b-c801-698ef3f56330",
        "id": "Zv_kU0O89wKH"
      },
      "execution_count": 360,
      "outputs": [
        {
          "output_type": "execute_result",
          "data": {
            "text/plain": [
              "0.8035196105962744"
            ]
          },
          "metadata": {},
          "execution_count": 360
        }
      ]
    },
    {
      "cell_type": "code",
      "source": [],
      "metadata": {
        "id": "2VaMk0Y990Sw"
      },
      "execution_count": 360,
      "outputs": []
    },
    {
      "cell_type": "markdown",
      "source": [
        "Naive Bayes"
      ],
      "metadata": {
        "id": "3fWh05T3AU-z"
      }
    },
    {
      "cell_type": "code",
      "source": [
        "from sklearn.naive_bayes import GaussianNB"
      ],
      "metadata": {
        "id": "E0saT-2XAW5B"
      },
      "execution_count": 361,
      "outputs": []
    },
    {
      "cell_type": "code",
      "source": [
        "model12=GaussianNB()"
      ],
      "metadata": {
        "id": "znZ3e3snAX02"
      },
      "execution_count": 362,
      "outputs": []
    },
    {
      "cell_type": "code",
      "source": [
        "model12.fit(X_train, y_train)"
      ],
      "metadata": {
        "id": "SW2ell_QAeo2",
        "outputId": "4faebbca-0ab4-42e9-ac91-d87064faa28a",
        "colab": {
          "base_uri": "https://localhost:8080/"
        }
      },
      "execution_count": 363,
      "outputs": [
        {
          "output_type": "execute_result",
          "data": {
            "text/plain": [
              "GaussianNB()"
            ]
          },
          "metadata": {},
          "execution_count": 363
        }
      ]
    },
    {
      "cell_type": "code",
      "source": [
        "model12.score(X_train,y_train)"
      ],
      "metadata": {
        "colab": {
          "base_uri": "https://localhost:8080/"
        },
        "outputId": "141ba7f3-6ef2-4893-82a5-f4ab896a9f62",
        "id": "0_5EdAEgArQv"
      },
      "execution_count": 364,
      "outputs": [
        {
          "output_type": "execute_result",
          "data": {
            "text/plain": [
              "0.7667249126310535"
            ]
          },
          "metadata": {},
          "execution_count": 364
        }
      ]
    },
    {
      "cell_type": "code",
      "source": [
        "model12.score(X_test,y_test)"
      ],
      "metadata": {
        "colab": {
          "base_uri": "https://localhost:8080/"
        },
        "outputId": "29273462-6b14-43ab-8a60-dad1401c90e3",
        "id": "fa1wHKsHArQw"
      },
      "execution_count": 365,
      "outputs": [
        {
          "output_type": "execute_result",
          "data": {
            "text/plain": [
              "0.7673874379855846"
            ]
          },
          "metadata": {},
          "execution_count": 365
        }
      ]
    },
    {
      "cell_type": "markdown",
      "source": [
        "Naive Bayes with std"
      ],
      "metadata": {
        "id": "r0jruDbfB8Zg"
      }
    },
    {
      "cell_type": "code",
      "source": [
        "model13=GaussianNB().fit(X_train_scaled,y_train)"
      ],
      "metadata": {
        "id": "qjH9rgBGB-1L"
      },
      "execution_count": 366,
      "outputs": []
    },
    {
      "cell_type": "code",
      "source": [
        "model13.score(X_train_scaled,y_train)"
      ],
      "metadata": {
        "colab": {
          "base_uri": "https://localhost:8080/"
        },
        "outputId": "16038f04-c6e3-4dac-87ac-8481cbf197f7",
        "id": "t9l0CSUdCkNi"
      },
      "execution_count": 367,
      "outputs": [
        {
          "output_type": "execute_result",
          "data": {
            "text/plain": [
              "0.7667249126310535"
            ]
          },
          "metadata": {},
          "execution_count": 367
        }
      ]
    },
    {
      "cell_type": "code",
      "source": [
        "model13.score(X_test_scaled,y_test)"
      ],
      "metadata": {
        "colab": {
          "base_uri": "https://localhost:8080/"
        },
        "outputId": "e1488418-f99d-432c-fcc7-f92648d02001",
        "id": "hGCFFFpoCkNv"
      },
      "execution_count": 368,
      "outputs": [
        {
          "output_type": "execute_result",
          "data": {
            "text/plain": [
              "0.7673874379855846"
            ]
          },
          "metadata": {},
          "execution_count": 368
        }
      ]
    },
    {
      "cell_type": "markdown",
      "source": [
        "![Screenshot (197).png](data:image/png;base64,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)"
      ],
      "metadata": {
        "id": "EK4FzlMFFcd_"
      }
    }
  ]
}